{
 "cells": [
  {
   "cell_type": "markdown",
   "source": [
    "# StackingClassifier\n",
    "\n"
   ],
   "metadata": {
    "collapsed": false
   }
  },
  {
   "cell_type": "code",
   "execution_count": 8,
   "outputs": [],
   "source": [
    "from sklearn.ensemble import StackingClassifier\n",
    "\n",
    "import sys\n",
    "sys.path.append(\"../../my-staff\")\n",
    "from utils import pipline_evaluation\n",
    "from database import load_ds, load_params\n",
    "from globals import SEED\n",
    "from sklearn.linear_model import LogisticRegression\n",
    "from sklearn.svm import SVC\n",
    "from sklearn.tree import DecisionTreeClassifier"
   ],
   "metadata": {
    "collapsed": false,
    "ExecuteTime": {
     "end_time": "2023-11-18T22:16:58.756458713Z",
     "start_time": "2023-11-18T22:16:58.712448156Z"
    }
   }
  },
  {
   "cell_type": "markdown",
   "source": [
    "# Load dataset"
   ],
   "metadata": {
    "collapsed": false
   }
  },
  {
   "cell_type": "code",
   "execution_count": 9,
   "outputs": [
    {
     "data": {
      "text/plain": "(293, 25)"
     },
     "execution_count": 9,
     "metadata": {},
     "output_type": "execute_result"
    }
   ],
   "source": [
    "X, y, features_names, class_names = load_ds(\"all\")\n",
    "X.shape"
   ],
   "metadata": {
    "collapsed": false,
    "ExecuteTime": {
     "end_time": "2023-11-18T22:16:59.333494805Z",
     "start_time": "2023-11-18T22:16:59.328821557Z"
    }
   }
  },
  {
   "cell_type": "code",
   "execution_count": 10,
   "outputs": [],
   "source": [
    "# Definir los clasificadores base\n",
    "base_classifiers = [\n",
    "    ('svm', SVC()),\n",
    "    ('dt', DecisionTreeClassifier())\n",
    "]\n",
    "\n",
    "final_classifier = LogisticRegression()\n",
    "\n",
    "# Crear el StackingClassifier\n",
    "model = StackingClassifier(estimators=base_classifiers, final_estimator=final_classifier)"
   ],
   "metadata": {
    "collapsed": false,
    "ExecuteTime": {
     "end_time": "2023-11-18T22:16:59.758836727Z",
     "start_time": "2023-11-18T22:16:59.745311149Z"
    }
   }
  },
  {
   "cell_type": "markdown",
   "source": [
    "## ALL"
   ],
   "metadata": {
    "collapsed": false
   }
  },
  {
   "cell_type": "code",
   "execution_count": 11,
   "outputs": [],
   "source": [
    "params = load_params(\"StackingClassifier\")"
   ],
   "metadata": {
    "collapsed": false,
    "ExecuteTime": {
     "end_time": "2023-11-18T22:17:00.929722237Z",
     "start_time": "2023-11-18T22:17:00.927142868Z"
    }
   }
  },
  {
   "cell_type": "code",
   "execution_count": 12,
   "outputs": [
    {
     "data": {
      "text/plain": "{'svm__C': [0.1, 1, 10],\n 'dt__max_depth': [3, 5, 7],\n 'final_estimator__C': [0.1, 1, 10]}"
     },
     "execution_count": 12,
     "metadata": {},
     "output_type": "execute_result"
    }
   ],
   "source": [
    "params"
   ],
   "metadata": {
    "collapsed": false,
    "ExecuteTime": {
     "end_time": "2023-11-18T22:17:01.855248092Z",
     "start_time": "2023-11-18T22:17:01.850252957Z"
    }
   }
  },
  {
   "cell_type": "code",
   "execution_count": 13,
   "outputs": [
    {
     "name": "stdout",
     "output_type": "stream",
     "text": [
      "----------------------------------------\n",
      "GridSearchCV f1 0.6719891530351104 {'dt__max_depth': 3, 'final_estimator__C': 0.1, 'svm__C': 1}\n",
      "Train classes: [134 100]\n",
      "Test classes: [34 25]\n",
      "----------------------------------------\n",
      "Métricas de evaluación:\n",
      "Precision: 0.9474\n",
      "Recall: 0.7200\n",
      "F1-score: 0.8182\n",
      "Brier Score: 0.1361\n",
      "----------------------------------------\n",
      "GridSearchCV f1 0.7210798034436838 {'dt__max_depth': 5, 'final_estimator__C': 10, 'svm__C': 0.1}\n",
      "Train classes: [134 100]\n",
      "Test classes: [34 25]\n",
      "----------------------------------------\n",
      "Métricas de evaluación:\n",
      "Precision: 0.7778\n",
      "Recall: 0.5600\n",
      "F1-score: 0.6512\n",
      "Brier Score: 0.2074\n",
      "----------------------------------------\n",
      "GridSearchCV f1 0.6563512146517654 {'dt__max_depth': 7, 'final_estimator__C': 10, 'svm__C': 0.1}\n",
      "Train classes: [134 100]\n",
      "Test classes: [34 25]\n",
      "----------------------------------------\n",
      "Métricas de evaluación:\n",
      "Precision: 0.8500\n",
      "Recall: 0.6800\n",
      "F1-score: 0.7556\n",
      "Brier Score: 0.1592\n",
      "----------------------------------------\n",
      "GridSearchCV f1 0.7093948968462921 {'dt__max_depth': 3, 'final_estimator__C': 10, 'svm__C': 0.1}\n",
      "Train classes: [135 100]\n",
      "Test classes: [33 25]\n",
      "----------------------------------------\n",
      "Métricas de evaluación:\n",
      "Precision: 0.8095\n",
      "Recall: 0.6800\n",
      "F1-score: 0.7391\n",
      "Brier Score: 0.1582\n",
      "----------------------------------------\n",
      "GridSearchCV f1 0.6791710677596958 {'dt__max_depth': 7, 'final_estimator__C': 10, 'svm__C': 0.1}\n",
      "Train classes: [135 100]\n",
      "Test classes: [33 25]\n",
      "----------------------------------------\n",
      "Métricas de evaluación:\n",
      "Precision: 0.6957\n",
      "Recall: 0.6400\n",
      "F1-score: 0.6667\n",
      "Brier Score: 0.1908\n",
      "0.7261 \\pm 0.06\n",
      "0.1704 \\pm 0.03\n"
     ]
    }
   ],
   "source": [
    "results_all = pipline_evaluation(X.values, y, model, params)"
   ],
   "metadata": {
    "collapsed": false,
    "ExecuteTime": {
     "end_time": "2023-11-18T22:17:08.196587810Z",
     "start_time": "2023-11-18T22:17:04.623836058Z"
    }
   }
  },
  {
   "cell_type": "code",
   "execution_count": 14,
   "outputs": [
    {
     "name": "stdout",
     "output_type": "stream",
     "text": [
      "$0.7261 \\pm 0.06$ & $0.1704 \\pm 0.03$ &\n"
     ]
    }
   ],
   "source": [
    "print(results_all)"
   ],
   "metadata": {
    "collapsed": false,
    "ExecuteTime": {
     "end_time": "2023-11-18T22:17:16.812322199Z",
     "start_time": "2023-11-18T22:17:16.794872192Z"
    }
   }
  },
  {
   "cell_type": "markdown",
   "source": [
    "## Univar"
   ],
   "metadata": {
    "collapsed": false
   }
  },
  {
   "cell_type": "code",
   "execution_count": 15,
   "outputs": [],
   "source": [
    "X_uni, y_uni, features_names_uni, class_names_uni = load_ds(\"univariant_15\")\n"
   ],
   "metadata": {
    "collapsed": false,
    "ExecuteTime": {
     "end_time": "2023-11-18T22:17:17.162469915Z",
     "start_time": "2023-11-18T22:17:17.159543435Z"
    }
   }
  },
  {
   "cell_type": "code",
   "execution_count": 16,
   "outputs": [
    {
     "name": "stdout",
     "output_type": "stream",
     "text": [
      "----------------------------------------\n",
      "GridSearchCV f1 0.6574400543067472 {'dt__max_depth': 3, 'final_estimator__C': 0.1, 'svm__C': 1}\n",
      "Train classes: [134 100]\n",
      "Test classes: [34 25]\n",
      "----------------------------------------\n",
      "Métricas de evaluación:\n",
      "Precision: 0.9000\n",
      "Recall: 0.7200\n",
      "F1-score: 0.8000\n",
      "Brier Score: 0.1419\n",
      "----------------------------------------\n",
      "GridSearchCV f1 0.727664472615329 {'dt__max_depth': 5, 'final_estimator__C': 1, 'svm__C': 0.1}\n",
      "Train classes: [134 100]\n",
      "Test classes: [34 25]\n",
      "----------------------------------------\n",
      "Métricas de evaluación:\n",
      "Precision: 0.7647\n",
      "Recall: 0.5200\n",
      "F1-score: 0.6190\n",
      "Brier Score: 0.1989\n",
      "----------------------------------------\n",
      "GridSearchCV f1 0.6424371101959688 {'dt__max_depth': 5, 'final_estimator__C': 1, 'svm__C': 0.1}\n",
      "Train classes: [134 100]\n",
      "Test classes: [34 25]\n",
      "----------------------------------------\n",
      "Métricas de evaluación:\n",
      "Precision: 0.8500\n",
      "Recall: 0.6800\n",
      "F1-score: 0.7556\n",
      "Brier Score: 0.1522\n",
      "----------------------------------------\n",
      "GridSearchCV f1 0.7122383498854088 {'dt__max_depth': 3, 'final_estimator__C': 10, 'svm__C': 0.1}\n",
      "Train classes: [135 100]\n",
      "Test classes: [33 25]\n",
      "----------------------------------------\n",
      "Métricas de evaluación:\n",
      "Precision: 0.8000\n",
      "Recall: 0.6400\n",
      "F1-score: 0.7111\n",
      "Brier Score: 0.1546\n",
      "----------------------------------------\n",
      "GridSearchCV f1 0.6626047878316481 {'dt__max_depth': 3, 'final_estimator__C': 1, 'svm__C': 0.1}\n",
      "Train classes: [135 100]\n",
      "Test classes: [33 25]\n",
      "----------------------------------------\n",
      "Métricas de evaluación:\n",
      "Precision: 0.7273\n",
      "Recall: 0.6400\n",
      "F1-score: 0.6809\n",
      "Brier Score: 0.1892\n",
      "0.7133 \\pm 0.06\n",
      "0.1674 \\pm 0.02\n"
     ]
    }
   ],
   "source": [
    "results_uni = pipline_evaluation(X_uni.values, y_uni, model, params)"
   ],
   "metadata": {
    "collapsed": false,
    "ExecuteTime": {
     "end_time": "2023-11-18T22:17:20.165426703Z",
     "start_time": "2023-11-18T22:17:17.372612125Z"
    }
   }
  },
  {
   "cell_type": "code",
   "execution_count": 17,
   "outputs": [
    {
     "name": "stdout",
     "output_type": "stream",
     "text": [
      "$0.7133 \\pm 0.06$ & $0.1674 \\pm 0.02$ &\n"
     ]
    }
   ],
   "source": [
    "print(results_uni)"
   ],
   "metadata": {
    "collapsed": false,
    "ExecuteTime": {
     "end_time": "2023-11-18T22:17:20.232567993Z",
     "start_time": "2023-11-18T22:17:20.167307223Z"
    }
   }
  },
  {
   "cell_type": "markdown",
   "source": [
    "# Multi"
   ],
   "metadata": {
    "collapsed": false
   }
  },
  {
   "cell_type": "code",
   "execution_count": 18,
   "outputs": [
    {
     "data": {
      "text/plain": "(293, 15)"
     },
     "execution_count": 18,
     "metadata": {},
     "output_type": "execute_result"
    }
   ],
   "source": [
    "X_mult, y_mult, features_names_mult, class_names_mult = load_ds(\"multivariant_15\")\n",
    "\n",
    "X_mult.shape"
   ],
   "metadata": {
    "collapsed": false,
    "ExecuteTime": {
     "end_time": "2023-11-18T22:17:20.233258293Z",
     "start_time": "2023-11-18T22:17:20.220288297Z"
    }
   }
  },
  {
   "cell_type": "code",
   "execution_count": 19,
   "outputs": [
    {
     "name": "stdout",
     "output_type": "stream",
     "text": [
      "----------------------------------------\n",
      "GridSearchCV f1 0.6606107860140644 {'dt__max_depth': 3, 'final_estimator__C': 0.1, 'svm__C': 1}\n",
      "Train classes: [134 100]\n",
      "Test classes: [34 25]\n",
      "----------------------------------------\n",
      "Métricas de evaluación:\n",
      "Precision: 0.9000\n",
      "Recall: 0.7200\n",
      "F1-score: 0.8000\n",
      "Brier Score: 0.1405\n",
      "----------------------------------------\n",
      "GridSearchCV f1 0.7264477688116492 {'dt__max_depth': 3, 'final_estimator__C': 10, 'svm__C': 0.1}\n",
      "Train classes: [134 100]\n",
      "Test classes: [34 25]\n",
      "----------------------------------------\n",
      "Métricas de evaluación:\n",
      "Precision: 0.7222\n",
      "Recall: 0.5200\n",
      "F1-score: 0.6047\n",
      "Brier Score: 0.2014\n",
      "----------------------------------------\n",
      "GridSearchCV f1 0.642371549268101 {'dt__max_depth': 5, 'final_estimator__C': 0.1, 'svm__C': 1}\n",
      "Train classes: [134 100]\n",
      "Test classes: [34 25]\n",
      "----------------------------------------\n",
      "Métricas de evaluación:\n",
      "Precision: 0.9412\n",
      "Recall: 0.6400\n",
      "F1-score: 0.7619\n",
      "Brier Score: 0.1630\n",
      "----------------------------------------\n",
      "GridSearchCV f1 0.7122383498854088 {'dt__max_depth': 3, 'final_estimator__C': 1, 'svm__C': 0.1}\n",
      "Train classes: [135 100]\n",
      "Test classes: [33 25]\n",
      "----------------------------------------\n",
      "Métricas de evaluación:\n",
      "Precision: 0.7619\n",
      "Recall: 0.6400\n",
      "F1-score: 0.6957\n",
      "Brier Score: 0.1535\n",
      "----------------------------------------\n",
      "GridSearchCV f1 0.6801475591520086 {'dt__max_depth': 3, 'final_estimator__C': 10, 'svm__C': 0.1}\n",
      "Train classes: [135 100]\n",
      "Test classes: [33 25]\n",
      "----------------------------------------\n",
      "Métricas de evaluación:\n",
      "Precision: 0.7273\n",
      "Recall: 0.6400\n",
      "F1-score: 0.6809\n",
      "Brier Score: 0.1887\n",
      "0.7086 \\pm 0.07\n",
      "0.1694 \\pm 0.02\n"
     ]
    }
   ],
   "source": [
    "results_multi = pipline_evaluation(X_mult.values, y_mult, model, params)"
   ],
   "metadata": {
    "collapsed": false,
    "ExecuteTime": {
     "end_time": "2023-11-18T22:17:23.186167563Z",
     "start_time": "2023-11-18T22:17:20.220628585Z"
    }
   }
  },
  {
   "cell_type": "code",
   "execution_count": 20,
   "outputs": [
    {
     "name": "stdout",
     "output_type": "stream",
     "text": [
      "$0.7086 \\pm 0.07$ & $0.1694 \\pm 0.02$ &\n"
     ]
    }
   ],
   "source": [
    "print(results_multi)"
   ],
   "metadata": {
    "collapsed": false,
    "ExecuteTime": {
     "end_time": "2023-11-18T22:17:23.190047878Z",
     "start_time": "2023-11-18T22:17:23.186441632Z"
    }
   }
  },
  {
   "cell_type": "markdown",
   "source": [
    "## Wrapper\n"
   ],
   "metadata": {
    "collapsed": false
   }
  },
  {
   "cell_type": "code",
   "execution_count": 21,
   "outputs": [],
   "source": [
    "from utils import wrapper_ds"
   ],
   "metadata": {
    "collapsed": false,
    "ExecuteTime": {
     "end_time": "2023-11-18T22:17:23.226354521Z",
     "start_time": "2023-11-18T22:17:23.190652331Z"
    }
   }
  },
  {
   "cell_type": "code",
   "execution_count": 22,
   "outputs": [
    {
     "name": "stdout",
     "output_type": "stream",
     "text": [
      "Index(['Age', 'Bilirubin', 'Cholesterol', 'Albumin', 'Copper', 'SGOT',\n",
      "       'Platelets', 'Prothrombin', 'Spiders_N', 'Spiders_Y', 'Ascites_N',\n",
      "       'Edema_N', 'Edema_S', 'Edema_Y', 'Sex_M'],\n",
      "      dtype='object')\n"
     ]
    }
   ],
   "source": [
    "x_wrapper = wrapper_ds(X, y, model, 15)"
   ],
   "metadata": {
    "collapsed": false,
    "ExecuteTime": {
     "end_time": "2023-11-18T22:17:33.044861398Z",
     "start_time": "2023-11-18T22:17:23.210743531Z"
    }
   }
  },
  {
   "cell_type": "code",
   "execution_count": 23,
   "outputs": [
    {
     "name": "stdout",
     "output_type": "stream",
     "text": [
      "----------------------------------------\n",
      "GridSearchCV f1 0.7183037768404461 {'dt__max_depth': 3, 'final_estimator__C': 10, 'svm__C': 0.1}\n",
      "Train classes: [134 100]\n",
      "Test classes: [34 25]\n",
      "----------------------------------------\n",
      "Métricas de evaluación:\n",
      "Precision: 0.9474\n",
      "Recall: 0.7200\n",
      "F1-score: 0.8182\n",
      "Brier Score: 0.1140\n",
      "----------------------------------------\n",
      "GridSearchCV f1 0.7393847025425972 {'dt__max_depth': 3, 'final_estimator__C': 1, 'svm__C': 0.1}\n",
      "Train classes: [134 100]\n",
      "Test classes: [34 25]\n",
      "----------------------------------------\n",
      "Métricas de evaluación:\n",
      "Precision: 0.8750\n",
      "Recall: 0.5600\n",
      "F1-score: 0.6829\n",
      "Brier Score: 0.1660\n",
      "----------------------------------------\n",
      "GridSearchCV f1 0.7479864850596558 {'dt__max_depth': 3, 'final_estimator__C': 1, 'svm__C': 0.1}\n",
      "Train classes: [134 100]\n",
      "Test classes: [34 25]\n",
      "----------------------------------------\n",
      "Métricas de evaluación:\n",
      "Precision: 0.7143\n",
      "Recall: 0.8000\n",
      "F1-score: 0.7547\n",
      "Brier Score: 0.1886\n",
      "----------------------------------------\n",
      "GridSearchCV f1 0.744347308048886 {'dt__max_depth': 5, 'final_estimator__C': 1, 'svm__C': 0.1}\n",
      "Train classes: [135 100]\n",
      "Test classes: [33 25]\n",
      "----------------------------------------\n",
      "Métricas de evaluación:\n",
      "Precision: 0.7407\n",
      "Recall: 0.8000\n",
      "F1-score: 0.7692\n",
      "Brier Score: 0.1685\n",
      "----------------------------------------\n",
      "GridSearchCV f1 0.7295735303107123 {'dt__max_depth': 3, 'final_estimator__C': 1, 'svm__C': 10}\n",
      "Train classes: [135 100]\n",
      "Test classes: [33 25]\n",
      "----------------------------------------\n",
      "Métricas de evaluación:\n",
      "Precision: 0.7500\n",
      "Recall: 0.7200\n",
      "F1-score: 0.7347\n",
      "Brier Score: 0.1777\n",
      "0.7520 \\pm 0.04\n",
      "0.1630 \\pm 0.03\n"
     ]
    }
   ],
   "source": [
    "results_wrapper = pipline_evaluation(x_wrapper, y, model, params)"
   ],
   "metadata": {
    "collapsed": false,
    "ExecuteTime": {
     "end_time": "2023-11-18T22:17:36.149620128Z",
     "start_time": "2023-11-18T22:17:33.046617249Z"
    }
   }
  },
  {
   "cell_type": "code",
   "execution_count": 24,
   "outputs": [
    {
     "name": "stdout",
     "output_type": "stream",
     "text": [
      "$0.7520 \\pm 0.04$ & $0.1630 \\pm 0.03$ &\n"
     ]
    }
   ],
   "source": [
    "print(results_wrapper)"
   ],
   "metadata": {
    "collapsed": false,
    "ExecuteTime": {
     "end_time": "2023-11-18T22:17:36.154393178Z",
     "start_time": "2023-11-18T22:17:36.150701830Z"
    }
   }
  },
  {
   "cell_type": "code",
   "execution_count": 2,
   "outputs": [
    {
     "data": {
      "text/plain": "['Age',\n 'Albumin',\n 'Ascites_N',\n 'Bilirubin',\n 'Cholesterol',\n 'Copper',\n 'Edema_N',\n 'Edema_S',\n 'Edema_Y',\n 'Platelets',\n 'Prothrombin',\n 'SGOT',\n 'Sex_M',\n 'Spiders_N',\n 'Spiders_Y']"
     },
     "execution_count": 2,
     "metadata": {},
     "output_type": "execute_result"
    }
   ],
   "source": [
    "sorted(['Age', 'Bilirubin', 'Cholesterol', 'Albumin', 'Copper', 'SGOT',\n",
    "       'Platelets', 'Prothrombin', 'Spiders_N', 'Spiders_Y', 'Ascites_N',\n",
    "       'Edema_N', 'Edema_S', 'Edema_Y', 'Sex_M'])"
   ],
   "metadata": {
    "collapsed": false,
    "ExecuteTime": {
     "end_time": "2023-11-19T08:02:16.571809562Z",
     "start_time": "2023-11-19T08:02:16.567593202Z"
    }
   }
  },
  {
   "cell_type": "code",
   "execution_count": null,
   "outputs": [],
   "source": [],
   "metadata": {
    "collapsed": false
   }
  }
 ],
 "metadata": {
  "kernelspec": {
   "display_name": "Python 3",
   "language": "python",
   "name": "python3"
  },
  "language_info": {
   "codemirror_mode": {
    "name": "ipython",
    "version": 2
   },
   "file_extension": ".py",
   "mimetype": "text/x-python",
   "name": "python",
   "nbconvert_exporter": "python",
   "pygments_lexer": "ipython2",
   "version": "2.7.6"
  }
 },
 "nbformat": 4,
 "nbformat_minor": 0
}
