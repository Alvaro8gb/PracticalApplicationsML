{
 "cells": [
  {
   "cell_type": "markdown",
   "source": [
    "# Ada Boost Classifier\n"
   ],
   "metadata": {
    "collapsed": false
   }
  },
  {
   "cell_type": "code",
   "execution_count": 7,
   "outputs": [],
   "source": [
    "from sklearn.ensemble import AdaBoostClassifier\n",
    "\n",
    "import sys\n",
    "sys.path.append(\"../../my-staff\")\n",
    "from utils import pipline_evaluation\n",
    "from database import load_ds, load_params\n",
    "from globals import SEED"
   ],
   "metadata": {
    "collapsed": false,
    "ExecuteTime": {
     "end_time": "2023-11-18T21:41:13.275378608Z",
     "start_time": "2023-11-18T21:41:13.228935341Z"
    }
   }
  },
  {
   "cell_type": "markdown",
   "source": [
    "# Load dataset"
   ],
   "metadata": {
    "collapsed": false
   }
  },
  {
   "cell_type": "code",
   "execution_count": 8,
   "outputs": [
    {
     "data": {
      "text/plain": "(293, 25)"
     },
     "execution_count": 8,
     "metadata": {},
     "output_type": "execute_result"
    }
   ],
   "source": [
    "X, y, features_names, class_names = load_ds(\"all\")\n",
    "X.shape"
   ],
   "metadata": {
    "collapsed": false,
    "ExecuteTime": {
     "end_time": "2023-11-18T21:41:13.796078054Z",
     "start_time": "2023-11-18T21:41:13.780963048Z"
    }
   }
  },
  {
   "cell_type": "code",
   "execution_count": 9,
   "outputs": [],
   "source": [
    "model = AdaBoostClassifier(random_state=SEED)"
   ],
   "metadata": {
    "collapsed": false,
    "ExecuteTime": {
     "end_time": "2023-11-18T21:41:14.275678944Z",
     "start_time": "2023-11-18T21:41:14.247311881Z"
    }
   }
  },
  {
   "cell_type": "markdown",
   "source": [
    "## ALL"
   ],
   "metadata": {
    "collapsed": false
   }
  },
  {
   "cell_type": "code",
   "execution_count": 10,
   "outputs": [],
   "source": [
    "params = load_params(\"AdaBoostClassifier\")"
   ],
   "metadata": {
    "collapsed": false,
    "ExecuteTime": {
     "end_time": "2023-11-18T21:41:15.104978365Z",
     "start_time": "2023-11-18T21:41:15.077164229Z"
    }
   }
  },
  {
   "cell_type": "code",
   "execution_count": 11,
   "outputs": [
    {
     "data": {
      "text/plain": "{'n_estimators': [50, 70, 90],\n 'learning_rate': [0.01, 0.1],\n 'algorithm': ['SAMME', 'SAMME.R']}"
     },
     "execution_count": 11,
     "metadata": {},
     "output_type": "execute_result"
    }
   ],
   "source": [
    "params"
   ],
   "metadata": {
    "collapsed": false,
    "ExecuteTime": {
     "end_time": "2023-11-18T21:41:15.705159926Z",
     "start_time": "2023-11-18T21:41:15.677052551Z"
    }
   }
  },
  {
   "cell_type": "code",
   "execution_count": 12,
   "outputs": [
    {
     "name": "stdout",
     "output_type": "stream",
     "text": [
      "----------------------------------------\n",
      "GridSearchCV f1 0.7075227055106458 {'algorithm': 'SAMME.R', 'learning_rate': 0.1, 'n_estimators': 70}\n",
      "Train classes: [134 100]\n",
      "Test classes: [34 25]\n",
      "----------------------------------------\n",
      "Métricas de evaluación:\n",
      "Precision: 0.9474\n",
      "Recall: 0.7200\n",
      "F1-score: 0.8182\n",
      "Brier Score: 0.1919\n",
      "----------------------------------------\n",
      "GridSearchCV f1 0.7277463712757831 {'algorithm': 'SAMME.R', 'learning_rate': 0.1, 'n_estimators': 90}\n",
      "Train classes: [134 100]\n",
      "Test classes: [34 25]\n",
      "----------------------------------------\n",
      "Métricas de evaluación:\n",
      "Precision: 0.8333\n",
      "Recall: 0.6000\n",
      "F1-score: 0.6977\n",
      "Brier Score: 0.2067\n",
      "----------------------------------------\n",
      "GridSearchCV f1 0.7500740590214274 {'algorithm': 'SAMME.R', 'learning_rate': 0.1, 'n_estimators': 90}\n",
      "Train classes: [134 100]\n",
      "Test classes: [34 25]\n",
      "----------------------------------------\n",
      "Métricas de evaluación:\n",
      "Precision: 0.7727\n",
      "Recall: 0.6800\n",
      "F1-score: 0.7234\n",
      "Brier Score: 0.1943\n",
      "----------------------------------------\n",
      "GridSearchCV f1 0.7335718697420825 {'algorithm': 'SAMME.R', 'learning_rate': 0.1, 'n_estimators': 70}\n",
      "Train classes: [135 100]\n",
      "Test classes: [33 25]\n",
      "----------------------------------------\n",
      "Métricas de evaluación:\n",
      "Precision: 0.8889\n",
      "Recall: 0.6400\n",
      "F1-score: 0.7442\n",
      "Brier Score: 0.1943\n",
      "----------------------------------------\n",
      "GridSearchCV f1 0.6886800754242615 {'algorithm': 'SAMME.R', 'learning_rate': 0.01, 'n_estimators': 90}\n",
      "Train classes: [135 100]\n",
      "Test classes: [33 25]\n",
      "----------------------------------------\n",
      "Métricas de evaluación:\n",
      "Precision: 0.6400\n",
      "Recall: 0.6400\n",
      "F1-score: 0.6400\n",
      "Brier Score: 0.1986\n",
      "0.7247 \\pm 0.06\n",
      "0.1972 \\pm 0.01\n"
     ]
    }
   ],
   "source": [
    "results_all = pipline_evaluation(X.values, y, model, params)"
   ],
   "metadata": {
    "collapsed": false,
    "ExecuteTime": {
     "end_time": "2023-11-18T21:41:33.685436749Z",
     "start_time": "2023-11-18T21:41:17.143476240Z"
    }
   }
  },
  {
   "cell_type": "code",
   "execution_count": 13,
   "outputs": [
    {
     "name": "stdout",
     "output_type": "stream",
     "text": [
      "$0.7247 \\pm 0.06$ & $0.1972 \\pm 0.01$ &\n"
     ]
    }
   ],
   "source": [
    "print(results_all)"
   ],
   "metadata": {
    "collapsed": false,
    "ExecuteTime": {
     "end_time": "2023-11-18T21:41:34.076155660Z",
     "start_time": "2023-11-18T21:41:34.056254543Z"
    }
   }
  },
  {
   "cell_type": "markdown",
   "source": [
    "## Univar"
   ],
   "metadata": {
    "collapsed": false
   }
  },
  {
   "cell_type": "code",
   "execution_count": 14,
   "outputs": [],
   "source": [
    "X_uni, y_uni, features_names_uni, class_names_uni = load_ds(\"univariant_15\")\n"
   ],
   "metadata": {
    "collapsed": false,
    "ExecuteTime": {
     "end_time": "2023-11-18T21:41:35.590793988Z",
     "start_time": "2023-11-18T21:41:35.578408885Z"
    }
   }
  },
  {
   "cell_type": "code",
   "execution_count": 15,
   "outputs": [
    {
     "name": "stdout",
     "output_type": "stream",
     "text": [
      "----------------------------------------\n",
      "GridSearchCV f1 0.707852573317469 {'algorithm': 'SAMME.R', 'learning_rate': 0.1, 'n_estimators': 70}\n",
      "Train classes: [134 100]\n",
      "Test classes: [34 25]\n",
      "----------------------------------------\n",
      "Métricas de evaluación:\n",
      "Precision: 0.9500\n",
      "Recall: 0.7600\n",
      "F1-score: 0.8444\n",
      "Brier Score: 0.1897\n",
      "----------------------------------------\n",
      "GridSearchCV f1 0.7306340718105424 {'algorithm': 'SAMME.R', 'learning_rate': 0.1, 'n_estimators': 90}\n",
      "Train classes: [134 100]\n",
      "Test classes: [34 25]\n",
      "----------------------------------------\n",
      "Métricas de evaluación:\n",
      "Precision: 0.8824\n",
      "Recall: 0.6000\n",
      "F1-score: 0.7143\n",
      "Brier Score: 0.2044\n",
      "----------------------------------------\n",
      "GridSearchCV f1 0.7666332497911446 {'algorithm': 'SAMME.R', 'learning_rate': 0.1, 'n_estimators': 70}\n",
      "Train classes: [134 100]\n",
      "Test classes: [34 25]\n",
      "----------------------------------------\n",
      "Métricas de evaluación:\n",
      "Precision: 0.8636\n",
      "Recall: 0.7600\n",
      "F1-score: 0.8085\n",
      "Brier Score: 0.1828\n",
      "----------------------------------------\n",
      "GridSearchCV f1 0.7266810966810967 {'algorithm': 'SAMME.R', 'learning_rate': 0.1, 'n_estimators': 50}\n",
      "Train classes: [135 100]\n",
      "Test classes: [33 25]\n",
      "----------------------------------------\n",
      "Métricas de evaluación:\n",
      "Precision: 0.8750\n",
      "Recall: 0.5600\n",
      "F1-score: 0.6829\n",
      "Brier Score: 0.1902\n",
      "----------------------------------------\n",
      "GridSearchCV f1 0.6886800754242615 {'algorithm': 'SAMME.R', 'learning_rate': 0.01, 'n_estimators': 90}\n",
      "Train classes: [135 100]\n",
      "Test classes: [33 25]\n",
      "----------------------------------------\n",
      "Métricas de evaluación:\n",
      "Precision: 0.6400\n",
      "Recall: 0.6400\n",
      "F1-score: 0.6400\n",
      "Brier Score: 0.1986\n",
      "0.7380 \\pm 0.08\n",
      "0.1932 \\pm 0.01\n"
     ]
    }
   ],
   "source": [
    "results_uni = pipline_evaluation(X_uni.values, y_uni, model, params)"
   ],
   "metadata": {
    "collapsed": false,
    "ExecuteTime": {
     "end_time": "2023-11-18T21:41:49.564011274Z",
     "start_time": "2023-11-18T21:41:35.827548252Z"
    }
   }
  },
  {
   "cell_type": "code",
   "execution_count": 16,
   "outputs": [
    {
     "name": "stdout",
     "output_type": "stream",
     "text": [
      "$0.7380 \\pm 0.08$ & $0.1932 \\pm 0.01$ &\n"
     ]
    }
   ],
   "source": [
    "print(results_uni)"
   ],
   "metadata": {
    "collapsed": false,
    "ExecuteTime": {
     "end_time": "2023-11-18T21:41:49.571002572Z",
     "start_time": "2023-11-18T21:41:49.567190812Z"
    }
   }
  },
  {
   "cell_type": "markdown",
   "source": [
    "# Multi"
   ],
   "metadata": {
    "collapsed": false
   }
  },
  {
   "cell_type": "code",
   "execution_count": 17,
   "outputs": [
    {
     "data": {
      "text/plain": "(293, 15)"
     },
     "execution_count": 17,
     "metadata": {},
     "output_type": "execute_result"
    }
   ],
   "source": [
    "X_mult, y_mult, features_names_mult, class_names_mult = load_ds(\"multivariant_15\")\n",
    "\n",
    "X_mult.shape"
   ],
   "metadata": {
    "collapsed": false,
    "ExecuteTime": {
     "end_time": "2023-11-18T21:41:49.622214117Z",
     "start_time": "2023-11-18T21:41:49.575219208Z"
    }
   }
  },
  {
   "cell_type": "code",
   "execution_count": 18,
   "outputs": [
    {
     "name": "stdout",
     "output_type": "stream",
     "text": [
      "----------------------------------------\n",
      "GridSearchCV f1 0.6716703161545257 {'algorithm': 'SAMME.R', 'learning_rate': 0.1, 'n_estimators': 50}\n",
      "Train classes: [134 100]\n",
      "Test classes: [34 25]\n",
      "----------------------------------------\n",
      "Métricas de evaluación:\n",
      "Precision: 0.9048\n",
      "Recall: 0.7600\n",
      "F1-score: 0.8261\n",
      "Brier Score: 0.1804\n",
      "----------------------------------------\n",
      "GridSearchCV f1 0.7029647829647829 {'algorithm': 'SAMME.R', 'learning_rate': 0.1, 'n_estimators': 90}\n",
      "Train classes: [134 100]\n",
      "Test classes: [34 25]\n",
      "----------------------------------------\n",
      "Métricas de evaluación:\n",
      "Precision: 0.8824\n",
      "Recall: 0.6000\n",
      "F1-score: 0.7143\n",
      "Brier Score: 0.2025\n",
      "----------------------------------------\n",
      "GridSearchCV f1 0.730599116246031 {'algorithm': 'SAMME.R', 'learning_rate': 0.1, 'n_estimators': 50}\n",
      "Train classes: [134 100]\n",
      "Test classes: [34 25]\n",
      "----------------------------------------\n",
      "Métricas de evaluación:\n",
      "Precision: 0.8500\n",
      "Recall: 0.6800\n",
      "F1-score: 0.7556\n",
      "Brier Score: 0.1797\n",
      "----------------------------------------\n",
      "GridSearchCV f1 0.7216882608186955 {'algorithm': 'SAMME.R', 'learning_rate': 0.1, 'n_estimators': 50}\n",
      "Train classes: [135 100]\n",
      "Test classes: [33 25]\n",
      "----------------------------------------\n",
      "Métricas de evaluación:\n",
      "Precision: 0.8824\n",
      "Recall: 0.6000\n",
      "F1-score: 0.7143\n",
      "Brier Score: 0.1841\n",
      "----------------------------------------\n",
      "GridSearchCV f1 0.7151437151437151 {'algorithm': 'SAMME.R', 'learning_rate': 0.1, 'n_estimators': 50}\n",
      "Train classes: [135 100]\n",
      "Test classes: [33 25]\n",
      "----------------------------------------\n",
      "Métricas de evaluación:\n",
      "Precision: 0.7727\n",
      "Recall: 0.6800\n",
      "F1-score: 0.7234\n",
      "Brier Score: 0.1984\n",
      "0.7467 \\pm 0.04\n",
      "0.1890 \\pm 0.01\n"
     ]
    }
   ],
   "source": [
    "results_multi = pipline_evaluation(X_mult.values, y_mult, model, params)"
   ],
   "metadata": {
    "collapsed": false,
    "ExecuteTime": {
     "end_time": "2023-11-18T21:42:00.436150002Z",
     "start_time": "2023-11-18T21:41:49.602850724Z"
    }
   }
  },
  {
   "cell_type": "code",
   "execution_count": 19,
   "outputs": [
    {
     "name": "stdout",
     "output_type": "stream",
     "text": [
      "$0.7467 \\pm 0.04$ & $0.1890 \\pm 0.01$ &\n"
     ]
    }
   ],
   "source": [
    "print(results_multi)"
   ],
   "metadata": {
    "collapsed": false,
    "ExecuteTime": {
     "end_time": "2023-11-18T21:42:00.444040352Z",
     "start_time": "2023-11-18T21:42:00.440200999Z"
    }
   }
  },
  {
   "cell_type": "markdown",
   "source": [
    "## Wrapper\n"
   ],
   "metadata": {
    "collapsed": false
   }
  },
  {
   "cell_type": "code",
   "execution_count": 20,
   "outputs": [],
   "source": [
    "from utils import wrapper_ds"
   ],
   "metadata": {
    "collapsed": false,
    "ExecuteTime": {
     "end_time": "2023-11-18T21:42:00.475046479Z",
     "start_time": "2023-11-18T21:42:00.447197204Z"
    }
   }
  },
  {
   "cell_type": "code",
   "execution_count": 21,
   "outputs": [
    {
     "name": "stdout",
     "output_type": "stream",
     "text": [
      "Index(['N_Days', 'Age', 'Cholesterol', 'Albumin', 'Copper', 'Alk_Phos', 'SGOT',\n",
      "       'Tryglicerides', 'Platelets', 'Prothrombin', 'Ascites_Y', 'Edema_S',\n",
      "       'Edema_Y', 'Sex_F', 'Sex_M'],\n",
      "      dtype='object')\n"
     ]
    }
   ],
   "source": [
    "x_wrapper = wrapper_ds(X, y, model, 15)"
   ],
   "metadata": {
    "collapsed": false,
    "ExecuteTime": {
     "end_time": "2023-11-18T21:42:42.756899336Z",
     "start_time": "2023-11-18T21:42:00.463777816Z"
    }
   }
  },
  {
   "cell_type": "code",
   "execution_count": 22,
   "outputs": [
    {
     "name": "stdout",
     "output_type": "stream",
     "text": [
      "----------------------------------------\n",
      "GridSearchCV f1 0.6778301790066497 {'algorithm': 'SAMME.R', 'learning_rate': 0.1, 'n_estimators': 90}\n",
      "Train classes: [134 100]\n",
      "Test classes: [34 25]\n",
      "----------------------------------------\n",
      "Métricas de evaluación:\n",
      "Precision: 0.9545\n",
      "Recall: 0.8400\n",
      "F1-score: 0.8936\n",
      "Brier Score: 0.2054\n",
      "----------------------------------------\n",
      "GridSearchCV f1 0.6813963918787183 {'algorithm': 'SAMME.R', 'learning_rate': 0.1, 'n_estimators': 70}\n",
      "Train classes: [134 100]\n",
      "Test classes: [34 25]\n",
      "----------------------------------------\n",
      "Métricas de evaluación:\n",
      "Precision: 0.8750\n",
      "Recall: 0.5600\n",
      "F1-score: 0.6829\n",
      "Brier Score: 0.2011\n",
      "----------------------------------------\n",
      "GridSearchCV f1 0.7599847612457888 {'algorithm': 'SAMME.R', 'learning_rate': 0.1, 'n_estimators': 90}\n",
      "Train classes: [134 100]\n",
      "Test classes: [34 25]\n",
      "----------------------------------------\n",
      "Métricas de evaluación:\n",
      "Precision: 0.8333\n",
      "Recall: 0.6000\n",
      "F1-score: 0.6977\n",
      "Brier Score: 0.1986\n",
      "----------------------------------------\n",
      "GridSearchCV f1 0.7331489860901625 {'algorithm': 'SAMME.R', 'learning_rate': 0.1, 'n_estimators': 50}\n",
      "Train classes: [135 100]\n",
      "Test classes: [33 25]\n",
      "----------------------------------------\n",
      "Métricas de evaluación:\n",
      "Precision: 0.8235\n",
      "Recall: 0.5600\n",
      "F1-score: 0.6667\n",
      "Brier Score: 0.1933\n",
      "----------------------------------------\n",
      "GridSearchCV f1 0.6562015279615527 {'algorithm': 'SAMME.R', 'learning_rate': 0.1, 'n_estimators': 90}\n",
      "Train classes: [135 100]\n",
      "Test classes: [33 25]\n",
      "----------------------------------------\n",
      "Métricas de evaluación:\n",
      "Precision: 0.6957\n",
      "Recall: 0.6400\n",
      "F1-score: 0.6667\n",
      "Brier Score: 0.2144\n",
      "0.7215 \\pm 0.09\n",
      "0.2026 \\pm 0.01\n"
     ]
    }
   ],
   "source": [
    "results_wrapper = pipline_evaluation(x_wrapper, y, model, params)"
   ],
   "metadata": {
    "collapsed": false,
    "ExecuteTime": {
     "end_time": "2023-11-18T21:42:54.170618842Z",
     "start_time": "2023-11-18T21:42:42.731991518Z"
    }
   }
  },
  {
   "cell_type": "code",
   "execution_count": 23,
   "outputs": [
    {
     "name": "stdout",
     "output_type": "stream",
     "text": [
      "$0.7215 \\pm 0.09$ & $0.2026 \\pm 0.01$ &\n"
     ]
    }
   ],
   "source": [
    "print(results_wrapper)"
   ],
   "metadata": {
    "collapsed": false,
    "ExecuteTime": {
     "end_time": "2023-11-18T21:42:54.177193855Z",
     "start_time": "2023-11-18T21:42:54.174896940Z"
    }
   }
  },
  {
   "cell_type": "code",
   "execution_count": 1,
   "outputs": [
    {
     "data": {
      "text/plain": "['Age',\n 'Albumin',\n 'Alk_Phos',\n 'Ascites_Y',\n 'Cholesterol',\n 'Copper',\n 'Edema_S',\n 'Edema_Y',\n 'N_Days',\n 'Platelets',\n 'Prothrombin',\n 'SGOT',\n 'Sex_F',\n 'Sex_M',\n 'Tryglicerides']"
     },
     "execution_count": 1,
     "metadata": {},
     "output_type": "execute_result"
    }
   ],
   "source": [
    "sorted(['N_Days', 'Age', 'Cholesterol', 'Albumin', 'Copper', 'Alk_Phos', 'SGOT',\n",
    "       'Tryglicerides', 'Platelets', 'Prothrombin', 'Ascites_Y', 'Edema_S',\n",
    "       'Edema_Y', 'Sex_F', 'Sex_M'])"
   ],
   "metadata": {
    "collapsed": false,
    "ExecuteTime": {
     "end_time": "2023-11-19T07:51:51.235926680Z",
     "start_time": "2023-11-19T07:51:51.234991585Z"
    }
   }
  },
  {
   "cell_type": "code",
   "execution_count": null,
   "outputs": [],
   "source": [],
   "metadata": {
    "collapsed": false
   }
  }
 ],
 "metadata": {
  "kernelspec": {
   "display_name": "Python 3",
   "language": "python",
   "name": "python3"
  },
  "language_info": {
   "codemirror_mode": {
    "name": "ipython",
    "version": 2
   },
   "file_extension": ".py",
   "mimetype": "text/x-python",
   "name": "python",
   "nbconvert_exporter": "python",
   "pygments_lexer": "ipython2",
   "version": "2.7.6"
  }
 },
 "nbformat": 4,
 "nbformat_minor": 0
}
