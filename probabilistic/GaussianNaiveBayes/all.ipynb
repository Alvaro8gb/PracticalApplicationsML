{
 "cells": [
  {
   "cell_type": "markdown",
   "source": [
    "# Gaussian NB"
   ],
   "metadata": {
    "collapsed": false
   }
  },
  {
   "cell_type": "code",
   "execution_count": 1,
   "outputs": [],
   "source": [
    "import matplotlib.pyplot as plt\n",
    "from sklearn.naive_bayes import GaussianNB\n",
    "\n",
    "import sys\n",
    "sys.path.append(\"../../my-staff\")\n",
    "from utils import pipline_evaluation\n",
    "from database import load_ds, load_params\n",
    "from globals import SEED"
   ],
   "metadata": {
    "collapsed": false,
    "ExecuteTime": {
     "end_time": "2023-11-18T21:31:51.223686887Z",
     "start_time": "2023-11-18T21:31:47.212418095Z"
    }
   }
  },
  {
   "cell_type": "markdown",
   "source": [
    "# Load dataset"
   ],
   "metadata": {
    "collapsed": false
   }
  },
  {
   "cell_type": "code",
   "execution_count": 2,
   "outputs": [
    {
     "data": {
      "text/plain": "(293, 25)"
     },
     "execution_count": 2,
     "metadata": {},
     "output_type": "execute_result"
    }
   ],
   "source": [
    "X, y, features_names, class_names = load_ds(\"all\")\n",
    "X.shape"
   ],
   "metadata": {
    "collapsed": false,
    "ExecuteTime": {
     "end_time": "2023-11-18T21:31:51.490516529Z",
     "start_time": "2023-11-18T21:31:51.225999291Z"
    }
   }
  },
  {
   "cell_type": "code",
   "execution_count": 3,
   "outputs": [],
   "source": [
    "model = GaussianNB()"
   ],
   "metadata": {
    "collapsed": false,
    "ExecuteTime": {
     "end_time": "2023-11-18T21:31:51.491080665Z",
     "start_time": "2023-11-18T21:31:51.251627037Z"
    }
   }
  },
  {
   "cell_type": "markdown",
   "source": [
    "## ALL"
   ],
   "metadata": {
    "collapsed": false
   }
  },
  {
   "cell_type": "code",
   "execution_count": 4,
   "outputs": [],
   "source": [
    "params = load_params(\"GaussianNB\")"
   ],
   "metadata": {
    "collapsed": false,
    "ExecuteTime": {
     "end_time": "2023-11-18T21:31:51.491471952Z",
     "start_time": "2023-11-18T21:31:51.266404940Z"
    }
   }
  },
  {
   "cell_type": "code",
   "execution_count": 5,
   "outputs": [
    {
     "data": {
      "text/plain": "{}"
     },
     "execution_count": 5,
     "metadata": {},
     "output_type": "execute_result"
    }
   ],
   "source": [
    "params"
   ],
   "metadata": {
    "collapsed": false,
    "ExecuteTime": {
     "end_time": "2023-11-18T21:31:51.492225255Z",
     "start_time": "2023-11-18T21:31:51.282214128Z"
    }
   }
  },
  {
   "cell_type": "code",
   "execution_count": 6,
   "outputs": [
    {
     "name": "stdout",
     "output_type": "stream",
     "text": [
      "----------------------------------------\n",
      "GridSearchCV f1 0.6771705186339332 {}\n",
      "Train classes: [134 100]\n",
      "Test classes: [34 25]\n",
      "----------------------------------------\n",
      "Métricas de evaluación:\n",
      "Precision: 0.8824\n",
      "Recall: 0.6000\n",
      "F1-score: 0.7143\n",
      "Brier Score: 0.1788\n",
      "----------------------------------------\n",
      "GridSearchCV f1 0.685065605189444 {}\n",
      "Train classes: [134 100]\n",
      "Test classes: [34 25]\n",
      "----------------------------------------\n",
      "Métricas de evaluación:\n",
      "Precision: 0.8235\n",
      "Recall: 0.5600\n",
      "F1-score: 0.6667\n",
      "Brier Score: 0.2138\n",
      "----------------------------------------\n",
      "GridSearchCV f1 0.6464933821130765 {}\n",
      "Train classes: [134 100]\n",
      "Test classes: [34 25]\n",
      "----------------------------------------\n",
      "Métricas de evaluación:\n",
      "Precision: 0.8333\n",
      "Recall: 0.6000\n",
      "F1-score: 0.6977\n",
      "Brier Score: 0.2109\n",
      "----------------------------------------\n",
      "GridSearchCV f1 0.691812865497076 {}\n",
      "Train classes: [135 100]\n",
      "Test classes: [33 25]\n",
      "----------------------------------------\n",
      "Métricas de evaluación:\n",
      "Precision: 0.7368\n",
      "Recall: 0.5600\n",
      "F1-score: 0.6364\n",
      "Brier Score: 0.2594\n",
      "----------------------------------------\n",
      "GridSearchCV f1 0.6739768275402185 {}\n",
      "Train classes: [135 100]\n",
      "Test classes: [33 25]\n",
      "----------------------------------------\n",
      "Métricas de evaluación:\n",
      "Precision: 0.8421\n",
      "Recall: 0.6400\n",
      "F1-score: 0.7273\n",
      "Brier Score: 0.1945\n",
      "0.6885 \\pm 0.03\n",
      "0.2115 \\pm 0.03\n"
     ]
    }
   ],
   "source": [
    "results_all = pipline_evaluation(X.values, y, model, params)"
   ],
   "metadata": {
    "collapsed": false,
    "ExecuteTime": {
     "end_time": "2023-11-18T21:31:58.105762838Z",
     "start_time": "2023-11-18T21:31:51.299955001Z"
    }
   }
  },
  {
   "cell_type": "code",
   "execution_count": 7,
   "outputs": [
    {
     "name": "stdout",
     "output_type": "stream",
     "text": [
      "$0.6885 \\pm 0.03$ & $0.2115 \\pm 0.03$ &\n"
     ]
    }
   ],
   "source": [
    "print(results_all)"
   ],
   "metadata": {
    "collapsed": false,
    "ExecuteTime": {
     "end_time": "2023-11-18T21:31:58.217823913Z",
     "start_time": "2023-11-18T21:31:58.112653395Z"
    }
   }
  },
  {
   "cell_type": "markdown",
   "source": [
    "## Univar"
   ],
   "metadata": {
    "collapsed": false
   }
  },
  {
   "cell_type": "code",
   "execution_count": 8,
   "outputs": [],
   "source": [
    "X_uni, y_uni, features_names_uni, class_names_uni = load_ds(\"univariant_15\")\n"
   ],
   "metadata": {
    "collapsed": false,
    "ExecuteTime": {
     "end_time": "2023-11-18T21:31:58.218821974Z",
     "start_time": "2023-11-18T21:31:58.142721361Z"
    }
   }
  },
  {
   "cell_type": "code",
   "execution_count": 9,
   "outputs": [
    {
     "name": "stdout",
     "output_type": "stream",
     "text": [
      "----------------------------------------\n",
      "GridSearchCV f1 0.655831379969311 {}\n",
      "Train classes: [134 100]\n",
      "Test classes: [34 25]\n",
      "----------------------------------------\n",
      "Métricas de evaluación:\n",
      "Precision: 0.8889\n",
      "Recall: 0.6400\n",
      "F1-score: 0.7442\n",
      "Brier Score: 0.1692\n",
      "----------------------------------------\n",
      "GridSearchCV f1 0.6727131951512637 {}\n",
      "Train classes: [134 100]\n",
      "Test classes: [34 25]\n",
      "----------------------------------------\n",
      "Métricas de evaluación:\n",
      "Precision: 0.9333\n",
      "Recall: 0.5600\n",
      "F1-score: 0.7000\n",
      "Brier Score: 0.2000\n",
      "----------------------------------------\n",
      "GridSearchCV f1 0.6444849459483606 {}\n",
      "Train classes: [134 100]\n",
      "Test classes: [34 25]\n",
      "----------------------------------------\n",
      "Métricas de evaluación:\n",
      "Precision: 0.8824\n",
      "Recall: 0.6000\n",
      "F1-score: 0.7143\n",
      "Brier Score: 0.1747\n",
      "----------------------------------------\n",
      "GridSearchCV f1 0.6946530269954876 {}\n",
      "Train classes: [135 100]\n",
      "Test classes: [33 25]\n",
      "----------------------------------------\n",
      "Métricas de evaluación:\n",
      "Precision: 0.7778\n",
      "Recall: 0.5600\n",
      "F1-score: 0.6512\n",
      "Brier Score: 0.2500\n",
      "----------------------------------------\n",
      "GridSearchCV f1 0.7037284102263044 {}\n",
      "Train classes: [135 100]\n",
      "Test classes: [33 25]\n",
      "----------------------------------------\n",
      "Métricas de evaluación:\n",
      "Precision: 0.8095\n",
      "Recall: 0.6800\n",
      "F1-score: 0.7391\n",
      "Brier Score: 0.1907\n",
      "0.7098 \\pm 0.03\n",
      "0.1969 \\pm 0.03\n"
     ]
    }
   ],
   "source": [
    "results_uni = pipline_evaluation(X_uni.values, y_uni, model, params)"
   ],
   "metadata": {
    "collapsed": false,
    "ExecuteTime": {
     "end_time": "2023-11-18T21:31:58.653866815Z",
     "start_time": "2023-11-18T21:31:58.164124672Z"
    }
   }
  },
  {
   "cell_type": "code",
   "execution_count": 10,
   "outputs": [
    {
     "name": "stdout",
     "output_type": "stream",
     "text": [
      "$0.7098 \\pm 0.03$ & $0.1969 \\pm 0.03$ &\n"
     ]
    }
   ],
   "source": [
    "print(results_uni)"
   ],
   "metadata": {
    "collapsed": false,
    "ExecuteTime": {
     "end_time": "2023-11-18T21:31:58.655344010Z",
     "start_time": "2023-11-18T21:31:58.500525003Z"
    }
   }
  },
  {
   "cell_type": "markdown",
   "source": [
    "# Multi"
   ],
   "metadata": {
    "collapsed": false
   }
  },
  {
   "cell_type": "code",
   "execution_count": 11,
   "outputs": [
    {
     "data": {
      "text/plain": "(293, 15)"
     },
     "execution_count": 11,
     "metadata": {},
     "output_type": "execute_result"
    }
   ],
   "source": [
    "X_mult, y_mult, features_names_mult, class_names_mult = load_ds(\"multivariant_15\")\n",
    "\n",
    "X_mult.shape"
   ],
   "metadata": {
    "collapsed": false,
    "ExecuteTime": {
     "end_time": "2023-11-18T21:31:58.659006692Z",
     "start_time": "2023-11-18T21:31:58.516310522Z"
    }
   }
  },
  {
   "cell_type": "code",
   "execution_count": 12,
   "outputs": [
    {
     "name": "stdout",
     "output_type": "stream",
     "text": [
      "----------------------------------------\n",
      "GridSearchCV f1 0.7090083679958138 {}\n",
      "Train classes: [134 100]\n",
      "Test classes: [34 25]\n",
      "----------------------------------------\n",
      "Métricas de evaluación:\n",
      "Precision: 0.7600\n",
      "Recall: 0.7600\n",
      "F1-score: 0.7600\n",
      "Brier Score: 0.1628\n",
      "----------------------------------------\n",
      "GridSearchCV f1 0.7370911775562938 {}\n",
      "Train classes: [134 100]\n",
      "Test classes: [34 25]\n",
      "----------------------------------------\n",
      "Métricas de evaluación:\n",
      "Precision: 0.7143\n",
      "Recall: 0.6000\n",
      "F1-score: 0.6522\n",
      "Brier Score: 0.2228\n",
      "----------------------------------------\n",
      "GridSearchCV f1 0.69287858328556 {}\n",
      "Train classes: [134 100]\n",
      "Test classes: [34 25]\n",
      "----------------------------------------\n",
      "Métricas de evaluación:\n",
      "Precision: 0.8182\n",
      "Recall: 0.7200\n",
      "F1-score: 0.7660\n",
      "Brier Score: 0.1566\n",
      "----------------------------------------\n",
      "GridSearchCV f1 0.730255425798539 {}\n",
      "Train classes: [135 100]\n",
      "Test classes: [33 25]\n",
      "----------------------------------------\n",
      "Métricas de evaluación:\n",
      "Precision: 0.8095\n",
      "Recall: 0.6800\n",
      "F1-score: 0.7391\n",
      "Brier Score: 0.1923\n",
      "----------------------------------------\n",
      "GridSearchCV f1 0.7057194476549314 {}\n",
      "Train classes: [135 100]\n",
      "Test classes: [33 25]\n",
      "----------------------------------------\n",
      "Métricas de evaluación:\n",
      "Precision: 0.7600\n",
      "Recall: 0.7600\n",
      "F1-score: 0.7600\n",
      "Brier Score: 0.2022\n",
      "0.7355 \\pm 0.04\n",
      "0.1874 \\pm 0.02\n"
     ]
    }
   ],
   "source": [
    "results_multi = pipline_evaluation(X_mult.values, y_mult, model, params)"
   ],
   "metadata": {
    "collapsed": false,
    "ExecuteTime": {
     "end_time": "2023-11-18T21:31:59.106511504Z",
     "start_time": "2023-11-18T21:31:58.540580882Z"
    }
   }
  },
  {
   "cell_type": "code",
   "execution_count": 13,
   "outputs": [
    {
     "name": "stdout",
     "output_type": "stream",
     "text": [
      "$0.7355 \\pm 0.04$ & $0.1874 \\pm 0.02$ &\n"
     ]
    }
   ],
   "source": [
    "print(results_multi)"
   ],
   "metadata": {
    "collapsed": false,
    "ExecuteTime": {
     "end_time": "2023-11-18T21:31:59.155457649Z",
     "start_time": "2023-11-18T21:31:58.976301783Z"
    }
   }
  },
  {
   "cell_type": "markdown",
   "source": [
    "## Wrapper\n"
   ],
   "metadata": {
    "collapsed": false
   }
  },
  {
   "cell_type": "code",
   "execution_count": 14,
   "outputs": [],
   "source": [
    "from utils import wrapper_ds"
   ],
   "metadata": {
    "collapsed": false,
    "ExecuteTime": {
     "end_time": "2023-11-18T21:31:59.156501206Z",
     "start_time": "2023-11-18T21:31:59.018004175Z"
    }
   }
  },
  {
   "cell_type": "code",
   "execution_count": 15,
   "outputs": [
    {
     "name": "stdout",
     "output_type": "stream",
     "text": [
      "Index(['N_Days', 'Bilirubin', 'Cholesterol', 'Albumin', 'Copper', 'Alk_Phos',\n",
      "       'SGOT', 'Prothrombin', 'Stage', 'Spiders_Y', 'Hepatomegaly_N',\n",
      "       'Hepatomegaly_Y', 'Ascites_Y', 'Sex_F', 'Sex_M'],\n",
      "      dtype='object')\n"
     ]
    }
   ],
   "source": [
    "x_wrapper = wrapper_ds(X, y, model, 15)"
   ],
   "metadata": {
    "collapsed": false,
    "ExecuteTime": {
     "end_time": "2023-11-18T21:32:03.997591551Z",
     "start_time": "2023-11-18T21:31:59.041724877Z"
    }
   }
  },
  {
   "cell_type": "code",
   "execution_count": 16,
   "outputs": [
    {
     "name": "stdout",
     "output_type": "stream",
     "text": [
      "----------------------------------------\n",
      "GridSearchCV f1 0.7195445414800254 {}\n",
      "Train classes: [134 100]\n",
      "Test classes: [34 25]\n",
      "----------------------------------------\n",
      "Métricas de evaluación:\n",
      "Precision: 0.9048\n",
      "Recall: 0.7600\n",
      "F1-score: 0.8261\n",
      "Brier Score: 0.1135\n",
      "----------------------------------------\n",
      "GridSearchCV f1 0.759187907161931 {}\n",
      "Train classes: [134 100]\n",
      "Test classes: [34 25]\n",
      "----------------------------------------\n",
      "Métricas de evaluación:\n",
      "Precision: 0.7895\n",
      "Recall: 0.6000\n",
      "F1-score: 0.6818\n",
      "Brier Score: 0.2234\n",
      "----------------------------------------\n",
      "GridSearchCV f1 0.6854166458274289 {}\n",
      "Train classes: [134 100]\n",
      "Test classes: [34 25]\n",
      "----------------------------------------\n",
      "Métricas de evaluación:\n",
      "Precision: 0.8571\n",
      "Recall: 0.7200\n",
      "F1-score: 0.7826\n",
      "Brier Score: 0.1743\n",
      "----------------------------------------\n",
      "GridSearchCV f1 0.7438158257513097 {}\n",
      "Train classes: [135 100]\n",
      "Test classes: [33 25]\n",
      "----------------------------------------\n",
      "Métricas de evaluación:\n",
      "Precision: 0.8095\n",
      "Recall: 0.6800\n",
      "F1-score: 0.7391\n",
      "Brier Score: 0.2023\n",
      "----------------------------------------\n",
      "GridSearchCV f1 0.7117797899813836 {}\n",
      "Train classes: [135 100]\n",
      "Test classes: [33 25]\n",
      "----------------------------------------\n",
      "Métricas de evaluación:\n",
      "Precision: 0.8000\n",
      "Recall: 0.8000\n",
      "F1-score: 0.8000\n",
      "Brier Score: 0.1645\n",
      "0.7659 \\pm 0.05\n",
      "0.1756 \\pm 0.04\n"
     ]
    }
   ],
   "source": [
    "results_wrapper = pipline_evaluation(x_wrapper, y, model, params)"
   ],
   "metadata": {
    "collapsed": false,
    "ExecuteTime": {
     "end_time": "2023-11-18T21:32:04.253487901Z",
     "start_time": "2023-11-18T21:32:04.002674893Z"
    }
   }
  },
  {
   "cell_type": "code",
   "execution_count": 17,
   "outputs": [
    {
     "name": "stdout",
     "output_type": "stream",
     "text": [
      "$0.7659 \\pm 0.05$ & $0.1756 \\pm 0.04$ &\n"
     ]
    }
   ],
   "source": [
    "print(results_wrapper)"
   ],
   "metadata": {
    "collapsed": false,
    "ExecuteTime": {
     "end_time": "2023-11-18T21:32:04.253718792Z",
     "start_time": "2023-11-18T21:32:04.247033171Z"
    }
   }
  },
  {
   "cell_type": "code",
   "execution_count": 1,
   "outputs": [
    {
     "data": {
      "text/plain": "['Albumin',\n 'Alk_Phos',\n 'Ascites_Y',\n 'Bilirubin',\n 'Cholesterol',\n 'Copper',\n 'Hepatomegaly_N',\n 'Hepatomegaly_Y',\n 'N_Days',\n 'Prothrombin',\n 'SGOT',\n 'Sex_F',\n 'Sex_M',\n 'Spiders_Y',\n 'Stage']"
     },
     "execution_count": 1,
     "metadata": {},
     "output_type": "execute_result"
    }
   ],
   "source": [
    "sorted(['N_Days', 'Bilirubin', 'Cholesterol', 'Albumin', 'Copper', 'Alk_Phos',\n",
    "       'SGOT', 'Prothrombin', 'Stage', 'Spiders_Y', 'Hepatomegaly_N',\n",
    "       'Hepatomegaly_Y', 'Ascites_Y', 'Sex_F', 'Sex_M'])"
   ],
   "metadata": {
    "collapsed": false,
    "ExecuteTime": {
     "end_time": "2023-11-19T07:40:02.583825044Z",
     "start_time": "2023-11-19T07:40:02.582637366Z"
    }
   }
  },
  {
   "cell_type": "code",
   "execution_count": null,
   "outputs": [],
   "source": [],
   "metadata": {
    "collapsed": false
   }
  }
 ],
 "metadata": {
  "kernelspec": {
   "display_name": "Python 3",
   "language": "python",
   "name": "python3"
  },
  "language_info": {
   "codemirror_mode": {
    "name": "ipython",
    "version": 2
   },
   "file_extension": ".py",
   "mimetype": "text/x-python",
   "name": "python",
   "nbconvert_exporter": "python",
   "pygments_lexer": "ipython2",
   "version": "2.7.6"
  }
 },
 "nbformat": 4,
 "nbformat_minor": 0
}
