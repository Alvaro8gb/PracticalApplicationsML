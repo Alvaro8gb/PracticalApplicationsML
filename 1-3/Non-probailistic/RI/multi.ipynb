{
 "cells": [
  {
   "cell_type": "markdown",
   "source": [
    "# RIPPER ( Repeated Incremental Pruning to Produce Error Reduction)\n",
    "[RIPPER](https://www.geeksforgeeks.org/ripper-algorithm/)\n",
    "\n"
   ],
   "metadata": {
    "collapsed": false
   }
  },
  {
   "cell_type": "code",
   "execution_count": 1,
   "outputs": [],
   "source": [
    "from sklearn.model_selection import train_test_split\n",
    "import wittgenstein as lw"
   ],
   "metadata": {
    "collapsed": false,
    "ExecuteTime": {
     "end_time": "2023-10-01T18:51:52.185911611Z",
     "start_time": "2023-10-01T18:51:52.147497680Z"
    }
   }
  },
  {
   "cell_type": "code",
   "execution_count": 2,
   "outputs": [],
   "source": [
    "\n",
    "import sys\n",
    "sys.path.append(\"/home/alvaro/Desktop/MachineLearning/PracticalApplications/1-3/my-staff\")\n",
    "from utils import load_ds\n",
    "from globals import TEST_SIZE, SEED"
   ],
   "metadata": {
    "collapsed": false,
    "ExecuteTime": {
     "end_time": "2023-10-01T18:51:52.247711508Z",
     "start_time": "2023-10-01T18:51:52.188262947Z"
    }
   }
  },
  {
   "cell_type": "code",
   "execution_count": 3,
   "outputs": [
    {
     "data": {
      "text/plain": "(293, 10)"
     },
     "execution_count": 3,
     "metadata": {},
     "output_type": "execute_result"
    }
   ],
   "source": [
    "X, y, features_names, class_names = load_ds(\"multivariant\")\n",
    "X.shape"
   ],
   "metadata": {
    "collapsed": false,
    "ExecuteTime": {
     "end_time": "2023-10-01T18:51:52.290407967Z",
     "start_time": "2023-10-01T18:51:52.289951882Z"
    }
   }
  },
  {
   "cell_type": "code",
   "execution_count": 4,
   "outputs": [],
   "source": [
    "params =  {'alpha': 0.1, 'k': 2, 'n-discretize-bins': 10, 'prune-size': 0.1}"
   ],
   "metadata": {
    "collapsed": false,
    "ExecuteTime": {
     "end_time": "2023-10-01T18:51:52.290539041Z",
     "start_time": "2023-10-01T18:51:52.290067495Z"
    }
   }
  },
  {
   "cell_type": "markdown",
   "source": [
    "# Evaluate"
   ],
   "metadata": {
    "collapsed": false
   }
  },
  {
   "cell_type": "code",
   "execution_count": 5,
   "outputs": [
    {
     "name": "stdout",
     "output_type": "stream",
     "text": [
      "205 88\n"
     ]
    }
   ],
   "source": [
    "X_train, X_test, y_train, y_test = train_test_split(X,\n",
    "                                                                y,\n",
    "                                                                test_size=TEST_SIZE,\n",
    "                                                                random_state=SEED)\n",
    "\n",
    "print(len(X_train), len(X_test))"
   ],
   "metadata": {
    "collapsed": false,
    "ExecuteTime": {
     "end_time": "2023-10-01T18:51:52.290662246Z",
     "start_time": "2023-10-01T18:51:52.290086704Z"
    }
   }
  },
  {
   "cell_type": "code",
   "execution_count": 6,
   "outputs": [
    {
     "data": {
      "text/plain": "<RIPPER(prune_size=0.1, max_total_conds=None, verbosity=True, alpha=0.1, dl_allowance=64, max_rules=None, n_discretize_bins=10, max_rule_conds=None, k=2, random_state=None)>"
     },
     "execution_count": 6,
     "metadata": {},
     "output_type": "execute_result"
    }
   ],
   "source": [
    "ripper_clf = lw.RIPPER(k=params[\"k\"], alpha=params[\"alpha\"], n_discretize_bins=params[\"n-discretize-bins\"], prune_size=params[\"prune-size\"], verbosity=True) # Or irep_clf = lw.IREP() to build a model using IREP\n",
    "ripper_clf"
   ],
   "metadata": {
    "collapsed": false,
    "ExecuteTime": {
     "end_time": "2023-10-01T18:51:52.290789677Z",
     "start_time": "2023-10-01T18:51:52.290108255Z"
    }
   }
  },
  {
   "cell_type": "code",
   "execution_count": 7,
   "outputs": [
    {
     "name": "stdout",
     "output_type": "stream",
     "text": [
      "discretizing 5 features\n",
      "\n",
      "GREW INITIAL RULESET:\n",
      "[[Stage=4.0 ^ N_Days=<602.6] V\n",
      "[Hepatomegaly_N=False ^ N_Days=602.6-999.8] V\n",
      "[Hepatomegaly_N=False ^ Prothrombin=>12.0] V\n",
      "[Copper=>200.6] V\n",
      "[SGOT=>198.4] V\n",
      "[Hepatomegaly_N=False ^ Prothrombin=11.5-12.0] V\n",
      "[Hepatomegaly_N=False ^ SGOT=128.65-140.84] V\n",
      "[Hepatomegaly_N=False] V\n",
      "[Copper=<24.0 ^ N_Days=2575.6-3072.4] V\n",
      "[Bilirubin=1.06-1.3 ^ N_Days=3072.4-3821.8] V\n",
      "[SGOT=140.84-170.5 ^ Prothrombin=10.7-11.0] V\n",
      "[Copper=44.4-57.6 ^ Prothrombin=10.7-11.0] V\n",
      "[N_Days=1945.0-2290.4 ^ Stage=3.0 ^ Bilirubin=0.6-0.8] V\n",
      "[N_Days=<602.6] V\n",
      "[Copper=141.8-200.6 ^ Prothrombin=<9.74] V\n",
      "[Copper=44.4-57.6 ^ Bilirubin=0.6-0.8] V\n",
      "[SGOT=140.84-170.5 ^ N_Days=999.8-1349.2]]\n",
      "\n",
      "optimization run 1 of 2\n",
      "\n",
      "OPTIMIZED RULESET:\n",
      "[[Stage=4.0 ^ N_Days=<602.6] V\n",
      "[Hepatomegaly_N=False ^ N_Days=602.6-999.8] V\n",
      "[Hepatomegaly_N=False ^ Prothrombin=>12.0] V\n",
      "[Copper=>200.6] V\n",
      "[SGOT=>198.4] V\n",
      "[Hepatomegaly_N=False ^ Prothrombin=11.5-12.0] V\n",
      "[Hepatomegaly_N=False ^ SGOT=128.65-140.84] V\n",
      "[Hepatomegaly_N=False] V\n",
      "[Copper=<24.0 ^ N_Days=2575.6-3072.4] V\n",
      "[Bilirubin=1.06-1.3 ^ N_Days=3072.4-3821.8] V\n",
      "[SGOT=140.84-170.5 ^ Prothrombin=10.7-11.0] V\n",
      "[Copper=44.4-57.6 ^ Prothrombin=10.7-11.0] V\n",
      "[N_Days=1945.0-2290.4 ^ Stage=3.0 ^ Bilirubin=0.6-0.8] V\n",
      "[N_Days=<602.6] V\n",
      "[Copper=141.8-200.6 ^ Prothrombin=<9.74] V\n",
      "[Copper=44.4-57.6 ^ Bilirubin=0.6-0.8] V\n",
      "[SGOT=140.84-170.5 ^ N_Days=999.8-1349.2]]\n",
      "\n",
      "No changes were made. Halting optimization at iteration k=1.\n",
      "GREW FINAL RULES\n",
      "[[Stage=4.0 ^ N_Days=<602.6] V\n",
      "[Hepatomegaly_N=False ^ N_Days=602.6-999.8] V\n",
      "[Hepatomegaly_N=False ^ Prothrombin=>12.0] V\n",
      "[Copper=>200.6] V\n",
      "[SGOT=>198.4] V\n",
      "[Hepatomegaly_N=False ^ Prothrombin=11.5-12.0] V\n",
      "[Hepatomegaly_N=False ^ SGOT=128.65-140.84] V\n",
      "[Hepatomegaly_N=False] V\n",
      "[Copper=<24.0 ^ N_Days=2575.6-3072.4] V\n",
      "[Bilirubin=1.06-1.3 ^ N_Days=3072.4-3821.8] V\n",
      "[SGOT=140.84-170.5 ^ Prothrombin=10.7-11.0] V\n",
      "[Copper=44.4-57.6 ^ Prothrombin=10.7-11.0] V\n",
      "[N_Days=1945.0-2290.4 ^ Stage=3.0 ^ Bilirubin=0.6-0.8] V\n",
      "[N_Days=<602.6] V\n",
      "[Copper=141.8-200.6 ^ Prothrombin=<9.74] V\n",
      "[Copper=44.4-57.6 ^ Bilirubin=0.6-0.8] V\n",
      "[SGOT=140.84-170.5 ^ N_Days=999.8-1349.2] V\n",
      "[Hepatomegaly_N=False ^ Bilirubin=>7.16] V\n",
      "[Stage=4.0 ^ N_Days=602.6-999.8] V\n",
      "[N_Days=<602.6] V\n",
      "[Hepatomegaly_N=False ^ SGOT=128.65-140.84] V\n",
      "[SGOT=>198.4] V\n",
      "[Hepatomegaly_N=False ^ Prothrombin=10.2-10.6] V\n",
      "[Bilirubin=1.3-1.9] V\n",
      "[SGOT=140.84-170.5 ^ Bilirubin=3.9-7.16] V\n",
      "[Bilirubin=1.9-2.78] V\n",
      "[Prothrombin=>12.0] V\n",
      "[Copper=<24.0 ^ Prothrombin=11.0-11.5]]\n",
      "\n",
      "FINAL RULESET:\n",
      "[[Stage=4.0 ^ N_Days=<602.6] V\n",
      "[Hepatomegaly_N=False ^ N_Days=602.6-999.8] V\n",
      "[Copper=>200.6] V\n",
      "[SGOT=>198.4]]\n",
      "\n"
     ]
    }
   ],
   "source": [
    "ripper_clf.fit(X_train, y_train)"
   ],
   "metadata": {
    "collapsed": false,
    "ExecuteTime": {
     "end_time": "2023-10-01T18:51:52.385613666Z",
     "start_time": "2023-10-01T18:51:52.290127417Z"
    }
   }
  },
  {
   "cell_type": "code",
   "execution_count": 8,
   "outputs": [
    {
     "name": "stdout",
     "output_type": "stream",
     "text": [
      "[[Stage=4.0 ^ N_Days=<602.6] V\n",
      "[Hepatomegaly_N=False ^ N_Days=602.6-999.8] V\n",
      "[Copper=>200.6] V\n",
      "[SGOT=>198.4]]\n"
     ]
    }
   ],
   "source": [
    "ripper_clf.out_model()"
   ],
   "metadata": {
    "collapsed": false,
    "ExecuteTime": {
     "end_time": "2023-10-01T18:51:52.430149635Z",
     "start_time": "2023-10-01T18:51:52.387669367Z"
    }
   }
  },
  {
   "cell_type": "markdown",
   "source": [
    "# Evaluation"
   ],
   "metadata": {
    "collapsed": false
   }
  },
  {
   "cell_type": "code",
   "execution_count": 9,
   "outputs": [],
   "source": [
    "from utils import eval_model, show_report"
   ],
   "metadata": {
    "collapsed": false,
    "ExecuteTime": {
     "end_time": "2023-10-01T18:51:52.430286627Z",
     "start_time": "2023-10-01T18:51:52.429882347Z"
    }
   }
  },
  {
   "cell_type": "code",
   "execution_count": 10,
   "outputs": [],
   "source": [
    "y_pred = ripper_clf.predict(X_test)"
   ],
   "metadata": {
    "collapsed": false,
    "ExecuteTime": {
     "end_time": "2023-10-01T18:51:52.430397418Z",
     "start_time": "2023-10-01T18:51:52.430093251Z"
    }
   }
  },
  {
   "cell_type": "code",
   "execution_count": 11,
   "outputs": [
    {
     "name": "stdout",
     "output_type": "stream",
     "text": [
      "Métricas de evaluación:\n",
      "Precision: 0.7612\n",
      "Recall: 0.7500\n",
      "F1-score: 0.7400\n"
     ]
    }
   ],
   "source": [
    "eval_model(y_test, y_pred)"
   ],
   "metadata": {
    "collapsed": false,
    "ExecuteTime": {
     "end_time": "2023-10-01T18:51:52.430547848Z",
     "start_time": "2023-10-01T18:51:52.430249464Z"
    }
   }
  },
  {
   "cell_type": "code",
   "execution_count": 12,
   "outputs": [
    {
     "name": "stdout",
     "output_type": "stream",
     "text": [
      "{'0': {'precision': 0.7258064516129032, 'recall': 0.9, 'f1-score': 0.8035714285714286, 'support': 50.0}, '1': {'precision': 0.8076923076923077, 'recall': 0.5526315789473685, 'f1-score': 0.6562500000000001, 'support': 38.0}, 'accuracy': 0.75, 'macro avg': {'precision': 0.7667493796526055, 'recall': 0.7263157894736842, 'f1-score': 0.7299107142857144, 'support': 88.0}, 'weighted avg': {'precision': 0.761166253101737, 'recall': 0.75, 'f1-score': 0.7399553571428572, 'support': 88.0}}\n",
      "              precision    recall  f1-score   support\n",
      "\n",
      "           0       0.73      0.90      0.80        50\n",
      "           1       0.81      0.55      0.66        38\n",
      "\n",
      "    accuracy                           0.75        88\n",
      "   macro avg       0.77      0.73      0.73        88\n",
      "weighted avg       0.76      0.75      0.74        88\n",
      "\n"
     ]
    }
   ],
   "source": [
    "show_report(y_test, y_pred)"
   ],
   "metadata": {
    "collapsed": false,
    "ExecuteTime": {
     "end_time": "2023-10-01T18:51:52.487593288Z",
     "start_time": "2023-10-01T18:51:52.430344629Z"
    }
   }
  }
 ],
 "metadata": {
  "kernelspec": {
   "display_name": "Python 3",
   "language": "python",
   "name": "python3"
  },
  "language_info": {
   "codemirror_mode": {
    "name": "ipython",
    "version": 2
   },
   "file_extension": ".py",
   "mimetype": "text/x-python",
   "name": "python",
   "nbconvert_exporter": "python",
   "pygments_lexer": "ipython2",
   "version": "2.7.6"
  }
 },
 "nbformat": 4,
 "nbformat_minor": 0
}
