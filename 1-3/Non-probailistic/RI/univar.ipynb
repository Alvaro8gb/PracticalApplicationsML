{
 "cells": [
  {
   "cell_type": "markdown",
   "source": [
    "# RIPPER ( Repeated Incremental Pruning to Produce Error Reduction)\n",
    "[RIPPER](https://www.geeksforgeeks.org/ripper-algorithm/)\n",
    "\n"
   ],
   "metadata": {
    "collapsed": false
   }
  },
  {
   "cell_type": "code",
   "execution_count": 1,
   "outputs": [],
   "source": [
    "from sklearn.model_selection import train_test_split\n",
    "import wittgenstein as lw"
   ],
   "metadata": {
    "collapsed": false,
    "ExecuteTime": {
     "end_time": "2023-10-01T14:51:01.426849715Z",
     "start_time": "2023-10-01T14:51:01.315358499Z"
    }
   }
  },
  {
   "cell_type": "code",
   "execution_count": 2,
   "outputs": [],
   "source": [
    "\n",
    "import sys\n",
    "sys.path.append(\"/home/alvaro/Desktop/MachineLearning/PracticalApplications/1-3/my-staff\")\n",
    "from utils import load_ds\n",
    "from globals import TEST_SIZE, SEED"
   ],
   "metadata": {
    "collapsed": false,
    "ExecuteTime": {
     "end_time": "2023-10-01T14:51:01.524866125Z",
     "start_time": "2023-10-01T14:51:01.425677179Z"
    }
   }
  },
  {
   "cell_type": "code",
   "execution_count": 6,
   "outputs": [
    {
     "data": {
      "text/plain": "(293, 10)"
     },
     "execution_count": 6,
     "metadata": {},
     "output_type": "execute_result"
    }
   ],
   "source": [
    "X, y, features_names, class_names = load_ds(\"univariant\")\n",
    "X.shape"
   ],
   "metadata": {
    "collapsed": false,
    "ExecuteTime": {
     "end_time": "2023-10-01T14:51:22.748983006Z",
     "start_time": "2023-10-01T14:51:22.743121184Z"
    }
   }
  },
  {
   "cell_type": "code",
   "execution_count": 7,
   "outputs": [],
   "source": [
    "params =  {'alpha': 0.1, 'k': 2, 'n-discretize-bins': 10, 'prune-size': 0.1}"
   ],
   "metadata": {
    "collapsed": false,
    "ExecuteTime": {
     "end_time": "2023-10-01T14:51:25.814040256Z",
     "start_time": "2023-10-01T14:51:25.807733052Z"
    }
   }
  },
  {
   "cell_type": "markdown",
   "source": [
    "# Evaluate"
   ],
   "metadata": {
    "collapsed": false
   }
  },
  {
   "cell_type": "code",
   "execution_count": 8,
   "outputs": [
    {
     "name": "stdout",
     "output_type": "stream",
     "text": [
      "205 88\n"
     ]
    }
   ],
   "source": [
    "X_train, X_test, y_train, y_test = train_test_split(X,\n",
    "                                                                y,\n",
    "                                                                test_size=TEST_SIZE,\n",
    "                                                                random_state=SEED)\n",
    "\n",
    "print(len(X_train), len(X_test))"
   ],
   "metadata": {
    "collapsed": false,
    "ExecuteTime": {
     "end_time": "2023-10-01T14:51:27.411436149Z",
     "start_time": "2023-10-01T14:51:27.405427146Z"
    }
   }
  },
  {
   "cell_type": "code",
   "execution_count": 9,
   "outputs": [
    {
     "data": {
      "text/plain": "<RIPPER(verbosity=True, random_state=None, dl_allowance=64, n_discretize_bins=10, prune_size=0.1, max_rule_conds=None, alpha=0.1, k=2, max_rules=None, max_total_conds=None)>"
     },
     "execution_count": 9,
     "metadata": {},
     "output_type": "execute_result"
    }
   ],
   "source": [
    "ripper_clf = lw.RIPPER(k=params[\"k\"], alpha=params[\"alpha\"], n_discretize_bins=params[\"n-discretize-bins\"], prune_size=params[\"prune-size\"], verbosity=True) # Or irep_clf = lw.IREP() to build a model using IREP\n",
    "ripper_clf"
   ],
   "metadata": {
    "collapsed": false,
    "ExecuteTime": {
     "end_time": "2023-10-01T14:51:36.374854004Z",
     "start_time": "2023-10-01T14:51:36.330540659Z"
    }
   }
  },
  {
   "cell_type": "code",
   "execution_count": 10,
   "outputs": [
    {
     "name": "stdout",
     "output_type": "stream",
     "text": [
      "discretizing 5 features\n",
      "\n",
      "GREW INITIAL RULESET:\n",
      "[[Hepatomegaly_N=False ^ N_Days=<602.6] V\n",
      "[Hepatomegaly_N=False ^ N_Days=602.6-999.8] V\n",
      "[Copper=>200.6 ^ Bilirubin=>7.16] V\n",
      "[Hepatomegaly_N=False ^ Bilirubin=3.9-7.16] V\n",
      "[Stage=4.0 ^ Albumin=<3.0] V\n",
      "[Copper=80.8-104.6 ^ Albumin=3.0-3.23] V\n",
      "[Bilirubin=2.78-3.9] V\n",
      "[Hepatomegaly_N=False] V\n",
      "[Copper=>200.6] V\n",
      "[N_Days=<602.6] V\n",
      "[N_Days=2575.6-3072.4 ^ Copper=<24.0] V\n",
      "[N_Days=1945.0-2290.4] V\n",
      "[Copper=80.8-104.6 ^ N_Days=2575.6-3072.4] V\n",
      "[Copper=44.4-57.6 ^ Bilirubin=0.6-0.8] V\n",
      "[Bilirubin=1.06-1.3 ^ N_Days=3072.4-3821.8] V\n",
      "[N_Days=999.8-1349.2] V\n",
      "[Prothrombin=10.7-11.0 ^ N_Days=2290.4-2575.6]]\n",
      "\n",
      "optimization run 1 of 2\n",
      "\n",
      "OPTIMIZED RULESET:\n",
      "[[Hepatomegaly_N=False ^ N_Days=<602.6] V\n",
      "[Hepatomegaly_N=False ^ N_Days=602.6-999.8] V\n",
      "[Copper=>200.6 ^ Bilirubin=>7.16] V\n",
      "[Hepatomegaly_N=False ^ Bilirubin=3.9-7.16] V\n",
      "[Stage=4.0 ^ Albumin=<3.0] V\n",
      "[Copper=80.8-104.6 ^ Albumin=3.0-3.23] V\n",
      "[Bilirubin=2.78-3.9] V\n",
      "[Hepatomegaly_N=False] V\n",
      "[Copper=>200.6] V\n",
      "[N_Days=<602.6] V\n",
      "[N_Days=2575.6-3072.4 ^ Copper=<24.0] V\n",
      "[N_Days=1945.0-2290.4] V\n",
      "[Copper=80.8-104.6 ^ N_Days=2575.6-3072.4] V\n",
      "[Copper=44.4-57.6 ^ Bilirubin=0.6-0.8] V\n",
      "[Bilirubin=1.06-1.3 ^ N_Days=3072.4-3821.8] V\n",
      "[N_Days=999.8-1349.2] V\n",
      "[Prothrombin=10.7-11.0 ^ N_Days=2290.4-2575.6]]\n",
      "\n",
      "No changes were made. Halting optimization at iteration k=1.\n",
      "GREW FINAL RULES\n",
      "[[Hepatomegaly_N=False ^ N_Days=<602.6] V\n",
      "[Hepatomegaly_N=False ^ N_Days=602.6-999.8] V\n",
      "[Copper=>200.6 ^ Bilirubin=>7.16] V\n",
      "[Hepatomegaly_N=False ^ Bilirubin=3.9-7.16] V\n",
      "[Stage=4.0 ^ Albumin=<3.0] V\n",
      "[Copper=80.8-104.6 ^ Albumin=3.0-3.23] V\n",
      "[Bilirubin=2.78-3.9] V\n",
      "[Hepatomegaly_N=False] V\n",
      "[Copper=>200.6] V\n",
      "[N_Days=<602.6] V\n",
      "[N_Days=2575.6-3072.4 ^ Copper=<24.0] V\n",
      "[N_Days=1945.0-2290.4] V\n",
      "[Copper=80.8-104.6 ^ N_Days=2575.6-3072.4] V\n",
      "[Copper=44.4-57.6 ^ Bilirubin=0.6-0.8] V\n",
      "[Bilirubin=1.06-1.3 ^ N_Days=3072.4-3821.8] V\n",
      "[N_Days=999.8-1349.2] V\n",
      "[Prothrombin=10.7-11.0 ^ N_Days=2290.4-2575.6] V\n",
      "[Hepatomegaly_N=False ^ Bilirubin=>7.16] V\n",
      "[Stage=4.0 ^ N_Days=602.6-999.8] V\n",
      "[N_Days=<602.6] V\n",
      "[Hepatomegaly_N=False ^ Bilirubin=3.9-7.16] V\n",
      "[Copper=80.8-104.6 ^ Albumin=3.0-3.23] V\n",
      "[Hepatomegaly_N=False ^ N_Days=3072.4-3821.8] V\n",
      "[Hepatomegaly_N=False ^ Bilirubin=0.8-1.06] V\n",
      "[Albumin=3.48-3.56 ^ N_Days=1945.0-2290.4] V\n",
      "[Bilirubin=2.78-3.9] V\n",
      "[N_Days=2575.6-3072.4 ^ Bilirubin=1.3-1.9] V\n",
      "[Bilirubin=1.06-1.3 ^ N_Days=3072.4-3821.8] V\n",
      "[Prothrombin=10.2-10.6 ^ N_Days=2575.6-3072.4]]\n",
      "\n",
      "FINAL RULESET:\n",
      "[[Hepatomegaly_N=False ^ N_Days=<602.6] V\n",
      "[Hepatomegaly_N=False ^ N_Days=602.6-999.8] V\n",
      "[Copper=>200.6 ^ Bilirubin=>7.16] V\n",
      "[Stage=4.0 ^ Albumin=<3.0] V\n",
      "[Copper=80.8-104.6 ^ Albumin=3.0-3.23] V\n",
      "[Copper=>200.6] V\n",
      "[N_Days=<602.6]]\n",
      "\n"
     ]
    }
   ],
   "source": [
    "ripper_clf.fit(X_train, y_train)"
   ],
   "metadata": {
    "collapsed": false,
    "ExecuteTime": {
     "end_time": "2023-10-01T14:51:39.200659239Z",
     "start_time": "2023-10-01T14:51:39.091799189Z"
    }
   }
  },
  {
   "cell_type": "code",
   "execution_count": 11,
   "outputs": [
    {
     "name": "stdout",
     "output_type": "stream",
     "text": [
      "[[Hepatomegaly_N=False ^ N_Days=<602.6] V\n",
      "[Hepatomegaly_N=False ^ N_Days=602.6-999.8] V\n",
      "[Copper=>200.6 ^ Bilirubin=>7.16] V\n",
      "[Stage=4.0 ^ Albumin=<3.0] V\n",
      "[Copper=80.8-104.6 ^ Albumin=3.0-3.23] V\n",
      "[Copper=>200.6] V\n",
      "[N_Days=<602.6]]\n"
     ]
    }
   ],
   "source": [
    "ripper_clf.out_model()"
   ],
   "metadata": {
    "collapsed": false,
    "ExecuteTime": {
     "end_time": "2023-10-01T14:51:42.184454870Z",
     "start_time": "2023-10-01T14:51:42.180963867Z"
    }
   }
  },
  {
   "cell_type": "markdown",
   "source": [
    "# Evaluation"
   ],
   "metadata": {
    "collapsed": false
   }
  },
  {
   "cell_type": "code",
   "execution_count": 12,
   "outputs": [],
   "source": [
    "from utils import eval_model, show_report"
   ],
   "metadata": {
    "collapsed": false,
    "ExecuteTime": {
     "end_time": "2023-10-01T14:51:57.813401561Z",
     "start_time": "2023-10-01T14:51:57.809394997Z"
    }
   }
  },
  {
   "cell_type": "code",
   "execution_count": 13,
   "outputs": [],
   "source": [
    "y_pred = ripper_clf.predict(X_test)"
   ],
   "metadata": {
    "collapsed": false,
    "ExecuteTime": {
     "end_time": "2023-10-01T14:51:58.824272768Z",
     "start_time": "2023-10-01T14:51:58.819707768Z"
    }
   }
  },
  {
   "cell_type": "code",
   "execution_count": 14,
   "outputs": [
    {
     "name": "stdout",
     "output_type": "stream",
     "text": [
      "Métricas de evaluación:\n",
      "Precision: 0.8127\n",
      "Recall: 0.7955\n",
      "F1-score: 0.7872\n"
     ]
    }
   ],
   "source": [
    "eval_model(y_test, y_pred)"
   ],
   "metadata": {
    "collapsed": false,
    "ExecuteTime": {
     "end_time": "2023-10-01T14:51:59.633873563Z",
     "start_time": "2023-10-01T14:51:59.626227926Z"
    }
   }
  },
  {
   "cell_type": "code",
   "execution_count": 15,
   "outputs": [
    {
     "name": "stdout",
     "output_type": "stream",
     "text": [
      "{'0': {'precision': 0.7580645161290323, 'recall': 0.94, 'f1-score': 0.8392857142857143, 'support': 50.0}, '1': {'precision': 0.8846153846153846, 'recall': 0.6052631578947368, 'f1-score': 0.71875, 'support': 38.0}, 'accuracy': 0.7954545454545454, 'macro avg': {'precision': 0.8213399503722084, 'recall': 0.7726315789473683, 'f1-score': 0.7790178571428572, 'support': 88.0}, 'weighted avg': {'precision': 0.8127114820663208, 'recall': 0.7954545454545454, 'f1-score': 0.7872362012987014, 'support': 88.0}}\n",
      "              precision    recall  f1-score   support\n",
      "\n",
      "           0       0.76      0.94      0.84        50\n",
      "           1       0.88      0.61      0.72        38\n",
      "\n",
      "    accuracy                           0.80        88\n",
      "   macro avg       0.82      0.77      0.78        88\n",
      "weighted avg       0.81      0.80      0.79        88\n",
      "\n"
     ]
    }
   ],
   "source": [
    "show_report(y_test, y_pred)"
   ],
   "metadata": {
    "collapsed": false,
    "ExecuteTime": {
     "end_time": "2023-10-01T14:52:09.677302392Z",
     "start_time": "2023-10-01T14:52:09.629334915Z"
    }
   }
  }
 ],
 "metadata": {
  "kernelspec": {
   "display_name": "Python 3",
   "language": "python",
   "name": "python3"
  },
  "language_info": {
   "codemirror_mode": {
    "name": "ipython",
    "version": 2
   },
   "file_extension": ".py",
   "mimetype": "text/x-python",
   "name": "python",
   "nbconvert_exporter": "python",
   "pygments_lexer": "ipython2",
   "version": "2.7.6"
  }
 },
 "nbformat": 4,
 "nbformat_minor": 0
}
