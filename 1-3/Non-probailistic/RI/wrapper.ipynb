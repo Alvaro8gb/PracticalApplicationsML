{
 "cells": [
  {
   "cell_type": "markdown",
   "source": [
    "# RIPPER ( Repeated Incremental Pruning to Produce Error Reduction)\n",
    "[RIPPER](https://www.geeksforgeeks.org/ripper-algorithm/)\n",
    "\n"
   ],
   "metadata": {
    "collapsed": false
   }
  },
  {
   "cell_type": "code",
   "execution_count": 1,
   "outputs": [],
   "source": [
    "from sklearn.model_selection import train_test_split\n",
    "import wittgenstein as lw"
   ],
   "metadata": {
    "collapsed": false,
    "ExecuteTime": {
     "end_time": "2023-10-10T19:45:24.858433528Z",
     "start_time": "2023-10-10T19:45:24.823678661Z"
    }
   }
  },
  {
   "cell_type": "code",
   "execution_count": 2,
   "outputs": [],
   "source": [
    "\n",
    "import sys\n",
    "sys.path.append(\"/home/alvaro/Desktop/MachineLearning/PracticalApplications/1-3/my-staff\")\n",
    "from utils import load_ds\n",
    "from globals import TEST_SIZE, SEED"
   ],
   "metadata": {
    "collapsed": false,
    "ExecuteTime": {
     "end_time": "2023-10-10T19:45:24.916121157Z",
     "start_time": "2023-10-10T19:45:24.859021978Z"
    }
   }
  },
  {
   "cell_type": "code",
   "execution_count": 3,
   "outputs": [
    {
     "data": {
      "text/plain": "(293, 10)"
     },
     "execution_count": 3,
     "metadata": {},
     "output_type": "execute_result"
    }
   ],
   "source": [
    "X, y, features_names, class_names = load_ds(\"wrapper\")\n",
    "X.shape"
   ],
   "metadata": {
    "collapsed": false,
    "ExecuteTime": {
     "end_time": "2023-10-10T19:45:24.959926637Z",
     "start_time": "2023-10-10T19:45:24.959126935Z"
    }
   }
  },
  {
   "cell_type": "code",
   "execution_count": 4,
   "outputs": [],
   "source": [
    "params =  {'alpha': 0.1, 'k': 2, 'n-discretize-bins': 10, 'prune-size': 0.1}"
   ],
   "metadata": {
    "collapsed": false,
    "ExecuteTime": {
     "end_time": "2023-10-10T19:45:24.960264673Z",
     "start_time": "2023-10-10T19:45:24.959393751Z"
    }
   }
  },
  {
   "cell_type": "markdown",
   "source": [
    "# Evaluate"
   ],
   "metadata": {
    "collapsed": false
   }
  },
  {
   "cell_type": "code",
   "execution_count": 5,
   "outputs": [
    {
     "name": "stdout",
     "output_type": "stream",
     "text": [
      "205 88\n"
     ]
    }
   ],
   "source": [
    "X_train, X_test, y_train, y_test = train_test_split(X,\n",
    "                                                                y,\n",
    "                                                                test_size=TEST_SIZE,\n",
    "                                                                random_state=SEED)\n",
    "\n",
    "print(len(X_train), len(X_test))"
   ],
   "metadata": {
    "collapsed": false,
    "ExecuteTime": {
     "end_time": "2023-10-10T19:45:24.960576513Z",
     "start_time": "2023-10-10T19:45:24.959730710Z"
    }
   }
  },
  {
   "cell_type": "code",
   "execution_count": 6,
   "outputs": [
    {
     "data": {
      "text/plain": "<RIPPER(random_state=None, prune_size=0.1, alpha=0.1, verbosity=True, max_total_conds=None, max_rules=None, n_discretize_bins=10, dl_allowance=64, max_rule_conds=None, k=2)>"
     },
     "execution_count": 6,
     "metadata": {},
     "output_type": "execute_result"
    }
   ],
   "source": [
    "ripper_clf = lw.RIPPER(k=params[\"k\"], alpha=params[\"alpha\"], n_discretize_bins=params[\"n-discretize-bins\"], prune_size=params[\"prune-size\"], verbosity=True) # Or irep_clf = lw.IREP() to build a model using IREP\n",
    "ripper_clf"
   ],
   "metadata": {
    "collapsed": false,
    "ExecuteTime": {
     "end_time": "2023-10-10T19:45:25.014841833Z",
     "start_time": "2023-10-10T19:45:24.960167345Z"
    }
   }
  },
  {
   "cell_type": "code",
   "execution_count": 7,
   "outputs": [
    {
     "name": "stdout",
     "output_type": "stream",
     "text": [
      "discretizing 5 features\n",
      "\n",
      "GREW INITIAL RULESET:\n",
      "[[Hepatomegaly_Y=True ^ Bilirubin=>7.16] V\n",
      "[Stage=4.0 ^ N_Days=602.6-999.8] V\n",
      "[N_Days=<602.6] V\n",
      "[SGOT=>198.4 ^ Copper=104.6-141.8] V\n",
      "[Hepatomegaly_Y=True ^ Copper=80.8-104.6] V\n",
      "[Hepatomegaly_Y=True ^ Bilirubin=3.9-7.16] V\n",
      "[Copper=80.8-104.6] V\n",
      "[Stage=4.0 ^ N_Days=3072.4-3821.8] V\n",
      "[Hepatomegaly_Y=True ^ SGOT=128.65-140.84] V\n",
      "[Copper=<24.0] V\n",
      "[Copper=>200.6] V\n",
      "[Hepatomegaly_Y=True ^ Prothrombin=10.2-10.6 ^ Spiders_Y=False] V\n",
      "[Prothrombin=10.7-11.0 ^ Copper=69.0-80.8] V\n",
      "[N_Days=602.6-999.8] V\n",
      "[Copper=44.4-57.6 ^ Bilirubin=0.6-0.8] V\n",
      "[Prothrombin=10.7-11.0 ^ Stage=3.0] V\n",
      "[Bilirubin=0.8-1.06 ^ Prothrombin=9.74-9.9]]\n",
      "\n",
      "optimization run 1 of 2\n",
      "\n",
      "OPTIMIZED RULESET:\n",
      "[[Hepatomegaly_Y=True ^ Bilirubin=>7.16] V\n",
      "[Stage=4.0 ^ N_Days=602.6-999.8] V\n",
      "[N_Days=<602.6] V\n",
      "[SGOT=>198.4 ^ Copper=104.6-141.8] V\n",
      "[Hepatomegaly_Y=True ^ Copper=80.8-104.6] V\n",
      "[Hepatomegaly_Y=True ^ Bilirubin=3.9-7.16] V\n",
      "[Copper=80.8-104.6] V\n",
      "[Stage=4.0 ^ N_Days=3072.4-3821.8] V\n",
      "[Hepatomegaly_Y=True ^ SGOT=128.65-140.84] V\n",
      "[Copper=<24.0] V\n",
      "[Copper=>200.6] V\n",
      "[Hepatomegaly_Y=True ^ Prothrombin=10.2-10.6 ^ Spiders_Y=False] V\n",
      "[Prothrombin=10.7-11.0 ^ Copper=69.0-80.8] V\n",
      "[N_Days=602.6-999.8] V\n",
      "[Copper=44.4-57.6 ^ Bilirubin=0.6-0.8] V\n",
      "[Prothrombin=10.7-11.0 ^ Stage=3.0] V\n",
      "[Bilirubin=0.8-1.06 ^ Prothrombin=9.74-9.9]]\n",
      "\n",
      "No changes were made. Halting optimization at iteration k=1.\n",
      "GREW FINAL RULES\n",
      "[[Hepatomegaly_Y=True ^ Bilirubin=>7.16] V\n",
      "[Stage=4.0 ^ N_Days=602.6-999.8] V\n",
      "[N_Days=<602.6] V\n",
      "[SGOT=>198.4 ^ Copper=104.6-141.8] V\n",
      "[Hepatomegaly_Y=True ^ Copper=80.8-104.6] V\n",
      "[Hepatomegaly_Y=True ^ Bilirubin=3.9-7.16] V\n",
      "[Copper=80.8-104.6] V\n",
      "[Stage=4.0 ^ N_Days=3072.4-3821.8] V\n",
      "[Hepatomegaly_Y=True ^ SGOT=128.65-140.84] V\n",
      "[Copper=<24.0] V\n",
      "[Copper=>200.6] V\n",
      "[Hepatomegaly_Y=True ^ Prothrombin=10.2-10.6 ^ Spiders_Y=False] V\n",
      "[Prothrombin=10.7-11.0 ^ Copper=69.0-80.8] V\n",
      "[N_Days=602.6-999.8] V\n",
      "[Copper=44.4-57.6 ^ Bilirubin=0.6-0.8] V\n",
      "[Prothrombin=10.7-11.0 ^ Stage=3.0] V\n",
      "[Bilirubin=0.8-1.06 ^ Prothrombin=9.74-9.9] V\n",
      "[Hepatomegaly_Y=True ^ Bilirubin=>7.16] V\n",
      "[Hepatomegaly_Y=True ^ N_Days=602.6-999.8] V\n",
      "[N_Days=<602.6] V\n",
      "[SGOT=>198.4] V\n",
      "[Hepatomegaly_Y=True ^ SGOT=128.65-140.84] V\n",
      "[Stage=4.0 ^ Prothrombin=11.5-12.0] V\n",
      "[Hepatomegaly_Y=True ^ Prothrombin=10.2-10.6] V\n",
      "[SGOT=140.84-170.5] V\n",
      "[Bilirubin=1.9-2.78 ^ Spiders_Y=False]]\n",
      "\n",
      "FINAL RULESET:\n",
      "[[Hepatomegaly_Y=True ^ Bilirubin=>7.16] V\n",
      "[Stage=4.0 ^ N_Days=602.6-999.8] V\n",
      "[N_Days=<602.6] V\n",
      "[SGOT=>198.4 ^ Copper=104.6-141.8] V\n",
      "[Copper=>200.6] V\n",
      "[Copper=44.4-57.6 ^ Bilirubin=0.6-0.8]]\n",
      "\n"
     ]
    }
   ],
   "source": [
    "ripper_clf.fit(X_train, y_train)"
   ],
   "metadata": {
    "collapsed": false,
    "ExecuteTime": {
     "end_time": "2023-10-10T19:45:25.088298701Z",
     "start_time": "2023-10-10T19:45:25.003025819Z"
    }
   }
  },
  {
   "cell_type": "code",
   "execution_count": 8,
   "outputs": [
    {
     "name": "stdout",
     "output_type": "stream",
     "text": [
      "[[Hepatomegaly_Y=True ^ Bilirubin=>7.16] V\n",
      "[Stage=4.0 ^ N_Days=602.6-999.8] V\n",
      "[N_Days=<602.6] V\n",
      "[SGOT=>198.4 ^ Copper=104.6-141.8] V\n",
      "[Copper=>200.6] V\n",
      "[Copper=44.4-57.6 ^ Bilirubin=0.6-0.8]]\n"
     ]
    }
   ],
   "source": [
    "ripper_clf.out_model()"
   ],
   "metadata": {
    "collapsed": false,
    "ExecuteTime": {
     "end_time": "2023-10-10T19:45:25.088733670Z",
     "start_time": "2023-10-10T19:45:25.084702017Z"
    }
   }
  },
  {
   "cell_type": "markdown",
   "source": [
    "# Evaluation"
   ],
   "metadata": {
    "collapsed": false
   }
  },
  {
   "cell_type": "code",
   "execution_count": 9,
   "outputs": [],
   "source": [
    "from utils import eval_model, show_report"
   ],
   "metadata": {
    "collapsed": false,
    "ExecuteTime": {
     "end_time": "2023-10-10T19:45:25.146364414Z",
     "start_time": "2023-10-10T19:45:25.088995651Z"
    }
   }
  },
  {
   "cell_type": "code",
   "execution_count": 10,
   "outputs": [],
   "source": [
    "y_pred = ripper_clf.predict(X_test)"
   ],
   "metadata": {
    "collapsed": false,
    "ExecuteTime": {
     "end_time": "2023-10-10T19:45:25.150555911Z",
     "start_time": "2023-10-10T19:45:25.131044542Z"
    }
   }
  },
  {
   "cell_type": "code",
   "execution_count": 11,
   "outputs": [
    {
     "name": "stdout",
     "output_type": "stream",
     "text": [
      "Métricas de evaluación:\n",
      "Precision: 0.7710\n",
      "Recall: 0.7614\n",
      "F1-score: 0.7530\n"
     ]
    }
   ],
   "source": [
    "eval_model(y_test, y_pred)"
   ],
   "metadata": {
    "collapsed": false,
    "ExecuteTime": {
     "end_time": "2023-10-10T19:45:25.177716312Z",
     "start_time": "2023-10-10T19:45:25.131209645Z"
    }
   }
  },
  {
   "cell_type": "code",
   "execution_count": 12,
   "outputs": [
    {
     "name": "stdout",
     "output_type": "stream",
     "text": [
      "{'0': {'precision': 0.7377049180327869, 'recall': 0.9, 'f1-score': 0.8108108108108109, 'support': 50.0}, '1': {'precision': 0.8148148148148148, 'recall': 0.5789473684210527, 'f1-score': 0.6769230769230768, 'support': 38.0}, 'accuracy': 0.7613636363636364, 'macro avg': {'precision': 0.7762598664238008, 'recall': 0.7394736842105263, 'f1-score': 0.7438669438669439, 'support': 88.0}, 'weighted avg': {'precision': 0.7710023734613898, 'recall': 0.7613636363636364, 'f1-score': 0.752995652995653, 'support': 88.0}}\n",
      "              precision    recall  f1-score   support\n",
      "\n",
      "           0       0.74      0.90      0.81        50\n",
      "           1       0.81      0.58      0.68        38\n",
      "\n",
      "    accuracy                           0.76        88\n",
      "   macro avg       0.78      0.74      0.74        88\n",
      "weighted avg       0.77      0.76      0.75        88\n",
      "\n"
     ]
    }
   ],
   "source": [
    "show_report(y_test, y_pred)"
   ],
   "metadata": {
    "collapsed": false,
    "ExecuteTime": {
     "end_time": "2023-10-10T19:45:25.194028656Z",
     "start_time": "2023-10-10T19:45:25.175019676Z"
    }
   }
  }
 ],
 "metadata": {
  "kernelspec": {
   "display_name": "Python 3",
   "language": "python",
   "name": "python3"
  },
  "language_info": {
   "codemirror_mode": {
    "name": "ipython",
    "version": 2
   },
   "file_extension": ".py",
   "mimetype": "text/x-python",
   "name": "python",
   "nbconvert_exporter": "python",
   "pygments_lexer": "ipython2",
   "version": "2.7.6"
  }
 },
 "nbformat": 4,
 "nbformat_minor": 0
}
