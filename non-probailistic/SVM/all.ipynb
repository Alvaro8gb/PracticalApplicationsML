{
 "cells": [
  {
   "cell_type": "markdown",
   "source": [
    "# Super Vector Machine (SVM)"
   ],
   "metadata": {
    "collapsed": false
   }
  },
  {
   "cell_type": "code",
   "execution_count": 1,
   "outputs": [],
   "source": [
    "import sys\n",
    "sys.path.append(\"../../my-staff\")\n",
    "from utils import pipline_evaluation\n",
    "from database import load_ds, load_params\n",
    "from sklearn.svm import SVC"
   ],
   "metadata": {
    "collapsed": false,
    "ExecuteTime": {
     "end_time": "2023-11-18T20:40:31.190360294Z",
     "start_time": "2023-11-18T20:40:30.341539799Z"
    }
   }
  },
  {
   "cell_type": "markdown",
   "source": [
    "# Load dataset"
   ],
   "metadata": {
    "collapsed": false
   }
  },
  {
   "cell_type": "code",
   "execution_count": 2,
   "outputs": [
    {
     "data": {
      "text/plain": "(293, 25)"
     },
     "execution_count": 2,
     "metadata": {},
     "output_type": "execute_result"
    }
   ],
   "source": [
    "X, y, features_names, class_names = load_ds(\"all\")\n",
    "X.shape"
   ],
   "metadata": {
    "collapsed": false,
    "ExecuteTime": {
     "end_time": "2023-11-18T20:40:31.190741964Z",
     "start_time": "2023-11-18T20:40:31.190178Z"
    }
   }
  },
  {
   "cell_type": "code",
   "execution_count": 3,
   "outputs": [],
   "source": [
    "model = SVC()"
   ],
   "metadata": {
    "collapsed": false,
    "ExecuteTime": {
     "end_time": "2023-11-18T20:40:31.190877957Z",
     "start_time": "2023-11-18T20:40:31.190520225Z"
    }
   }
  },
  {
   "cell_type": "markdown",
   "source": [
    "## ALL"
   ],
   "metadata": {
    "collapsed": false
   }
  },
  {
   "cell_type": "code",
   "execution_count": 4,
   "outputs": [],
   "source": [
    "params = load_params(\"SVM\")"
   ],
   "metadata": {
    "collapsed": false,
    "ExecuteTime": {
     "end_time": "2023-11-18T20:40:31.190952104Z",
     "start_time": "2023-11-18T20:40:31.190668452Z"
    }
   }
  },
  {
   "cell_type": "code",
   "execution_count": 5,
   "outputs": [
    {
     "data": {
      "text/plain": "{'C': [0.1, 1],\n 'kernel': ['linear', 'rbf', 'sigmoid'],\n 'gamma': ['scale', 'auto']}"
     },
     "execution_count": 5,
     "metadata": {},
     "output_type": "execute_result"
    }
   ],
   "source": [
    "params"
   ],
   "metadata": {
    "collapsed": false,
    "ExecuteTime": {
     "end_time": "2023-11-18T20:40:31.191085103Z",
     "start_time": "2023-11-18T20:40:31.190819837Z"
    }
   }
  },
  {
   "cell_type": "code",
   "execution_count": 6,
   "outputs": [
    {
     "name": "stdout",
     "output_type": "stream",
     "text": [
      "----------------------------------------\n",
      "GridSearchCV f1 0.7479909177470153 {'C': 0.1, 'gamma': 'scale', 'kernel': 'linear'}\n",
      "Train classes: [134 100]\n",
      "Test classes: [34 25]\n",
      "----------------------------------------\n",
      "Métricas de evaluación:\n",
      "Precision: 0.8696\n",
      "Recall: 0.8000\n",
      "F1-score: 0.8333\n",
      "----------------------------------------\n",
      "GridSearchCV f1 0.7581461257262088 {'C': 0.1, 'gamma': 'scale', 'kernel': 'linear'}\n",
      "Train classes: [134 100]\n",
      "Test classes: [34 25]\n",
      "----------------------------------------\n",
      "Métricas de evaluación:\n",
      "Precision: 0.8333\n",
      "Recall: 0.6000\n",
      "F1-score: 0.6977\n",
      "----------------------------------------\n",
      "GridSearchCV f1 0.7821131448530829 {'C': 0.1, 'gamma': 'scale', 'kernel': 'linear'}\n",
      "Train classes: [134 100]\n",
      "Test classes: [34 25]\n",
      "----------------------------------------\n",
      "Métricas de evaluación:\n",
      "Precision: 0.7500\n",
      "Recall: 0.7200\n",
      "F1-score: 0.7347\n",
      "----------------------------------------\n",
      "GridSearchCV f1 0.7787530736311223 {'C': 0.1, 'gamma': 'scale', 'kernel': 'linear'}\n",
      "Train classes: [135 100]\n",
      "Test classes: [33 25]\n",
      "----------------------------------------\n",
      "Métricas de evaluación:\n",
      "Precision: 0.8261\n",
      "Recall: 0.7600\n",
      "F1-score: 0.7917\n",
      "----------------------------------------\n",
      "GridSearchCV f1 0.774052920763447 {'C': 0.1, 'gamma': 'scale', 'kernel': 'linear'}\n",
      "Train classes: [135 100]\n",
      "Test classes: [33 25]\n",
      "----------------------------------------\n",
      "Métricas de evaluación:\n",
      "Precision: 0.8000\n",
      "Recall: 0.8000\n",
      "F1-score: 0.8000\n",
      "0.7715 \\pm 0.05\n"
     ]
    }
   ],
   "source": [
    "results = pipline_evaluation(X.values, y, model, params)"
   ],
   "metadata": {
    "collapsed": false,
    "ExecuteTime": {
     "end_time": "2023-11-18T20:59:12.251785798Z",
     "start_time": "2023-11-18T20:40:31.191325248Z"
    }
   }
  },
  {
   "cell_type": "code",
   "execution_count": 7,
   "outputs": [
    {
     "data": {
      "text/plain": "'$0.7715 \\\\pm 0.05$ & $-$ &'"
     },
     "execution_count": 7,
     "metadata": {},
     "output_type": "execute_result"
    }
   ],
   "source": [
    "results"
   ],
   "metadata": {
    "collapsed": false,
    "ExecuteTime": {
     "end_time": "2023-11-18T20:59:12.252214496Z",
     "start_time": "2023-11-18T20:59:12.250152539Z"
    }
   }
  },
  {
   "cell_type": "markdown",
   "source": [
    "## Univar"
   ],
   "metadata": {
    "collapsed": false
   }
  },
  {
   "cell_type": "code",
   "execution_count": 8,
   "outputs": [],
   "source": [
    "X_uni, y_uni, features_names_uni, class_names_uni = load_ds(\"univariant_15\")\n"
   ],
   "metadata": {
    "collapsed": false,
    "ExecuteTime": {
     "end_time": "2023-11-18T20:59:12.252339911Z",
     "start_time": "2023-11-18T20:59:12.250274739Z"
    }
   }
  },
  {
   "cell_type": "code",
   "execution_count": 9,
   "outputs": [
    {
     "name": "stdout",
     "output_type": "stream",
     "text": [
      "----------------------------------------\n",
      "GridSearchCV f1 0.7409439705234491 {'C': 0.1, 'gamma': 'scale', 'kernel': 'linear'}\n",
      "Train classes: [134 100]\n",
      "Test classes: [34 25]\n",
      "----------------------------------------\n",
      "Métricas de evaluación:\n",
      "Precision: 0.8571\n",
      "Recall: 0.7200\n",
      "F1-score: 0.7826\n",
      "----------------------------------------\n",
      "GridSearchCV f1 0.7641367766618844 {'C': 1, 'gamma': 'scale', 'kernel': 'linear'}\n",
      "Train classes: [134 100]\n",
      "Test classes: [34 25]\n",
      "----------------------------------------\n",
      "Métricas de evaluación:\n",
      "Precision: 0.7895\n",
      "Recall: 0.6000\n",
      "F1-score: 0.6818\n",
      "----------------------------------------\n",
      "GridSearchCV f1 0.6945114025759187 {'C': 0.1, 'gamma': 'scale', 'kernel': 'linear'}\n",
      "Train classes: [134 100]\n",
      "Test classes: [34 25]\n",
      "----------------------------------------\n",
      "Métricas de evaluación:\n",
      "Precision: 0.8800\n",
      "Recall: 0.8800\n",
      "F1-score: 0.8800\n",
      "----------------------------------------\n",
      "GridSearchCV f1 0.7807233626588465 {'C': 0.1, 'gamma': 'scale', 'kernel': 'linear'}\n",
      "Train classes: [135 100]\n",
      "Test classes: [33 25]\n",
      "----------------------------------------\n",
      "Métricas de evaluación:\n",
      "Precision: 0.8095\n",
      "Recall: 0.6800\n",
      "F1-score: 0.7391\n",
      "----------------------------------------\n",
      "GridSearchCV f1 0.765631868131868 {'C': 0.1, 'gamma': 'scale', 'kernel': 'linear'}\n",
      "Train classes: [135 100]\n",
      "Test classes: [33 25]\n",
      "----------------------------------------\n",
      "Métricas de evaluación:\n",
      "Precision: 0.7727\n",
      "Recall: 0.6800\n",
      "F1-score: 0.7234\n",
      "0.7614 \\pm 0.07\n"
     ]
    },
    {
     "data": {
      "text/plain": "'$0.7614 \\\\pm 0.07$ & $-$ &'"
     },
     "execution_count": 9,
     "metadata": {},
     "output_type": "execute_result"
    }
   ],
   "source": [
    "results = pipline_evaluation(X_uni.values, y_uni, model, params)\n",
    "results"
   ],
   "metadata": {
    "collapsed": false,
    "ExecuteTime": {
     "end_time": "2023-11-18T21:14:19.170312161Z",
     "start_time": "2023-11-18T20:59:12.250318309Z"
    }
   }
  },
  {
   "cell_type": "markdown",
   "source": [
    "# Multi"
   ],
   "metadata": {
    "collapsed": false
   }
  },
  {
   "cell_type": "code",
   "execution_count": 10,
   "outputs": [
    {
     "data": {
      "text/plain": "(293, 15)"
     },
     "execution_count": 10,
     "metadata": {},
     "output_type": "execute_result"
    }
   ],
   "source": [
    "X_mult, y_mult, features_names_mult, class_names_mult = load_ds(\"multivariant_15\")\n",
    "\n",
    "X_mult.shape"
   ],
   "metadata": {
    "collapsed": false
   }
  },
  {
   "cell_type": "code",
   "execution_count": 11,
   "outputs": [
    {
     "name": "stdout",
     "output_type": "stream",
     "text": [
      "----------------------------------------\n",
      "GridSearchCV f1 0.711111111111111 {'C': 0.1, 'gamma': 'scale', 'kernel': 'linear'}\n",
      "Train classes: [134 100]\n",
      "Test classes: [34 25]\n",
      "----------------------------------------\n",
      "Métricas de evaluación:\n",
      "Precision: 0.8947\n",
      "Recall: 0.6800\n",
      "F1-score: 0.7727\n",
      "----------------------------------------\n",
      "GridSearchCV f1 0.7463664191964048 {'C': 1, 'gamma': 'scale', 'kernel': 'linear'}\n",
      "Train classes: [134 100]\n",
      "Test classes: [34 25]\n",
      "----------------------------------------\n",
      "Métricas de evaluación:\n",
      "Precision: 0.6818\n",
      "Recall: 0.6000\n",
      "F1-score: 0.6383\n",
      "----------------------------------------\n",
      "GridSearchCV f1 0.7176353332030487 {'C': 1, 'gamma': 'scale', 'kernel': 'linear'}\n",
      "Train classes: [134 100]\n",
      "Test classes: [34 25]\n",
      "----------------------------------------\n",
      "Métricas de evaluación:\n",
      "Precision: 0.8400\n",
      "Recall: 0.8400\n",
      "F1-score: 0.8400\n",
      "----------------------------------------\n",
      "GridSearchCV f1 0.7545618034447823 {'C': 0.1, 'gamma': 'scale', 'kernel': 'linear'}\n",
      "Train classes: [135 100]\n",
      "Test classes: [33 25]\n",
      "----------------------------------------\n",
      "Métricas de evaluación:\n",
      "Precision: 0.7727\n",
      "Recall: 0.6800\n",
      "F1-score: 0.7234\n",
      "----------------------------------------\n",
      "GridSearchCV f1 0.7542032967032967 {'C': 0.1, 'gamma': 'scale', 'kernel': 'linear'}\n",
      "Train classes: [135 100]\n",
      "Test classes: [33 25]\n",
      "----------------------------------------\n",
      "Métricas de evaluación:\n",
      "Precision: 0.7619\n",
      "Recall: 0.6400\n",
      "F1-score: 0.6957\n",
      "0.7340 \\pm 0.07\n"
     ]
    },
    {
     "data": {
      "text/plain": "'$0.7340 \\\\pm 0.07$ & $-$ &'"
     },
     "execution_count": 11,
     "metadata": {},
     "output_type": "execute_result"
    }
   ],
   "source": [
    "results = pipline_evaluation(X_mult.values, y_mult, model, params)\n",
    "results"
   ],
   "metadata": {
    "collapsed": false
   }
  },
  {
   "cell_type": "markdown",
   "source": [
    "## Wrapper\n"
   ],
   "metadata": {
    "collapsed": false
   }
  },
  {
   "cell_type": "code",
   "execution_count": 12,
   "outputs": [],
   "source": [
    "from utils import wrapper_ds"
   ],
   "metadata": {
    "collapsed": false
   }
  },
  {
   "cell_type": "code",
   "execution_count": 13,
   "outputs": [
    {
     "name": "stdout",
     "output_type": "stream",
     "text": [
      "Index(['N_Days', 'Alk_Phos', 'Drug_D-penicillamine', 'Drug_Placebo',\n",
      "       'Spiders_N', 'Spiders_Y', 'Hepatomegaly_N', 'Hepatomegaly_Y',\n",
      "       'Ascites_N', 'Ascites_Y', 'Edema_N', 'Edema_S', 'Edema_Y', 'Sex_F',\n",
      "       'Sex_M'],\n",
      "      dtype='object')\n"
     ]
    }
   ],
   "source": [
    "x_wrapper = wrapper_ds(X, y, model, 15)"
   ],
   "metadata": {
    "collapsed": false
   }
  },
  {
   "cell_type": "code",
   "execution_count": 14,
   "outputs": [
    {
     "name": "stdout",
     "output_type": "stream",
     "text": [
      "----------------------------------------\n",
      "GridSearchCV f1 0.6873721162041517 {'C': 0.1, 'gamma': 'scale', 'kernel': 'linear'}\n",
      "Train classes: [134 100]\n",
      "Test classes: [34 25]\n",
      "----------------------------------------\n",
      "Métricas de evaluación:\n",
      "Precision: 0.8261\n",
      "Recall: 0.7600\n",
      "F1-score: 0.7917\n",
      "----------------------------------------\n",
      "GridSearchCV f1 0.7285714285714284 {'C': 1, 'gamma': 'scale', 'kernel': 'linear'}\n",
      "Train classes: [134 100]\n",
      "Test classes: [34 25]\n",
      "----------------------------------------\n",
      "Métricas de evaluación:\n",
      "Precision: 0.6818\n",
      "Recall: 0.6000\n",
      "F1-score: 0.6383\n",
      "----------------------------------------\n",
      "GridSearchCV f1 0.6778229448961156 {'C': 0.1, 'gamma': 'scale', 'kernel': 'linear'}\n",
      "Train classes: [134 100]\n",
      "Test classes: [34 25]\n",
      "----------------------------------------\n",
      "Métricas de evaluación:\n",
      "Precision: 0.8947\n",
      "Recall: 0.6800\n",
      "F1-score: 0.7727\n",
      "----------------------------------------\n",
      "GridSearchCV f1 0.7146902026462256 {'C': 0.1, 'gamma': 'scale', 'kernel': 'linear'}\n",
      "Train classes: [135 100]\n",
      "Test classes: [33 25]\n",
      "----------------------------------------\n",
      "Métricas de evaluación:\n",
      "Precision: 0.8000\n",
      "Recall: 0.6400\n",
      "F1-score: 0.7111\n",
      "----------------------------------------\n",
      "GridSearchCV f1 0.7183175397818702 {'C': 1, 'gamma': 'scale', 'kernel': 'linear'}\n",
      "Train classes: [135 100]\n",
      "Test classes: [33 25]\n",
      "----------------------------------------\n",
      "Métricas de evaluación:\n",
      "Precision: 0.7391\n",
      "Recall: 0.6800\n",
      "F1-score: 0.7083\n",
      "0.7244 \\pm 0.05\n"
     ]
    }
   ],
   "source": [
    "results = pipline_evaluation(x_wrapper, y, model, params)"
   ],
   "metadata": {
    "collapsed": false
   }
  },
  {
   "cell_type": "code",
   "execution_count": 15,
   "outputs": [
    {
     "data": {
      "text/plain": "'$0.7244 \\\\pm 0.05$ & $-$ &'"
     },
     "execution_count": 15,
     "metadata": {},
     "output_type": "execute_result"
    }
   ],
   "source": [
    "results"
   ],
   "metadata": {
    "collapsed": false
   }
  }
 ],
 "metadata": {
  "kernelspec": {
   "display_name": "Python 3",
   "language": "python",
   "name": "python3"
  },
  "language_info": {
   "codemirror_mode": {
    "name": "ipython",
    "version": 2
   },
   "file_extension": ".py",
   "mimetype": "text/x-python",
   "name": "python",
   "nbconvert_exporter": "python",
   "pygments_lexer": "ipython2",
   "version": "2.7.6"
  }
 },
 "nbformat": 4,
 "nbformat_minor": 0
}
