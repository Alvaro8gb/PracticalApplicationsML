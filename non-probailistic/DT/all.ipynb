{
 "cells": [
  {
   "cell_type": "markdown",
   "source": [
    "# Decision Tree"
   ],
   "metadata": {
    "collapsed": false
   }
  },
  {
   "cell_type": "code",
   "execution_count": 1,
   "outputs": [],
   "source": [
    "import matplotlib.pyplot as plt\n",
    "from sklearn.tree import DecisionTreeClassifier\n",
    "\n",
    "import sys\n",
    "sys.path.append(\"../../my-staff\")\n",
    "from utils import pipline_evaluation\n",
    "from database import load_ds, load_params\n",
    "from globals import SEED"
   ],
   "metadata": {
    "collapsed": false,
    "ExecuteTime": {
     "end_time": "2023-11-18T19:57:14.538808910Z",
     "start_time": "2023-11-18T19:57:13.844794775Z"
    }
   }
  },
  {
   "cell_type": "markdown",
   "source": [
    "# Load dataset"
   ],
   "metadata": {
    "collapsed": false
   }
  },
  {
   "cell_type": "code",
   "execution_count": 2,
   "outputs": [
    {
     "data": {
      "text/plain": "(293, 25)"
     },
     "execution_count": 2,
     "metadata": {},
     "output_type": "execute_result"
    }
   ],
   "source": [
    "X, y, features_names, class_names = load_ds(\"all\")\n",
    "X.shape"
   ],
   "metadata": {
    "collapsed": false
   }
  },
  {
   "cell_type": "code",
   "execution_count": 3,
   "outputs": [],
   "source": [
    "model = DecisionTreeClassifier(random_state=SEED)"
   ],
   "metadata": {
    "collapsed": false,
    "ExecuteTime": {
     "end_time": "2023-11-18T19:57:14.549429788Z",
     "start_time": "2023-11-18T19:57:14.542535448Z"
    }
   }
  },
  {
   "cell_type": "markdown",
   "source": [
    "## ALL"
   ],
   "metadata": {
    "collapsed": false
   }
  },
  {
   "cell_type": "code",
   "execution_count": 4,
   "outputs": [],
   "source": [
    "params = load_params(\"DecisionTreeClassifier\")"
   ],
   "metadata": {
    "collapsed": false,
    "ExecuteTime": {
     "end_time": "2023-11-18T19:57:14.557432484Z",
     "start_time": "2023-11-18T19:57:14.549858136Z"
    }
   }
  },
  {
   "cell_type": "code",
   "execution_count": 5,
   "outputs": [
    {
     "data": {
      "text/plain": "{'max_depth': [None, 4, 8, 10],\n 'min_samples_split': [2, 8, 16, 32],\n 'min_samples_leaf': [2, 8, 16, 32, 48],\n 'max_features': [None, 'sqrt', 'log2'],\n 'criterion': ['gini', 'entropy', 'log_loss']}"
     },
     "execution_count": 5,
     "metadata": {},
     "output_type": "execute_result"
    }
   ],
   "source": [
    "params"
   ],
   "metadata": {
    "collapsed": false,
    "ExecuteTime": {
     "end_time": "2023-11-18T19:57:14.601364323Z",
     "start_time": "2023-11-18T19:57:14.600835648Z"
    }
   }
  },
  {
   "cell_type": "code",
   "execution_count": 6,
   "outputs": [
    {
     "name": "stdout",
     "output_type": "stream",
     "text": [
      "----------------------------------------\n",
      "GridSearchCV f1 0.7085250296226947 {'criterion': 'entropy', 'max_depth': None, 'max_features': None, 'min_samples_leaf': 2, 'min_samples_split': 32}\n",
      "Train classes: [134 100]\n",
      "Test classes: [34 25]\n",
      "----------------------------------------\n",
      "Métricas de evaluación:\n",
      "Precision: 0.7500\n",
      "Recall: 0.8400\n",
      "F1-score: 0.7925\n",
      "Brier Score: 0.1451\n",
      "----------------------------------------\n",
      "GridSearchCV f1 0.7307855469231718 {'criterion': 'entropy', 'max_depth': 8, 'max_features': 'sqrt', 'min_samples_leaf': 2, 'min_samples_split': 16}\n",
      "Train classes: [134 100]\n",
      "Test classes: [34 25]\n",
      "----------------------------------------\n",
      "Métricas de evaluación:\n",
      "Precision: 0.7000\n",
      "Recall: 0.5600\n",
      "F1-score: 0.6222\n",
      "Brier Score: 0.2023\n",
      "----------------------------------------\n",
      "GridSearchCV f1 0.6729166666666667 {'criterion': 'entropy', 'max_depth': 4, 'max_features': 'log2', 'min_samples_leaf': 8, 'min_samples_split': 2}\n",
      "Train classes: [134 100]\n",
      "Test classes: [34 25]\n",
      "----------------------------------------\n",
      "Métricas de evaluación:\n",
      "Precision: 0.6429\n",
      "Recall: 0.7200\n",
      "F1-score: 0.6792\n",
      "Brier Score: 0.1973\n",
      "----------------------------------------\n",
      "GridSearchCV f1 0.7330263899838176 {'criterion': 'gini', 'max_depth': None, 'max_features': 'sqrt', 'min_samples_leaf': 2, 'min_samples_split': 2}\n",
      "Train classes: [135 100]\n",
      "Test classes: [33 25]\n",
      "----------------------------------------\n",
      "Métricas de evaluación:\n",
      "Precision: 0.7391\n",
      "Recall: 0.6800\n",
      "F1-score: 0.7083\n",
      "Brier Score: 0.1844\n",
      "----------------------------------------\n",
      "GridSearchCV f1 0.7146521824487926 {'criterion': 'entropy', 'max_depth': 4, 'max_features': None, 'min_samples_leaf': 2, 'min_samples_split': 2}\n",
      "Train classes: [135 100]\n",
      "Test classes: [33 25]\n",
      "----------------------------------------\n",
      "Métricas de evaluación:\n",
      "Precision: 0.6818\n",
      "Recall: 0.6000\n",
      "F1-score: 0.6383\n",
      "Brier Score: 0.2247\n",
      "0.6881 \\pm 0.06\n",
      "0.1908 \\pm 0.03\n"
     ]
    }
   ],
   "source": [
    "results_all = pipline_evaluation(X.values, y, model, params)"
   ],
   "metadata": {
    "collapsed": false,
    "ExecuteTime": {
     "end_time": "2023-11-18T19:57:22.013947452Z",
     "start_time": "2023-11-18T19:57:14.601025023Z"
    }
   }
  },
  {
   "cell_type": "code",
   "execution_count": 7,
   "outputs": [
    {
     "name": "stdout",
     "output_type": "stream",
     "text": [
      "$0.6881 \\pm 0.06$ & $0.1908 \\pm 0.03$ &\n"
     ]
    }
   ],
   "source": [
    "print(results_all)"
   ],
   "metadata": {
    "collapsed": false,
    "ExecuteTime": {
     "end_time": "2023-11-18T19:57:22.023800826Z",
     "start_time": "2023-11-18T19:57:22.014205950Z"
    }
   }
  },
  {
   "cell_type": "markdown",
   "source": [
    "## Univar"
   ],
   "metadata": {
    "collapsed": false
   }
  },
  {
   "cell_type": "code",
   "execution_count": 8,
   "outputs": [],
   "source": [
    "X_uni, y_uni, features_names_uni, class_names_uni = load_ds(\"univariant_15\")\n"
   ],
   "metadata": {
    "collapsed": false,
    "ExecuteTime": {
     "end_time": "2023-11-18T19:57:22.050069805Z",
     "start_time": "2023-11-18T19:57:22.023900635Z"
    }
   }
  },
  {
   "cell_type": "code",
   "execution_count": 9,
   "outputs": [
    {
     "name": "stdout",
     "output_type": "stream",
     "text": [
      "----------------------------------------\n",
      "GridSearchCV f1 0.664824148282795 {'criterion': 'entropy', 'max_depth': None, 'max_features': None, 'min_samples_leaf': 2, 'min_samples_split': 32}\n",
      "Train classes: [134 100]\n",
      "Test classes: [34 25]\n",
      "----------------------------------------\n",
      "Métricas de evaluación:\n",
      "Precision: 0.8000\n",
      "Recall: 0.8000\n",
      "F1-score: 0.8000\n",
      "Brier Score: 0.1425\n",
      "----------------------------------------\n",
      "GridSearchCV f1 0.6995070195026495 {'criterion': 'gini', 'max_depth': None, 'max_features': 'sqrt', 'min_samples_leaf': 48, 'min_samples_split': 2}\n",
      "Train classes: [134 100]\n",
      "Test classes: [34 25]\n",
      "----------------------------------------\n",
      "Métricas de evaluación:\n",
      "Precision: 0.7500\n",
      "Recall: 0.6000\n",
      "F1-score: 0.6667\n",
      "Brier Score: 0.1886\n",
      "----------------------------------------\n",
      "GridSearchCV f1 0.6942512465979298 {'criterion': 'gini', 'max_depth': None, 'max_features': 'sqrt', 'min_samples_leaf': 32, 'min_samples_split': 2}\n",
      "Train classes: [134 100]\n",
      "Test classes: [34 25]\n",
      "----------------------------------------\n",
      "Métricas de evaluación:\n",
      "Precision: 0.6923\n",
      "Recall: 0.7200\n",
      "F1-score: 0.7059\n",
      "Brier Score: 0.1784\n",
      "----------------------------------------\n",
      "GridSearchCV f1 0.7077664161708561 {'criterion': 'entropy', 'max_depth': 10, 'max_features': 'sqrt', 'min_samples_leaf': 2, 'min_samples_split': 2}\n",
      "Train classes: [135 100]\n",
      "Test classes: [33 25]\n",
      "----------------------------------------\n",
      "Métricas de evaluación:\n",
      "Precision: 0.6296\n",
      "Recall: 0.6800\n",
      "F1-score: 0.6538\n",
      "Brier Score: 0.2554\n",
      "----------------------------------------\n",
      "GridSearchCV f1 0.7542424242424243 {'criterion': 'gini', 'max_depth': None, 'max_features': 'sqrt', 'min_samples_leaf': 32, 'min_samples_split': 2}\n",
      "Train classes: [135 100]\n",
      "Test classes: [33 25]\n",
      "----------------------------------------\n",
      "Métricas de evaluación:\n",
      "Precision: 0.6250\n",
      "Recall: 0.6000\n",
      "F1-score: 0.6122\n",
      "Brier Score: 0.2106\n",
      "0.6877 \\pm 0.06\n",
      "0.1951 \\pm 0.04\n"
     ]
    }
   ],
   "source": [
    "results_uni = pipline_evaluation(X_uni.values, y_uni, model, params)"
   ],
   "metadata": {
    "collapsed": false,
    "ExecuteTime": {
     "end_time": "2023-11-18T19:57:28.938275401Z",
     "start_time": "2023-11-18T19:57:22.035610932Z"
    }
   }
  },
  {
   "cell_type": "code",
   "execution_count": 10,
   "outputs": [
    {
     "name": "stdout",
     "output_type": "stream",
     "text": [
      "$0.6877 \\pm 0.06$ & $0.1951 \\pm 0.04$ &\n"
     ]
    }
   ],
   "source": [
    "print(results_uni)"
   ],
   "metadata": {
    "collapsed": false,
    "ExecuteTime": {
     "end_time": "2023-11-18T19:57:28.941673411Z",
     "start_time": "2023-11-18T19:57:28.938993138Z"
    }
   }
  },
  {
   "cell_type": "markdown",
   "source": [
    "# Multi"
   ],
   "metadata": {
    "collapsed": false
   }
  },
  {
   "cell_type": "code",
   "execution_count": 11,
   "outputs": [
    {
     "data": {
      "text/plain": "(293, 15)"
     },
     "execution_count": 11,
     "metadata": {},
     "output_type": "execute_result"
    }
   ],
   "source": [
    "X_mult, y_mult, features_names_mult, class_names_mult = load_ds(\"multivariant_15\")\n",
    "\n",
    "X_mult.shape"
   ],
   "metadata": {
    "collapsed": false,
    "ExecuteTime": {
     "end_time": "2023-11-18T19:57:28.980738048Z",
     "start_time": "2023-11-18T19:57:28.942375743Z"
    }
   }
  },
  {
   "cell_type": "code",
   "execution_count": 12,
   "outputs": [
    {
     "name": "stdout",
     "output_type": "stream",
     "text": [
      "----------------------------------------\n",
      "GridSearchCV f1 0.6807114423393494 {'criterion': 'entropy', 'max_depth': 8, 'max_features': 'sqrt', 'min_samples_leaf': 2, 'min_samples_split': 16}\n",
      "Train classes: [134 100]\n",
      "Test classes: [34 25]\n",
      "----------------------------------------\n",
      "Métricas de evaluación:\n",
      "Precision: 0.7692\n",
      "Recall: 0.8000\n",
      "F1-score: 0.7843\n",
      "Brier Score: 0.1656\n",
      "----------------------------------------\n",
      "GridSearchCV f1 0.6810218147052355 {'criterion': 'entropy', 'max_depth': None, 'max_features': None, 'min_samples_leaf': 2, 'min_samples_split': 32}\n",
      "Train classes: [134 100]\n",
      "Test classes: [34 25]\n",
      "----------------------------------------\n",
      "Métricas de evaluación:\n",
      "Precision: 0.7778\n",
      "Recall: 0.5600\n",
      "F1-score: 0.6512\n",
      "Brier Score: 0.1875\n",
      "----------------------------------------\n",
      "GridSearchCV f1 0.7080820173019421 {'criterion': 'gini', 'max_depth': None, 'max_features': 'sqrt', 'min_samples_leaf': 8, 'min_samples_split': 2}\n",
      "Train classes: [134 100]\n",
      "Test classes: [34 25]\n",
      "----------------------------------------\n",
      "Métricas de evaluación:\n",
      "Precision: 0.6957\n",
      "Recall: 0.6400\n",
      "F1-score: 0.6667\n",
      "Brier Score: 0.2189\n",
      "----------------------------------------\n",
      "GridSearchCV f1 0.6821670212562053 {'criterion': 'gini', 'max_depth': None, 'max_features': None, 'min_samples_leaf': 16, 'min_samples_split': 2}\n",
      "Train classes: [135 100]\n",
      "Test classes: [33 25]\n",
      "----------------------------------------\n",
      "Métricas de evaluación:\n",
      "Precision: 0.8000\n",
      "Recall: 0.6400\n",
      "F1-score: 0.7111\n",
      "Brier Score: 0.1728\n",
      "----------------------------------------\n",
      "GridSearchCV f1 0.726202270743067 {'criterion': 'entropy', 'max_depth': 4, 'max_features': None, 'min_samples_leaf': 2, 'min_samples_split': 8}\n",
      "Train classes: [135 100]\n",
      "Test classes: [33 25]\n",
      "----------------------------------------\n",
      "Métricas de evaluación:\n",
      "Precision: 0.7273\n",
      "Recall: 0.6400\n",
      "F1-score: 0.6809\n",
      "Brier Score: 0.2027\n",
      "0.6988 \\pm 0.05\n",
      "0.1895 \\pm 0.02\n"
     ]
    }
   ],
   "source": [
    "results_multi = pipline_evaluation(X_mult.values, y_mult, model, params)"
   ],
   "metadata": {
    "collapsed": false,
    "ExecuteTime": {
     "end_time": "2023-11-18T19:57:36.069337620Z",
     "start_time": "2023-11-18T19:57:28.961236352Z"
    }
   }
  },
  {
   "cell_type": "code",
   "execution_count": 13,
   "outputs": [
    {
     "name": "stdout",
     "output_type": "stream",
     "text": [
      "$0.6988 \\pm 0.05$ & $0.1895 \\pm 0.02$ &\n"
     ]
    }
   ],
   "source": [
    "print(results_multi)"
   ],
   "metadata": {
    "collapsed": false,
    "ExecuteTime": {
     "end_time": "2023-11-18T19:57:36.080693256Z",
     "start_time": "2023-11-18T19:57:36.070113910Z"
    }
   }
  },
  {
   "cell_type": "markdown",
   "source": [
    "## Wrapper\n"
   ],
   "metadata": {
    "collapsed": false
   }
  },
  {
   "cell_type": "code",
   "execution_count": 14,
   "outputs": [],
   "source": [
    "from utils import wrapper_ds"
   ],
   "metadata": {
    "collapsed": false,
    "ExecuteTime": {
     "end_time": "2023-11-18T19:57:36.104318371Z",
     "start_time": "2023-11-18T19:57:36.081182174Z"
    }
   }
  },
  {
   "cell_type": "code",
   "execution_count": 15,
   "outputs": [
    {
     "name": "stdout",
     "output_type": "stream",
     "text": [
      "Index(['N_Days', 'Age', 'Albumin', 'Alk_Phos', 'SGOT', 'Tryglicerides',\n",
      "       'Platelets', 'Prothrombin', 'Drug_Placebo', 'Spiders_N', 'Spiders_Y',\n",
      "       'Hepatomegaly_Y', 'Ascites_Y', 'Edema_S', 'Edema_Y'],\n",
      "      dtype='object')\n"
     ]
    }
   ],
   "source": [
    "x_wrapper = wrapper_ds(X, y, model, 15)"
   ],
   "metadata": {
    "collapsed": false,
    "ExecuteTime": {
     "end_time": "2023-11-18T19:57:38.672629867Z",
     "start_time": "2023-11-18T19:57:36.091158358Z"
    }
   }
  },
  {
   "cell_type": "code",
   "execution_count": 16,
   "outputs": [
    {
     "name": "stdout",
     "output_type": "stream",
     "text": [
      "----------------------------------------\n",
      "GridSearchCV f1 0.666106250276463 {'criterion': 'gini', 'max_depth': 8, 'max_features': 'sqrt', 'min_samples_leaf': 2, 'min_samples_split': 16}\n",
      "Train classes: [134 100]\n",
      "Test classes: [34 25]\n",
      "----------------------------------------\n",
      "Métricas de evaluación:\n",
      "Precision: 0.6429\n",
      "Recall: 0.7200\n",
      "F1-score: 0.6792\n",
      "Brier Score: 0.2107\n",
      "----------------------------------------\n",
      "GridSearchCV f1 0.6879009805839074 {'criterion': 'entropy', 'max_depth': None, 'max_features': None, 'min_samples_leaf': 2, 'min_samples_split': 32}\n",
      "Train classes: [134 100]\n",
      "Test classes: [34 25]\n",
      "----------------------------------------\n",
      "Métricas de evaluación:\n",
      "Precision: 0.7727\n",
      "Recall: 0.6800\n",
      "F1-score: 0.7234\n",
      "Brier Score: 0.1689\n",
      "----------------------------------------\n",
      "GridSearchCV f1 0.704298682762305 {'criterion': 'gini', 'max_depth': 4, 'max_features': None, 'min_samples_leaf': 2, 'min_samples_split': 2}\n",
      "Train classes: [134 100]\n",
      "Test classes: [34 25]\n",
      "----------------------------------------\n",
      "Métricas de evaluación:\n",
      "Precision: 0.6667\n",
      "Recall: 0.6400\n",
      "F1-score: 0.6531\n",
      "Brier Score: 0.2266\n",
      "----------------------------------------\n",
      "GridSearchCV f1 0.6896602773881876 {'criterion': 'gini', 'max_depth': 4, 'max_features': 'sqrt', 'min_samples_leaf': 2, 'min_samples_split': 8}\n",
      "Train classes: [135 100]\n",
      "Test classes: [33 25]\n",
      "----------------------------------------\n",
      "Métricas de evaluación:\n",
      "Precision: 0.7500\n",
      "Recall: 0.4800\n",
      "F1-score: 0.5854\n",
      "Brier Score: 0.2199\n",
      "----------------------------------------\n",
      "GridSearchCV f1 0.6895978010392685 {'criterion': 'gini', 'max_depth': None, 'max_features': None, 'min_samples_leaf': 2, 'min_samples_split': 8}\n",
      "Train classes: [135 100]\n",
      "Test classes: [33 25]\n",
      "----------------------------------------\n",
      "Métricas de evaluación:\n",
      "Precision: 0.7273\n",
      "Recall: 0.6400\n",
      "F1-score: 0.6809\n",
      "Brier Score: 0.2549\n",
      "0.6644 \\pm 0.05\n",
      "0.2162 \\pm 0.03\n"
     ]
    }
   ],
   "source": [
    "results_wrapper = pipline_evaluation(x_wrapper, y, model, params)"
   ],
   "metadata": {
    "collapsed": false,
    "ExecuteTime": {
     "end_time": "2023-11-18T19:57:46.346884291Z",
     "start_time": "2023-11-18T19:57:38.672933746Z"
    }
   }
  },
  {
   "cell_type": "code",
   "execution_count": 17,
   "outputs": [
    {
     "name": "stdout",
     "output_type": "stream",
     "text": [
      "$0.6644 \\pm 0.05$ & $0.2162 \\pm 0.03$ &\n"
     ]
    }
   ],
   "source": [
    "print(results_wrapper)"
   ],
   "metadata": {
    "collapsed": false,
    "ExecuteTime": {
     "end_time": "2023-11-18T19:57:46.351517052Z",
     "start_time": "2023-11-18T19:57:46.347787869Z"
    }
   }
  },
  {
   "cell_type": "markdown",
   "source": [
    "# Visualización del modelo"
   ],
   "metadata": {
    "collapsed": false
   }
  },
  {
   "cell_type": "code",
   "execution_count": 18,
   "outputs": [],
   "source": [
    "from sklearn.tree import plot_tree"
   ],
   "metadata": {
    "collapsed": false,
    "ExecuteTime": {
     "end_time": "2023-11-18T19:57:46.383278222Z",
     "start_time": "2023-11-18T19:57:46.354045020Z"
    }
   }
  },
  {
   "cell_type": "code",
   "execution_count": 19,
   "outputs": [
    {
     "ename": "NotFittedError",
     "evalue": "This DecisionTreeClassifier instance is not fitted yet. Call 'fit' with appropriate arguments before using this estimator.",
     "output_type": "error",
     "traceback": [
      "\u001B[0;31m---------------------------------------------------------------------------\u001B[0m",
      "\u001B[0;31mNotFittedError\u001B[0m                            Traceback (most recent call last)",
      "Cell \u001B[0;32mIn[19], line 3\u001B[0m\n\u001B[1;32m      1\u001B[0m \u001B[38;5;66;03m# Pintamos el árbol para sacar conclusiones\u001B[39;00m\n\u001B[1;32m      2\u001B[0m plt\u001B[38;5;241m.\u001B[39mfigure(figsize\u001B[38;5;241m=\u001B[39m(\u001B[38;5;241m40\u001B[39m, \u001B[38;5;241m15\u001B[39m))\n\u001B[0;32m----> 3\u001B[0m \u001B[43mplot_tree\u001B[49m\u001B[43m(\u001B[49m\u001B[43mmodel\u001B[49m\u001B[43m,\u001B[49m\u001B[43m \u001B[49m\u001B[43mfilled\u001B[49m\u001B[38;5;241;43m=\u001B[39;49m\u001B[38;5;28;43;01mTrue\u001B[39;49;00m\u001B[43m,\u001B[49m\u001B[43m \u001B[49m\u001B[43mfeature_names\u001B[49m\u001B[38;5;241;43m=\u001B[39;49m\u001B[43mfeatures_names\u001B[49m\u001B[43m,\u001B[49m\u001B[43m \u001B[49m\u001B[43mclass_names\u001B[49m\u001B[38;5;241;43m=\u001B[39;49m\u001B[43mclass_names\u001B[49m\u001B[43m,\u001B[49m\u001B[43m \u001B[49m\u001B[43mrounded\u001B[49m\u001B[38;5;241;43m=\u001B[39;49m\u001B[38;5;28;43;01mTrue\u001B[39;49;00m\u001B[43m)\u001B[49m\n\u001B[1;32m      4\u001B[0m plt\u001B[38;5;241m.\u001B[39mshow()\n",
      "File \u001B[0;32m~/Desktop/MachineLearning/PracticalApplications/.venv/lib/python3.10/site-packages/sklearn/utils/_param_validation.py:211\u001B[0m, in \u001B[0;36mvalidate_params.<locals>.decorator.<locals>.wrapper\u001B[0;34m(*args, **kwargs)\u001B[0m\n\u001B[1;32m    205\u001B[0m \u001B[38;5;28;01mtry\u001B[39;00m:\n\u001B[1;32m    206\u001B[0m     \u001B[38;5;28;01mwith\u001B[39;00m config_context(\n\u001B[1;32m    207\u001B[0m         skip_parameter_validation\u001B[38;5;241m=\u001B[39m(\n\u001B[1;32m    208\u001B[0m             prefer_skip_nested_validation \u001B[38;5;129;01mor\u001B[39;00m global_skip_validation\n\u001B[1;32m    209\u001B[0m         )\n\u001B[1;32m    210\u001B[0m     ):\n\u001B[0;32m--> 211\u001B[0m         \u001B[38;5;28;01mreturn\u001B[39;00m \u001B[43mfunc\u001B[49m\u001B[43m(\u001B[49m\u001B[38;5;241;43m*\u001B[39;49m\u001B[43margs\u001B[49m\u001B[43m,\u001B[49m\u001B[43m \u001B[49m\u001B[38;5;241;43m*\u001B[39;49m\u001B[38;5;241;43m*\u001B[39;49m\u001B[43mkwargs\u001B[49m\u001B[43m)\u001B[49m\n\u001B[1;32m    212\u001B[0m \u001B[38;5;28;01mexcept\u001B[39;00m InvalidParameterError \u001B[38;5;28;01mas\u001B[39;00m e:\n\u001B[1;32m    213\u001B[0m     \u001B[38;5;66;03m# When the function is just a wrapper around an estimator, we allow\u001B[39;00m\n\u001B[1;32m    214\u001B[0m     \u001B[38;5;66;03m# the function to delegate validation to the estimator, but we replace\u001B[39;00m\n\u001B[1;32m    215\u001B[0m     \u001B[38;5;66;03m# the name of the estimator by the name of the function in the error\u001B[39;00m\n\u001B[1;32m    216\u001B[0m     \u001B[38;5;66;03m# message to avoid confusion.\u001B[39;00m\n\u001B[1;32m    217\u001B[0m     msg \u001B[38;5;241m=\u001B[39m re\u001B[38;5;241m.\u001B[39msub(\n\u001B[1;32m    218\u001B[0m         \u001B[38;5;124mr\u001B[39m\u001B[38;5;124m\"\u001B[39m\u001B[38;5;124mparameter of \u001B[39m\u001B[38;5;124m\\\u001B[39m\u001B[38;5;124mw+ must be\u001B[39m\u001B[38;5;124m\"\u001B[39m,\n\u001B[1;32m    219\u001B[0m         \u001B[38;5;124mf\u001B[39m\u001B[38;5;124m\"\u001B[39m\u001B[38;5;124mparameter of \u001B[39m\u001B[38;5;132;01m{\u001B[39;00mfunc\u001B[38;5;241m.\u001B[39m\u001B[38;5;18m__qualname__\u001B[39m\u001B[38;5;132;01m}\u001B[39;00m\u001B[38;5;124m must be\u001B[39m\u001B[38;5;124m\"\u001B[39m,\n\u001B[1;32m    220\u001B[0m         \u001B[38;5;28mstr\u001B[39m(e),\n\u001B[1;32m    221\u001B[0m     )\n",
      "File \u001B[0;32m~/Desktop/MachineLearning/PracticalApplications/.venv/lib/python3.10/site-packages/sklearn/tree/_export.py:196\u001B[0m, in \u001B[0;36mplot_tree\u001B[0;34m(decision_tree, max_depth, feature_names, class_names, label, filled, impurity, node_ids, proportion, rounded, precision, ax, fontsize)\u001B[0m\n\u001B[1;32m     77\u001B[0m \u001B[38;5;129m@validate_params\u001B[39m(\n\u001B[1;32m     78\u001B[0m     {\n\u001B[1;32m     79\u001B[0m         \u001B[38;5;124m\"\u001B[39m\u001B[38;5;124mdecision_tree\u001B[39m\u001B[38;5;124m\"\u001B[39m: [DecisionTreeClassifier, DecisionTreeRegressor],\n\u001B[0;32m   (...)\u001B[0m\n\u001B[1;32m    109\u001B[0m     fontsize\u001B[38;5;241m=\u001B[39m\u001B[38;5;28;01mNone\u001B[39;00m,\n\u001B[1;32m    110\u001B[0m ):\n\u001B[1;32m    111\u001B[0m \u001B[38;5;250m    \u001B[39m\u001B[38;5;124;03m\"\"\"Plot a decision tree.\u001B[39;00m\n\u001B[1;32m    112\u001B[0m \n\u001B[1;32m    113\u001B[0m \u001B[38;5;124;03m    The sample counts that are shown are weighted with any sample_weights that\u001B[39;00m\n\u001B[0;32m   (...)\u001B[0m\n\u001B[1;32m    193\u001B[0m \u001B[38;5;124;03m    [...]\u001B[39;00m\n\u001B[1;32m    194\u001B[0m \u001B[38;5;124;03m    \"\"\"\u001B[39;00m\n\u001B[0;32m--> 196\u001B[0m     \u001B[43mcheck_is_fitted\u001B[49m\u001B[43m(\u001B[49m\u001B[43mdecision_tree\u001B[49m\u001B[43m)\u001B[49m\n\u001B[1;32m    198\u001B[0m     exporter \u001B[38;5;241m=\u001B[39m _MPLTreeExporter(\n\u001B[1;32m    199\u001B[0m         max_depth\u001B[38;5;241m=\u001B[39mmax_depth,\n\u001B[1;32m    200\u001B[0m         feature_names\u001B[38;5;241m=\u001B[39mfeature_names,\n\u001B[0;32m   (...)\u001B[0m\n\u001B[1;32m    209\u001B[0m         fontsize\u001B[38;5;241m=\u001B[39mfontsize,\n\u001B[1;32m    210\u001B[0m     )\n\u001B[1;32m    211\u001B[0m     \u001B[38;5;28;01mreturn\u001B[39;00m exporter\u001B[38;5;241m.\u001B[39mexport(decision_tree, ax\u001B[38;5;241m=\u001B[39max)\n",
      "File \u001B[0;32m~/Desktop/MachineLearning/PracticalApplications/.venv/lib/python3.10/site-packages/sklearn/utils/validation.py:1461\u001B[0m, in \u001B[0;36mcheck_is_fitted\u001B[0;34m(estimator, attributes, msg, all_or_any)\u001B[0m\n\u001B[1;32m   1458\u001B[0m     \u001B[38;5;28;01mraise\u001B[39;00m \u001B[38;5;167;01mTypeError\u001B[39;00m(\u001B[38;5;124m\"\u001B[39m\u001B[38;5;132;01m%s\u001B[39;00m\u001B[38;5;124m is not an estimator instance.\u001B[39m\u001B[38;5;124m\"\u001B[39m \u001B[38;5;241m%\u001B[39m (estimator))\n\u001B[1;32m   1460\u001B[0m \u001B[38;5;28;01mif\u001B[39;00m \u001B[38;5;129;01mnot\u001B[39;00m _is_fitted(estimator, attributes, all_or_any):\n\u001B[0;32m-> 1461\u001B[0m     \u001B[38;5;28;01mraise\u001B[39;00m NotFittedError(msg \u001B[38;5;241m%\u001B[39m {\u001B[38;5;124m\"\u001B[39m\u001B[38;5;124mname\u001B[39m\u001B[38;5;124m\"\u001B[39m: \u001B[38;5;28mtype\u001B[39m(estimator)\u001B[38;5;241m.\u001B[39m\u001B[38;5;18m__name__\u001B[39m})\n",
      "\u001B[0;31mNotFittedError\u001B[0m: This DecisionTreeClassifier instance is not fitted yet. Call 'fit' with appropriate arguments before using this estimator."
     ]
    },
    {
     "data": {
      "text/plain": "<Figure size 4000x1500 with 0 Axes>"
     },
     "metadata": {},
     "output_type": "display_data"
    }
   ],
   "source": [
    "# Pintamos el árbol para sacar conclusiones\n",
    "plt.figure(figsize=(40, 15))\n",
    "plot_tree(model, filled=True, feature_names=features_names, class_names=class_names, rounded=True)\n",
    "plt.show()"
   ],
   "metadata": {
    "collapsed": false,
    "ExecuteTime": {
     "end_time": "2023-11-18T19:57:46.693333568Z",
     "start_time": "2023-11-18T19:57:46.372333635Z"
    }
   }
  },
  {
   "cell_type": "code",
   "execution_count": null,
   "outputs": [],
   "source": [
    "print(\"Número de nodos en el árbol de decisión:\", model.tree_.node_count)\n",
    "print(\"Número de hojas\", model.get_n_leaves())"
   ],
   "metadata": {
    "collapsed": false
   }
  },
  {
   "cell_type": "code",
   "execution_count": null,
   "outputs": [],
   "source": [
    "print(\"Training score: \", model.score(X_train[features], y_train))\n",
    "print(\"Test score: \", model.score(X_test[features], y_test))"
   ],
   "metadata": {
    "collapsed": false
   }
  },
  {
   "cell_type": "markdown",
   "source": [
    "# Visualización de características principales"
   ],
   "metadata": {
    "collapsed": false
   }
  },
  {
   "cell_type": "code",
   "execution_count": null,
   "outputs": [],
   "source": [
    "def main_features(clf, feature_names):\n",
    "    importance = clf.feature_importances_\n",
    "    # summarize feature importance\n",
    "\n",
    "    #for i, v in enumerate(importance):\n",
    "    #    print('Feature: %s, Score: %.5f' % (feature_names[i], v))\n",
    "\n",
    "    # plot feature importance\n",
    "    #plt.figure(figsize=(20, 10))\n",
    "\n",
    "    plt.title('Caracteristicas principales')  # Agregar título al gráfico\n",
    "    plt.barh([x for x in range(len(importance))], importance, tick_label=feature_names)\n",
    "    #plt.xticks(rotation=90)\n",
    "    plt.show()"
   ],
   "metadata": {
    "collapsed": false
   }
  },
  {
   "cell_type": "code",
   "execution_count": null,
   "outputs": [],
   "source": [
    "main_features(model, features_names)"
   ],
   "metadata": {
    "collapsed": false
   }
  }
 ],
 "metadata": {
  "kernelspec": {
   "display_name": "Python 3",
   "language": "python",
   "name": "python3"
  },
  "language_info": {
   "codemirror_mode": {
    "name": "ipython",
    "version": 2
   },
   "file_extension": ".py",
   "mimetype": "text/x-python",
   "name": "python",
   "nbconvert_exporter": "python",
   "pygments_lexer": "ipython2",
   "version": "2.7.6"
  }
 },
 "nbformat": 4,
 "nbformat_minor": 0
}
