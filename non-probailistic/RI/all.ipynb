{
 "cells": [
  {
   "cell_type": "markdown",
   "source": [
    "# RIPPER"
   ],
   "metadata": {
    "collapsed": false
   }
  },
  {
   "cell_type": "code",
   "execution_count": 1,
   "outputs": [],
   "source": [
    "import matplotlib.pyplot as plt\n",
    "from sklearn.neighbors import KNeighborsClassifier\n",
    "\n",
    "import sys\n",
    "sys.path.append(\"../../my-staff\")\n",
    "from utils import pipline_evaluation\n",
    "from database import load_ds, load_params\n",
    "import wittgenstein as lw\n"
   ],
   "metadata": {
    "collapsed": false,
    "ExecuteTime": {
     "end_time": "2023-11-18T20:02:19.978504272Z",
     "start_time": "2023-11-18T20:02:19.316800269Z"
    }
   }
  },
  {
   "cell_type": "markdown",
   "source": [
    "# Load dataset"
   ],
   "metadata": {
    "collapsed": false
   }
  },
  {
   "cell_type": "code",
   "execution_count": 2,
   "outputs": [
    {
     "data": {
      "text/plain": "(293, 25)"
     },
     "execution_count": 2,
     "metadata": {},
     "output_type": "execute_result"
    }
   ],
   "source": [
    "X, y, features_names, class_names = load_ds(\"all\")\n",
    "X.shape"
   ],
   "metadata": {
    "collapsed": false,
    "ExecuteTime": {
     "end_time": "2023-11-18T20:02:19.983573044Z",
     "start_time": "2023-11-18T20:02:19.981951221Z"
    }
   }
  },
  {
   "cell_type": "code",
   "execution_count": 3,
   "outputs": [],
   "source": [
    "model = lw.RIPPER()"
   ],
   "metadata": {
    "collapsed": false,
    "ExecuteTime": {
     "end_time": "2023-11-18T20:02:19.992466892Z",
     "start_time": "2023-11-18T20:02:19.985088322Z"
    }
   }
  },
  {
   "cell_type": "markdown",
   "source": [
    "## ALL"
   ],
   "metadata": {
    "collapsed": false
   }
  },
  {
   "cell_type": "code",
   "execution_count": 4,
   "outputs": [],
   "source": [
    "params = load_params(\"RIPPER\")"
   ],
   "metadata": {
    "collapsed": false,
    "ExecuteTime": {
     "end_time": "2023-11-18T20:02:20.019445449Z",
     "start_time": "2023-11-18T20:02:19.993305929Z"
    }
   }
  },
  {
   "cell_type": "code",
   "execution_count": 5,
   "outputs": [
    {
     "data": {
      "text/plain": "{'prune-size': [0.1, 0.3, 0.5],\n 'k': [2, 3, 4],\n 'alpha': [0.1, 1.0, 2.0],\n 'n-discretize-bins': [10, 15, 20]}"
     },
     "execution_count": 5,
     "metadata": {},
     "output_type": "execute_result"
    }
   ],
   "source": [
    "params"
   ],
   "metadata": {
    "collapsed": false,
    "ExecuteTime": {
     "end_time": "2023-11-18T20:02:20.023827749Z",
     "start_time": "2023-11-18T20:02:20.002241388Z"
    }
   }
  },
  {
   "cell_type": "code",
   "execution_count": 6,
   "outputs": [
    {
     "name": "stdout",
     "output_type": "stream",
     "text": [
      "----------------------------------------\n",
      "GridSearchCV f1 0.6646779109515484 {'alpha': 1.0, 'k': 3, 'n-discretize-bins': 15, 'prune-size': 0.1}\n",
      "Train classes: [134 100]\n",
      "Test classes: [34 25]\n",
      "----------------------------------------\n",
      "Métricas de evaluación:\n",
      "Precision: 0.8889\n",
      "Recall: 0.6400\n",
      "F1-score: 0.7442\n",
      "Brier Score: 0.1446\n",
      "----------------------------------------\n",
      "GridSearchCV f1 0.6933971344498528 {'alpha': 1.0, 'k': 3, 'n-discretize-bins': 10, 'prune-size': 0.3}\n",
      "Train classes: [134 100]\n",
      "Test classes: [34 25]\n",
      "----------------------------------------\n",
      "Métricas de evaluación:\n",
      "Precision: 0.7778\n",
      "Recall: 0.2800\n",
      "F1-score: 0.4118\n",
      "Brier Score: 0.2258\n",
      "----------------------------------------\n",
      "GridSearchCV f1 0.6994949866794186 {'alpha': 0.1, 'k': 4, 'n-discretize-bins': 15, 'prune-size': 0.3}\n",
      "Train classes: [134 100]\n",
      "Test classes: [34 25]\n",
      "----------------------------------------\n",
      "Métricas de evaluación:\n",
      "Precision: 0.6087\n",
      "Recall: 0.5600\n",
      "F1-score: 0.5833\n",
      "Brier Score: 0.2586\n",
      "----------------------------------------\n",
      "GridSearchCV f1 0.66989898989899 {'alpha': 0.1, 'k': 4, 'n-discretize-bins': 15, 'prune-size': 0.5}\n",
      "Train classes: [135 100]\n",
      "Test classes: [33 25]\n",
      "----------------------------------------\n",
      "Métricas de evaluación:\n",
      "Precision: 0.8182\n",
      "Recall: 0.3600\n",
      "F1-score: 0.5000\n",
      "Brier Score: 0.2189\n",
      "----------------------------------------\n",
      "GridSearchCV f1 0.6759678891799634 {'alpha': 0.1, 'k': 3, 'n-discretize-bins': 20, 'prune-size': 0.1}\n",
      "Train classes: [135 100]\n",
      "Test classes: [33 25]\n",
      "----------------------------------------\n",
      "Métricas de evaluación:\n",
      "Precision: 0.6667\n",
      "Recall: 0.4800\n",
      "F1-score: 0.5581\n",
      "Brier Score: 0.2775\n",
      "0.5595 \\pm 0.11\n",
      "0.2251 \\pm 0.05\n"
     ]
    }
   ],
   "source": [
    "results = pipline_evaluation(X.values, y, model, params)"
   ],
   "metadata": {
    "collapsed": false,
    "ExecuteTime": {
     "end_time": "2023-11-18T20:03:52.294182031Z",
     "start_time": "2023-11-18T20:02:20.052914510Z"
    }
   }
  },
  {
   "cell_type": "code",
   "execution_count": 7,
   "outputs": [
    {
     "name": "stdout",
     "output_type": "stream",
     "text": [
      "$0.5595 \\pm 0.11$ & $0.2251 \\pm 0.05$ &\n"
     ]
    }
   ],
   "source": [
    "print(results)"
   ],
   "metadata": {
    "collapsed": false,
    "ExecuteTime": {
     "end_time": "2023-11-18T20:03:52.297938237Z",
     "start_time": "2023-11-18T20:03:52.295545941Z"
    }
   }
  },
  {
   "cell_type": "markdown",
   "source": [
    "## Univar"
   ],
   "metadata": {
    "collapsed": false
   }
  },
  {
   "cell_type": "code",
   "execution_count": 8,
   "outputs": [],
   "source": [
    "X_uni, y_uni, features_names_uni, class_names_uni = load_ds(\"univariant_15\")\n"
   ],
   "metadata": {
    "collapsed": false,
    "ExecuteTime": {
     "end_time": "2023-11-18T20:03:52.344816453Z",
     "start_time": "2023-11-18T20:03:52.298514402Z"
    }
   }
  },
  {
   "cell_type": "code",
   "execution_count": 9,
   "outputs": [
    {
     "name": "stdout",
     "output_type": "stream",
     "text": [
      "----------------------------------------\n",
      "GridSearchCV f1 0.6227454212454212 {'alpha': 2.0, 'k': 3, 'n-discretize-bins': 20, 'prune-size': 0.1}\n",
      "Train classes: [134 100]\n",
      "Test classes: [34 25]\n",
      "----------------------------------------\n",
      "Métricas de evaluación:\n",
      "Precision: 0.9333\n",
      "Recall: 0.5600\n",
      "F1-score: 0.7000\n",
      "Brier Score: 0.1544\n",
      "----------------------------------------\n",
      "GridSearchCV f1 0.6934211917810449 {'alpha': 1.0, 'k': 3, 'n-discretize-bins': 15, 'prune-size': 0.1}\n",
      "Train classes: [134 100]\n",
      "Test classes: [34 25]\n",
      "----------------------------------------\n",
      "Métricas de evaluación:\n",
      "Precision: 0.8000\n",
      "Recall: 0.3200\n",
      "F1-score: 0.4571\n",
      "Brier Score: 0.2119\n",
      "----------------------------------------\n",
      "GridSearchCV f1 0.7000917813934084 {'alpha': 0.1, 'k': 4, 'n-discretize-bins': 15, 'prune-size': 0.5}\n",
      "Train classes: [134 100]\n",
      "Test classes: [34 25]\n",
      "----------------------------------------\n",
      "Métricas de evaluación:\n",
      "Precision: 0.8462\n",
      "Recall: 0.4400\n",
      "F1-score: 0.5789\n",
      "Brier Score: 0.1949\n",
      "----------------------------------------\n",
      "GridSearchCV f1 0.6579881829881831 {'alpha': 1.0, 'k': 2, 'n-discretize-bins': 10, 'prune-size': 0.1}\n",
      "Train classes: [135 100]\n",
      "Test classes: [33 25]\n",
      "----------------------------------------\n",
      "Métricas de evaluación:\n",
      "Precision: 0.7273\n",
      "Recall: 0.3200\n",
      "F1-score: 0.4444\n",
      "Brier Score: 0.2521\n",
      "----------------------------------------\n",
      "GridSearchCV f1 0.6513171632289279 {'alpha': 0.1, 'k': 3, 'n-discretize-bins': 20, 'prune-size': 0.1}\n",
      "Train classes: [135 100]\n",
      "Test classes: [33 25]\n",
      "----------------------------------------\n",
      "Métricas de evaluación:\n",
      "Precision: 0.7333\n",
      "Recall: 0.4400\n",
      "F1-score: 0.5500\n",
      "Brier Score: 0.2255\n",
      "0.5461 \\pm 0.09\n",
      "0.2078 \\pm 0.03\n"
     ]
    }
   ],
   "source": [
    "results = pipline_evaluation(X_uni.values, y_uni, model, params)"
   ],
   "metadata": {
    "collapsed": false,
    "ExecuteTime": {
     "end_time": "2023-11-18T20:05:21.537072771Z",
     "start_time": "2023-11-18T20:03:52.317947427Z"
    }
   }
  },
  {
   "cell_type": "code",
   "execution_count": 10,
   "outputs": [
    {
     "name": "stdout",
     "output_type": "stream",
     "text": [
      "$0.5461 \\pm 0.09$ & $0.2078 \\pm 0.03$ &\n"
     ]
    }
   ],
   "source": [
    "print(results)"
   ],
   "metadata": {
    "collapsed": false,
    "ExecuteTime": {
     "end_time": "2023-11-18T20:05:21.537568421Z",
     "start_time": "2023-11-18T20:05:21.536862511Z"
    }
   }
  },
  {
   "cell_type": "markdown",
   "source": [
    "# Multi"
   ],
   "metadata": {
    "collapsed": false
   }
  },
  {
   "cell_type": "code",
   "execution_count": 11,
   "outputs": [
    {
     "data": {
      "text/plain": "(293, 15)"
     },
     "execution_count": 11,
     "metadata": {},
     "output_type": "execute_result"
    }
   ],
   "source": [
    "X_mult, y_mult, features_names_mult, class_names_mult = load_ds(\"multivariant_15\")\n",
    "\n",
    "X_mult.shape"
   ],
   "metadata": {
    "collapsed": false,
    "ExecuteTime": {
     "end_time": "2023-11-18T20:05:21.537987832Z",
     "start_time": "2023-11-18T20:05:21.537264254Z"
    }
   }
  },
  {
   "cell_type": "code",
   "execution_count": 12,
   "outputs": [
    {
     "name": "stdout",
     "output_type": "stream",
     "text": [
      "----------------------------------------\n",
      "GridSearchCV f1 0.622046783625731 {'alpha': 0.1, 'k': 4, 'n-discretize-bins': 10, 'prune-size': 0.5}\n",
      "Train classes: [134 100]\n",
      "Test classes: [34 25]\n",
      "----------------------------------------\n",
      "Métricas de evaluación:\n",
      "Precision: 1.0000\n",
      "Recall: 0.5600\n",
      "F1-score: 0.7179\n",
      "Brier Score: 0.1441\n",
      "----------------------------------------\n",
      "GridSearchCV f1 0.6641284187000299 {'alpha': 2.0, 'k': 2, 'n-discretize-bins': 20, 'prune-size': 0.5}\n",
      "Train classes: [134 100]\n",
      "Test classes: [34 25]\n",
      "----------------------------------------\n",
      "Métricas de evaluación:\n",
      "Precision: 0.7143\n",
      "Recall: 0.4000\n",
      "F1-score: 0.5128\n",
      "Brier Score: 0.2118\n",
      "----------------------------------------\n",
      "GridSearchCV f1 0.6973493562967247 {'alpha': 0.1, 'k': 3, 'n-discretize-bins': 20, 'prune-size': 0.1}\n",
      "Train classes: [134 100]\n",
      "Test classes: [34 25]\n",
      "----------------------------------------\n",
      "Métricas de evaluación:\n",
      "Precision: 0.6800\n",
      "Recall: 0.6800\n",
      "F1-score: 0.6800\n",
      "Brier Score: 0.2062\n",
      "----------------------------------------\n",
      "GridSearchCV f1 0.6936199694638896 {'alpha': 1.0, 'k': 3, 'n-discretize-bins': 20, 'prune-size': 0.3}\n",
      "Train classes: [135 100]\n",
      "Test classes: [33 25]\n",
      "----------------------------------------\n",
      "Métricas de evaluación:\n",
      "Precision: 0.8667\n",
      "Recall: 0.5200\n",
      "F1-score: 0.6500\n",
      "Brier Score: 0.1844\n",
      "----------------------------------------\n",
      "GridSearchCV f1 0.6763576748528869 {'alpha': 0.1, 'k': 4, 'n-discretize-bins': 10, 'prune-size': 0.3}\n",
      "Train classes: [135 100]\n",
      "Test classes: [33 25]\n",
      "----------------------------------------\n",
      "Métricas de evaluación:\n",
      "Precision: 0.7059\n",
      "Recall: 0.4800\n",
      "F1-score: 0.5714\n",
      "Brier Score: 0.2384\n",
      "0.6264 \\pm 0.07\n",
      "0.1970 \\pm 0.03\n"
     ]
    },
    {
     "data": {
      "text/plain": "'$0.6264 \\\\pm 0.07$ & $0.1970 \\\\pm 0.03$ &'"
     },
     "execution_count": 12,
     "metadata": {},
     "output_type": "execute_result"
    }
   ],
   "source": [
    "results = pipline_evaluation(X_mult.values, y_mult, model, params)\n",
    "results"
   ],
   "metadata": {
    "collapsed": false,
    "ExecuteTime": {
     "end_time": "2023-11-18T20:06:51.511508666Z",
     "start_time": "2023-11-18T20:05:21.537449600Z"
    }
   }
  },
  {
   "cell_type": "markdown",
   "source": [
    "## Wrapper\n"
   ],
   "metadata": {
    "collapsed": false
   }
  },
  {
   "cell_type": "code",
   "execution_count": 13,
   "outputs": [],
   "source": [
    "from utils import wrapper_ds"
   ],
   "metadata": {
    "collapsed": false,
    "ExecuteTime": {
     "end_time": "2023-11-18T20:06:51.560168312Z",
     "start_time": "2023-11-18T20:06:51.514672390Z"
    }
   }
  },
  {
   "cell_type": "code",
   "execution_count": 14,
   "outputs": [
    {
     "name": "stdout",
     "output_type": "stream",
     "text": [
      "Index(['N_Days', 'Bilirubin', 'Cholesterol', 'Tryglicerides', 'Prothrombin',\n",
      "       'Stage', 'Drug_Placebo', 'Spiders_N', 'Spiders_Y', 'Hepatomegaly_N',\n",
      "       'Ascites_N', 'Ascites_Y', 'Edema_N', 'Edema_S', 'Sex_M'],\n",
      "      dtype='object')\n"
     ]
    }
   ],
   "source": [
    "x_wrapper = wrapper_ds(X, y, model, 15)"
   ],
   "metadata": {
    "collapsed": false,
    "ExecuteTime": {
     "end_time": "2023-11-18T20:08:02.884528187Z",
     "start_time": "2023-11-18T20:06:51.556952569Z"
    }
   }
  },
  {
   "cell_type": "code",
   "execution_count": 15,
   "outputs": [
    {
     "name": "stdout",
     "output_type": "stream",
     "text": [
      "----------------------------------------\n",
      "GridSearchCV f1 0.6534781797683473 {'alpha': 1.0, 'k': 3, 'n-discretize-bins': 15, 'prune-size': 0.3}\n",
      "Train classes: [134 100]\n",
      "Test classes: [34 25]\n",
      "----------------------------------------\n",
      "Métricas de evaluación:\n",
      "Precision: 1.0000\n",
      "Recall: 0.5200\n",
      "F1-score: 0.6842\n",
      "Brier Score: 0.1530\n",
      "----------------------------------------\n",
      "GridSearchCV f1 0.6585807656395891 {'alpha': 1.0, 'k': 3, 'n-discretize-bins': 20, 'prune-size': 0.5}\n",
      "Train classes: [134 100]\n",
      "Test classes: [34 25]\n",
      "----------------------------------------\n",
      "Métricas de evaluación:\n",
      "Precision: 0.9231\n",
      "Recall: 0.4800\n",
      "F1-score: 0.6316\n",
      "Brier Score: 0.1714\n",
      "----------------------------------------\n",
      "GridSearchCV f1 0.69218603490331 {'alpha': 0.1, 'k': 3, 'n-discretize-bins': 10, 'prune-size': 0.3}\n",
      "Train classes: [134 100]\n",
      "Test classes: [34 25]\n",
      "----------------------------------------\n",
      "Métricas de evaluación:\n",
      "Precision: 0.7143\n",
      "Recall: 0.6000\n",
      "F1-score: 0.6522\n",
      "Brier Score: 0.2098\n",
      "----------------------------------------\n",
      "GridSearchCV f1 0.6549194302370346 {'alpha': 0.1, 'k': 3, 'n-discretize-bins': 20, 'prune-size': 0.5}\n",
      "Train classes: [135 100]\n",
      "Test classes: [33 25]\n",
      "----------------------------------------\n",
      "Métricas de evaluación:\n",
      "Precision: 0.8462\n",
      "Recall: 0.4400\n",
      "F1-score: 0.5789\n",
      "Brier Score: 0.2023\n",
      "----------------------------------------\n",
      "GridSearchCV f1 0.6710306958923639 {'alpha': 2.0, 'k': 4, 'n-discretize-bins': 15, 'prune-size': 0.3}\n",
      "Train classes: [135 100]\n",
      "Test classes: [33 25]\n",
      "----------------------------------------\n",
      "Métricas de evaluación:\n",
      "Precision: 0.7500\n",
      "Recall: 0.3600\n",
      "F1-score: 0.4865\n",
      "Brier Score: 0.2158\n",
      "0.6067 \\pm 0.07\n",
      "0.1905 \\pm 0.02\n"
     ]
    }
   ],
   "source": [
    "results = pipline_evaluation(x_wrapper, y, model, params)"
   ],
   "metadata": {
    "collapsed": false,
    "ExecuteTime": {
     "end_time": "2023-11-18T20:09:27.653296972Z",
     "start_time": "2023-11-18T20:08:02.752975988Z"
    }
   }
  },
  {
   "cell_type": "code",
   "execution_count": 16,
   "outputs": [
    {
     "name": "stdout",
     "output_type": "stream",
     "text": [
      "$0.6067 \\pm 0.07$ & $0.1905 \\pm 0.02$ &\n"
     ]
    }
   ],
   "source": [
    "print(results)\n"
   ],
   "metadata": {
    "collapsed": false,
    "ExecuteTime": {
     "end_time": "2023-11-18T20:09:27.653593930Z",
     "start_time": "2023-11-18T20:09:27.653104192Z"
    }
   }
  }
 ],
 "metadata": {
  "kernelspec": {
   "display_name": "Python 3",
   "language": "python",
   "name": "python3"
  },
  "language_info": {
   "codemirror_mode": {
    "name": "ipython",
    "version": 2
   },
   "file_extension": ".py",
   "mimetype": "text/x-python",
   "name": "python",
   "nbconvert_exporter": "python",
   "pygments_lexer": "ipython2",
   "version": "2.7.6"
  }
 },
 "nbformat": 4,
 "nbformat_minor": 0
}
