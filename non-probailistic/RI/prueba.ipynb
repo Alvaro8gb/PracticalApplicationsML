{
 "cells": [
  {
   "cell_type": "markdown",
   "source": [
    "# RIPPER ( Repeated Incremental Pruning to Produce Error Reduction)\n",
    "[RIPPER](https://www.geeksforgeeks.org/ripper-algorithm/)\n",
    "\n"
   ],
   "metadata": {
    "collapsed": false
   }
  },
  {
   "cell_type": "code",
   "execution_count": 1,
   "outputs": [],
   "source": [
    "from sklearn.model_selection import train_test_split\n",
    "import wittgenstein as lw"
   ],
   "metadata": {
    "collapsed": false,
    "ExecuteTime": {
     "end_time": "2023-10-01T09:15:38.707527360Z",
     "start_time": "2023-10-01T09:15:38.652574786Z"
    }
   }
  },
  {
   "cell_type": "code",
   "execution_count": 2,
   "outputs": [],
   "source": [
    "import sys\n"
   ],
   "metadata": {
    "collapsed": false,
    "ExecuteTime": {
     "end_time": "2023-10-01T09:15:38.757905778Z",
     "start_time": "2023-10-01T09:15:38.697212302Z"
    }
   }
  },
  {
   "cell_type": "code",
   "execution_count": 3,
   "outputs": [
    {
     "data": {
      "text/plain": "(293, 25)"
     },
     "execution_count": 3,
     "metadata": {},
     "output_type": "execute_result"
    }
   ],
   "source": [
    "X, y, features_names, class_names = load_ds(\"all_encoded_cirrhosis\")\n",
    "X.shape"
   ],
   "metadata": {
    "collapsed": false,
    "ExecuteTime": {
     "end_time": "2023-10-01T09:15:38.807054161Z",
     "start_time": "2023-10-01T09:15:38.759400461Z"
    }
   }
  },
  {
   "cell_type": "markdown",
   "source": [
    "# Hiperparameter selection"
   ],
   "metadata": {
    "collapsed": false
   }
  },
  {
   "cell_type": "code",
   "execution_count": 4,
   "outputs": [],
   "source": [
    "from sklearn.model_selection import GridSearchCV"
   ],
   "metadata": {
    "collapsed": false,
    "ExecuteTime": {
     "end_time": "2023-10-01T09:15:38.807271771Z",
     "start_time": "2023-10-01T09:15:38.806489384Z"
    }
   }
  },
  {
   "cell_type": "code",
   "execution_count": 5,
   "outputs": [],
   "source": [
    "# Definir los posibles valores de los parámetros\n",
    "param_grid = {\n",
    "    'prune-size': [0.1, 0.3, 0.5],\n",
    "    'k': [2, 3, 4],\n",
    "    'alpha': [0.1, 1.0, 2.0],\n",
    "    'n-discretize-bins': [ 10, 15, 20]\n",
    "}\n",
    "\n",
    "grid_search = GridSearchCV(\n",
    "    estimator= lw.RIPPER(random_state=SEED),\n",
    "    param_grid=param_grid,\n",
    "    cv=5,\n",
    "    n_jobs=-1\n",
    ")"
   ],
   "metadata": {
    "collapsed": false,
    "ExecuteTime": {
     "end_time": "2023-10-01T09:15:38.807410553Z",
     "start_time": "2023-10-01T09:15:38.806861380Z"
    }
   }
  },
  {
   "cell_type": "code",
   "execution_count": 6,
   "outputs": [
    {
     "name": "stdout",
     "output_type": "stream",
     "text": [
      "Best params: {'alpha': 0.1, 'k': 2, 'n-discretize-bins': 10, 'prune-size': 0.1}\n",
      "Best score: 0.6150789012273525\n"
     ]
    }
   ],
   "source": [
    "grid_search.fit(X, y)\n",
    "\n",
    "# Mostrar los mejores parámetros y el mejor rendimiento\n",
    "params = grid_search.best_params_\n",
    "print(\"Best params:\", params)\n",
    "print(\"Best score:\", grid_search.best_score_)"
   ],
   "metadata": {
    "collapsed": false,
    "ExecuteTime": {
     "end_time": "2023-10-01T09:16:14.193557472Z",
     "start_time": "2023-10-01T09:15:38.807216343Z"
    }
   }
  },
  {
   "cell_type": "markdown",
   "source": [
    "# Evaluate"
   ],
   "metadata": {
    "collapsed": false
   }
  },
  {
   "cell_type": "code",
   "execution_count": 7,
   "outputs": [
    {
     "name": "stdout",
     "output_type": "stream",
     "text": [
      "205 88\n"
     ]
    }
   ],
   "source": [
    "X_train, X_test, y_train, y_test = train_test_split(X,\n",
    "                                                                y,\n",
    "                                                                test_size=TEST_SIZE,\n",
    "                                                                random_state=SEED)\n",
    "\n",
    "print(len(X_train), len(X_test))"
   ],
   "metadata": {
    "collapsed": false,
    "ExecuteTime": {
     "end_time": "2023-10-01T09:16:14.193967626Z",
     "start_time": "2023-10-01T09:16:14.166398563Z"
    }
   }
  },
  {
   "cell_type": "code",
   "execution_count": 14,
   "outputs": [
    {
     "data": {
      "text/plain": "<RIPPER(random_state=None, alpha=0.1, dl_allowance=64, verbosity=True, prune_size=0.1, max_total_conds=None, k=2, max_rule_conds=None, max_rules=None, n_discretize_bins=10)>"
     },
     "execution_count": 14,
     "metadata": {},
     "output_type": "execute_result"
    }
   ],
   "source": [
    "ripper_clf = lw.RIPPER(k=params[\"k\"], alpha=params[\"alpha\"], n_discretize_bins=params[\"n-discretize-bins\"], prune_size=params[\"prune-size\"], verbosity=True) # Or irep_clf = lw.IREP() to build a model using IREP\n",
    "ripper_clf"
   ],
   "metadata": {
    "collapsed": false,
    "ExecuteTime": {
     "end_time": "2023-10-01T09:18:16.779335691Z",
     "start_time": "2023-10-01T09:18:16.734457052Z"
    }
   }
  },
  {
   "cell_type": "code",
   "execution_count": 15,
   "outputs": [
    {
     "name": "stdout",
     "output_type": "stream",
     "text": [
      "discretizing 11 features\n",
      "\n",
      "GREW INITIAL RULESET:\n",
      "[[Hepatomegaly_N=False ^ Bilirubin=>7.16] V\n",
      "[Hepatomegaly_N=False ^ N_Days=602.6-999.8] V\n",
      "[N_Days=<602.6] V\n",
      "[Hepatomegaly_N=False ^ Cholesterol=369.51-404.8] V\n",
      "[SGOT=>198.4 ^ Copper=104.6-141.8] V\n",
      "[Alk_Phos=>3872.0] V\n",
      "[Prothrombin=11.5-12.0] V\n",
      "[Cholesterol=404.8-510.0 ^ Age=35.41-40.71] V\n",
      "[Sex_F=False ^ Bilirubin=1.3-1.9] V\n",
      "[Copper=<24.0 ^ Tryglicerides=<68.0] V\n",
      "[Alk_Phos=2109.4-3872.0] V\n",
      "[Tryglicerides=82.8-93.4] V\n",
      "[Cholesterol=295.2-325.0] V\n",
      "[Platelets=<133.6 ^ N_Days=2575.6-3072.4]]\n",
      "\n",
      "optimization run 1 of 2\n",
      "\n",
      "OPTIMIZED RULESET:\n",
      "[[Hepatomegaly_N=False ^ Bilirubin=>7.16] V\n",
      "[Hepatomegaly_N=False ^ N_Days=602.6-999.8] V\n",
      "[N_Days=<602.6] V\n",
      "[Hepatomegaly_N=False ^ Cholesterol=369.51-404.8] V\n",
      "[SGOT=>198.4 ^ Copper=104.6-141.8] V\n",
      "[Alk_Phos=>3872.0] V\n",
      "[Prothrombin=11.5-12.0] V\n",
      "[Cholesterol=404.8-510.0 ^ Age=35.41-40.71] V\n",
      "[Sex_F=False ^ Bilirubin=1.3-1.9] V\n",
      "[Copper=<24.0 ^ Tryglicerides=<68.0] V\n",
      "[Alk_Phos=2109.4-3872.0] V\n",
      "[Tryglicerides=82.8-93.4] V\n",
      "[Cholesterol=295.2-325.0] V\n",
      "[Platelets=<133.6 ^ N_Days=2575.6-3072.4]]\n",
      "\n",
      "No changes were made. Halting optimization at iteration k=1.\n",
      "GREW FINAL RULES\n",
      "[[Hepatomegaly_N=False ^ Bilirubin=>7.16] V\n",
      "[Hepatomegaly_N=False ^ N_Days=602.6-999.8] V\n",
      "[N_Days=<602.6] V\n",
      "[Hepatomegaly_N=False ^ Cholesterol=369.51-404.8] V\n",
      "[SGOT=>198.4 ^ Copper=104.6-141.8] V\n",
      "[Alk_Phos=>3872.0] V\n",
      "[Prothrombin=11.5-12.0] V\n",
      "[Cholesterol=404.8-510.0 ^ Age=35.41-40.71] V\n",
      "[Sex_F=False ^ Bilirubin=1.3-1.9] V\n",
      "[Copper=<24.0 ^ Tryglicerides=<68.0] V\n",
      "[Alk_Phos=2109.4-3872.0] V\n",
      "[Tryglicerides=82.8-93.4] V\n",
      "[Cholesterol=295.2-325.0] V\n",
      "[Platelets=<133.6 ^ N_Days=2575.6-3072.4] V\n",
      "[Hepatomegaly_N=False ^ Bilirubin=>7.16] V\n",
      "[Stage=4.0 ^ N_Days=602.6-999.8] V\n",
      "[N_Days=<602.6] V\n",
      "[Copper=80.8-104.6 ^ Spiders_N=False] V\n",
      "[Alk_Phos=>3872.0] V\n",
      "[Sex_F=False ^ Drug_D-penicillamine=True ^ Bilirubin=1.3-1.9] V\n",
      "[SGOT=>198.4] V\n",
      "[Tryglicerides=82.8-93.4] V\n",
      "[Stage=4.0 ^ N_Days=3072.4-3821.8] V\n",
      "[Hepatomegaly_N=False ^ Cholesterol=369.51-404.8] V\n",
      "[Copper=<24.0]]\n",
      "\n",
      "FINAL RULESET:\n",
      "[[Hepatomegaly_N=False ^ Bilirubin=>7.16] V\n",
      "[Hepatomegaly_N=False ^ N_Days=602.6-999.8] V\n",
      "[N_Days=<602.6] V\n",
      "[SGOT=>198.4 ^ Copper=104.6-141.8] V\n",
      "[Prothrombin=11.5-12.0]]\n",
      "\n"
     ]
    }
   ],
   "source": [
    "ripper_clf.fit(X_train, y_train)"
   ],
   "metadata": {
    "collapsed": false,
    "ExecuteTime": {
     "end_time": "2023-10-01T09:18:21.010804391Z",
     "start_time": "2023-10-01T09:18:20.802583168Z"
    }
   }
  },
  {
   "cell_type": "code",
   "execution_count": 16,
   "outputs": [
    {
     "name": "stdout",
     "output_type": "stream",
     "text": [
      "[[Hepatomegaly_N=False ^ Bilirubin=>7.16] V\n",
      "[Hepatomegaly_N=False ^ N_Days=602.6-999.8] V\n",
      "[N_Days=<602.6] V\n",
      "[SGOT=>198.4 ^ Copper=104.6-141.8] V\n",
      "[Prothrombin=11.5-12.0]]\n"
     ]
    }
   ],
   "source": [
    "ripper_clf.out_model()"
   ],
   "metadata": {
    "collapsed": false,
    "ExecuteTime": {
     "end_time": "2023-10-01T09:18:27.918762733Z",
     "start_time": "2023-10-01T09:18:27.913318651Z"
    }
   }
  },
  {
   "cell_type": "markdown",
   "source": [
    "# Evaluation"
   ],
   "metadata": {
    "collapsed": false
   }
  },
  {
   "cell_type": "code",
   "execution_count": 17,
   "outputs": [],
   "source": [
    "from utils import eval_model, show_report"
   ],
   "metadata": {
    "collapsed": false,
    "ExecuteTime": {
     "end_time": "2023-10-01T09:18:32.485206029Z",
     "start_time": "2023-10-01T09:18:32.474509420Z"
    }
   }
  },
  {
   "cell_type": "code",
   "execution_count": 18,
   "outputs": [],
   "source": [
    "y_pred = ripper_clf.predict(X_test)"
   ],
   "metadata": {
    "collapsed": false,
    "ExecuteTime": {
     "end_time": "2023-10-01T09:18:35.017944100Z",
     "start_time": "2023-10-01T09:18:35.005622939Z"
    }
   }
  },
  {
   "cell_type": "code",
   "execution_count": 19,
   "outputs": [
    {
     "name": "stdout",
     "output_type": "stream",
     "text": [
      "Métricas de evaluación:\n",
      "Precision: 0.7775\n",
      "Recall: 0.7500\n",
      "F1-score: 0.7339\n"
     ]
    }
   ],
   "source": [
    "eval_model(y_test, y_pred)"
   ],
   "metadata": {
    "collapsed": false,
    "ExecuteTime": {
     "end_time": "2023-10-01T09:18:36.070076845Z",
     "start_time": "2023-10-01T09:18:36.062614478Z"
    }
   }
  },
  {
   "cell_type": "code",
   "execution_count": 20,
   "outputs": [
    {
     "name": "stdout",
     "output_type": "stream",
     "text": [
      "{'0': {'precision': 0.7121212121212122, 'recall': 0.94, 'f1-score': 0.810344827586207, 'support': 50.0}, '1': {'precision': 0.8636363636363636, 'recall': 0.5, 'f1-score': 0.6333333333333333, 'support': 38.0}, 'accuracy': 0.75, 'macro avg': {'precision': 0.7878787878787878, 'recall': 0.72, 'f1-score': 0.7218390804597701, 'support': 88.0}, 'weighted avg': {'precision': 0.7775482093663914, 'recall': 0.75, 'f1-score': 0.7339080459770115, 'support': 88.0}}\n",
      "              precision    recall  f1-score   support\n",
      "\n",
      "           0       0.71      0.94      0.81        50\n",
      "           1       0.86      0.50      0.63        38\n",
      "\n",
      "    accuracy                           0.75        88\n",
      "   macro avg       0.79      0.72      0.72        88\n",
      "weighted avg       0.78      0.75      0.73        88\n",
      "\n"
     ]
    }
   ],
   "source": [
    "show_report(y_test, y_pred)"
   ],
   "metadata": {
    "collapsed": false,
    "ExecuteTime": {
     "end_time": "2023-10-01T09:18:37.334229889Z",
     "start_time": "2023-10-01T09:18:37.283371040Z"
    }
   }
  }
 ],
 "metadata": {
  "kernelspec": {
   "display_name": "Python 3",
   "language": "python",
   "name": "python3"
  },
  "language_info": {
   "codemirror_mode": {
    "name": "ipython",
    "version": 2
   },
   "file_extension": ".py",
   "mimetype": "text/x-python",
   "name": "python",
   "nbconvert_exporter": "python",
   "pygments_lexer": "ipython2",
   "version": "2.7.6"
  }
 },
 "nbformat": 4,
 "nbformat_minor": 0
}
