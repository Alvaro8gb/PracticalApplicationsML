{
 "cells": [
  {
   "cell_type": "markdown",
   "source": [
    "# KNN"
   ],
   "metadata": {
    "collapsed": false
   }
  },
  {
   "cell_type": "code",
   "execution_count": 1,
   "outputs": [],
   "source": [
    "from sklearn.neighbors import KNeighborsClassifier\n",
    "\n",
    "import sys\n",
    "sys.path.append(\"../../my-staff\")\n",
    "from utils import pipline_evaluation\n",
    "from database import load_ds, load_params"
   ],
   "metadata": {
    "collapsed": false,
    "ExecuteTime": {
     "end_time": "2023-11-18T19:59:50.633066406Z",
     "start_time": "2023-11-18T19:59:49.879232992Z"
    }
   }
  },
  {
   "cell_type": "markdown",
   "source": [
    "# Load dataset"
   ],
   "metadata": {
    "collapsed": false
   }
  },
  {
   "cell_type": "code",
   "execution_count": 2,
   "outputs": [
    {
     "data": {
      "text/plain": "(293, 25)"
     },
     "execution_count": 2,
     "metadata": {},
     "output_type": "execute_result"
    }
   ],
   "source": [
    "X, y, features_names, class_names = load_ds(\"all\")\n",
    "X.shape"
   ],
   "metadata": {
    "collapsed": false,
    "ExecuteTime": {
     "end_time": "2023-11-18T19:59:50.633326802Z",
     "start_time": "2023-11-18T19:59:50.632914528Z"
    }
   }
  },
  {
   "cell_type": "code",
   "execution_count": 3,
   "outputs": [],
   "source": [
    "model = KNeighborsClassifier()"
   ],
   "metadata": {
    "collapsed": false,
    "ExecuteTime": {
     "end_time": "2023-11-18T19:59:50.633418157Z",
     "start_time": "2023-11-18T19:59:50.633187715Z"
    }
   }
  },
  {
   "cell_type": "markdown",
   "source": [
    "## ALL"
   ],
   "metadata": {
    "collapsed": false
   }
  },
  {
   "cell_type": "code",
   "execution_count": 4,
   "outputs": [],
   "source": [
    "params = load_params(\"KNeighborsClassifier\")"
   ],
   "metadata": {
    "collapsed": false,
    "ExecuteTime": {
     "end_time": "2023-11-18T19:59:50.633467373Z",
     "start_time": "2023-11-18T19:59:50.633385436Z"
    }
   }
  },
  {
   "cell_type": "code",
   "execution_count": 5,
   "outputs": [
    {
     "data": {
      "text/plain": "{'n_neighbors': [10, 25, 50, 65, 80], 'metric': ['minkowski'], 'p': [2]}"
     },
     "execution_count": 5,
     "metadata": {},
     "output_type": "execute_result"
    }
   ],
   "source": [
    "params"
   ],
   "metadata": {
    "collapsed": false,
    "ExecuteTime": {
     "end_time": "2023-11-18T19:59:50.633554611Z",
     "start_time": "2023-11-18T19:59:50.633443674Z"
    }
   }
  },
  {
   "cell_type": "code",
   "execution_count": 6,
   "outputs": [
    {
     "name": "stdout",
     "output_type": "stream",
     "text": [
      "----------------------------------------\n",
      "GridSearchCV f1 0.6877361853832442 {'metric': 'minkowski', 'n_neighbors': 50, 'p': 2}\n",
      "Train classes: [134 100]\n",
      "Test classes: [34 25]\n",
      "----------------------------------------\n",
      "Métricas de evaluación:\n",
      "Precision: 0.9048\n",
      "Recall: 0.7600\n",
      "F1-score: 0.8261\n",
      "Brier Score: 0.1425\n",
      "----------------------------------------\n",
      "GridSearchCV f1 0.7438856795378535 {'metric': 'minkowski', 'n_neighbors': 50, 'p': 2}\n",
      "Train classes: [134 100]\n",
      "Test classes: [34 25]\n",
      "----------------------------------------\n",
      "Métricas de evaluación:\n",
      "Precision: 0.7647\n",
      "Recall: 0.5200\n",
      "F1-score: 0.6190\n",
      "Brier Score: 0.2019\n",
      "----------------------------------------\n",
      "GridSearchCV f1 0.7243574876002719 {'metric': 'minkowski', 'n_neighbors': 50, 'p': 2}\n",
      "Train classes: [134 100]\n",
      "Test classes: [34 25]\n",
      "----------------------------------------\n",
      "Métricas de evaluación:\n",
      "Precision: 0.8095\n",
      "Recall: 0.6800\n",
      "F1-score: 0.7391\n",
      "Brier Score: 0.1694\n",
      "----------------------------------------\n",
      "GridSearchCV f1 0.7203392297357816 {'metric': 'minkowski', 'n_neighbors': 50, 'p': 2}\n",
      "Train classes: [135 100]\n",
      "Test classes: [33 25]\n",
      "----------------------------------------\n",
      "Métricas de evaluación:\n",
      "Precision: 0.8889\n",
      "Recall: 0.6400\n",
      "F1-score: 0.7442\n",
      "Brier Score: 0.1718\n",
      "----------------------------------------\n",
      "GridSearchCV f1 0.700108360423439 {'metric': 'minkowski', 'n_neighbors': 50, 'p': 2}\n",
      "Train classes: [135 100]\n",
      "Test classes: [33 25]\n",
      "----------------------------------------\n",
      "Métricas de evaluación:\n",
      "Precision: 0.7500\n",
      "Recall: 0.6000\n",
      "F1-score: 0.6667\n",
      "Brier Score: 0.1876\n",
      "0.7190 \\pm 0.07\n",
      "0.1747 \\pm 0.02\n"
     ]
    }
   ],
   "source": [
    "results = pipline_evaluation(X.values, y, model, params)"
   ],
   "metadata": {
    "collapsed": false,
    "ExecuteTime": {
     "end_time": "2023-11-18T19:59:51.756535940Z",
     "start_time": "2023-11-18T19:59:50.633522689Z"
    }
   }
  },
  {
   "cell_type": "code",
   "execution_count": 7,
   "outputs": [
    {
     "data": {
      "text/plain": "'$0.7190 \\\\pm 0.07$ & $0.1747 \\\\pm 0.02$ &'"
     },
     "execution_count": 7,
     "metadata": {},
     "output_type": "execute_result"
    }
   ],
   "source": [
    "results"
   ],
   "metadata": {
    "collapsed": false,
    "ExecuteTime": {
     "end_time": "2023-11-18T19:59:51.761226618Z",
     "start_time": "2023-11-18T19:59:51.758244604Z"
    }
   }
  },
  {
   "cell_type": "markdown",
   "source": [
    "## Univar"
   ],
   "metadata": {
    "collapsed": false
   }
  },
  {
   "cell_type": "code",
   "execution_count": 8,
   "outputs": [],
   "source": [
    "X_uni, y_uni, features_names_uni, class_names_uni = load_ds(\"univariant_15\")\n"
   ],
   "metadata": {
    "collapsed": false,
    "ExecuteTime": {
     "end_time": "2023-11-18T19:59:51.792690693Z",
     "start_time": "2023-11-18T19:59:51.764750029Z"
    }
   }
  },
  {
   "cell_type": "code",
   "execution_count": 9,
   "outputs": [
    {
     "name": "stdout",
     "output_type": "stream",
     "text": [
      "----------------------------------------\n",
      "GridSearchCV f1 0.6885300207039338 {'metric': 'minkowski', 'n_neighbors': 50, 'p': 2}\n",
      "Train classes: [134 100]\n",
      "Test classes: [34 25]\n",
      "----------------------------------------\n",
      "Métricas de evaluación:\n",
      "Precision: 0.9048\n",
      "Recall: 0.7600\n",
      "F1-score: 0.8261\n",
      "Brier Score: 0.1412\n",
      "----------------------------------------\n",
      "GridSearchCV f1 0.7409254575212023 {'metric': 'minkowski', 'n_neighbors': 50, 'p': 2}\n",
      "Train classes: [134 100]\n",
      "Test classes: [34 25]\n",
      "----------------------------------------\n",
      "Métricas de evaluación:\n",
      "Precision: 0.7647\n",
      "Recall: 0.5200\n",
      "F1-score: 0.6190\n",
      "Brier Score: 0.1999\n",
      "----------------------------------------\n",
      "GridSearchCV f1 0.7311853681123629 {'metric': 'minkowski', 'n_neighbors': 50, 'p': 2}\n",
      "Train classes: [134 100]\n",
      "Test classes: [34 25]\n",
      "----------------------------------------\n",
      "Métricas de evaluación:\n",
      "Precision: 0.8000\n",
      "Recall: 0.6400\n",
      "F1-score: 0.7111\n",
      "Brier Score: 0.1708\n",
      "----------------------------------------\n",
      "GridSearchCV f1 0.7225013918979437 {'metric': 'minkowski', 'n_neighbors': 50, 'p': 2}\n",
      "Train classes: [135 100]\n",
      "Test classes: [33 25]\n",
      "----------------------------------------\n",
      "Métricas de evaluación:\n",
      "Precision: 0.8889\n",
      "Recall: 0.6400\n",
      "F1-score: 0.7442\n",
      "Brier Score: 0.1695\n",
      "----------------------------------------\n",
      "GridSearchCV f1 0.7168591318591317 {'metric': 'minkowski', 'n_neighbors': 50, 'p': 2}\n",
      "Train classes: [135 100]\n",
      "Test classes: [33 25]\n",
      "----------------------------------------\n",
      "Métricas de evaluación:\n",
      "Precision: 0.7500\n",
      "Recall: 0.6000\n",
      "F1-score: 0.6667\n",
      "Brier Score: 0.1865\n",
      "0.7134 \\pm 0.07\n",
      "0.1736 \\pm 0.02\n"
     ]
    },
    {
     "data": {
      "text/plain": "'$0.7134 \\\\pm 0.07$ & $0.1736 \\\\pm 0.02$ &'"
     },
     "execution_count": 9,
     "metadata": {},
     "output_type": "execute_result"
    }
   ],
   "source": [
    "results = pipline_evaluation(X_uni.values, y_uni, model, params)\n",
    "results"
   ],
   "metadata": {
    "collapsed": false,
    "ExecuteTime": {
     "end_time": "2023-11-18T19:59:52.037518561Z",
     "start_time": "2023-11-18T19:59:51.777589102Z"
    }
   }
  },
  {
   "cell_type": "markdown",
   "source": [
    "# Multi"
   ],
   "metadata": {
    "collapsed": false
   }
  },
  {
   "cell_type": "code",
   "execution_count": 10,
   "outputs": [
    {
     "data": {
      "text/plain": "(293, 15)"
     },
     "execution_count": 10,
     "metadata": {},
     "output_type": "execute_result"
    }
   ],
   "source": [
    "X_mult, y_mult, features_names_mult, class_names_mult = load_ds(\"multivariant_15\")\n",
    "\n",
    "X_mult.shape"
   ],
   "metadata": {
    "collapsed": false,
    "ExecuteTime": {
     "end_time": "2023-11-18T19:59:52.037856931Z",
     "start_time": "2023-11-18T19:59:52.036979700Z"
    }
   }
  },
  {
   "cell_type": "code",
   "execution_count": 11,
   "outputs": [
    {
     "data": {
      "text/plain": "['Albumin',\n 'Alk_Phos',\n 'Bilirubin',\n 'Copper',\n 'Edema_N',\n 'Hepatomegaly_N',\n 'Hepatomegaly_Y',\n 'N_Days',\n 'Prothrombin',\n 'SGOT',\n 'Sex_F',\n 'Sex_M',\n 'Spiders_N',\n 'Spiders_Y',\n 'Stage']"
     },
     "execution_count": 11,
     "metadata": {},
     "output_type": "execute_result"
    }
   ],
   "source": [
    "sorted(features_names_mult)"
   ],
   "metadata": {
    "collapsed": false,
    "ExecuteTime": {
     "end_time": "2023-11-18T19:59:52.038069526Z",
     "start_time": "2023-11-18T19:59:52.037362442Z"
    }
   }
  },
  {
   "cell_type": "code",
   "execution_count": 12,
   "outputs": [
    {
     "name": "stdout",
     "output_type": "stream",
     "text": [
      "----------------------------------------\n",
      "GridSearchCV f1 0.6885300207039338 {'metric': 'minkowski', 'n_neighbors': 50, 'p': 2}\n",
      "Train classes: [134 100]\n",
      "Test classes: [34 25]\n",
      "----------------------------------------\n",
      "Métricas de evaluación:\n",
      "Precision: 0.9048\n",
      "Recall: 0.7600\n",
      "F1-score: 0.8261\n",
      "Brier Score: 0.1408\n",
      "----------------------------------------\n",
      "GridSearchCV f1 0.7409254575212023 {'metric': 'minkowski', 'n_neighbors': 50, 'p': 2}\n",
      "Train classes: [134 100]\n",
      "Test classes: [34 25]\n",
      "----------------------------------------\n",
      "Métricas de evaluación:\n",
      "Precision: 0.7647\n",
      "Recall: 0.5200\n",
      "F1-score: 0.6190\n",
      "Brier Score: 0.2014\n",
      "----------------------------------------\n",
      "GridSearchCV f1 0.7311853681123629 {'metric': 'minkowski', 'n_neighbors': 50, 'p': 2}\n",
      "Train classes: [134 100]\n",
      "Test classes: [34 25]\n",
      "----------------------------------------\n",
      "Métricas de evaluación:\n",
      "Precision: 0.8000\n",
      "Recall: 0.6400\n",
      "F1-score: 0.7111\n",
      "Brier Score: 0.1731\n",
      "----------------------------------------\n",
      "GridSearchCV f1 0.7225013918979437 {'metric': 'minkowski', 'n_neighbors': 50, 'p': 2}\n",
      "Train classes: [135 100]\n",
      "Test classes: [33 25]\n",
      "----------------------------------------\n",
      "Métricas de evaluación:\n",
      "Precision: 0.8889\n",
      "Recall: 0.6400\n",
      "F1-score: 0.7442\n",
      "Brier Score: 0.1703\n",
      "----------------------------------------\n",
      "GridSearchCV f1 0.7168591318591317 {'metric': 'minkowski', 'n_neighbors': 50, 'p': 2}\n",
      "Train classes: [135 100]\n",
      "Test classes: [33 25]\n",
      "----------------------------------------\n",
      "Métricas de evaluación:\n",
      "Precision: 0.7500\n",
      "Recall: 0.6000\n",
      "F1-score: 0.6667\n",
      "Brier Score: 0.1868\n",
      "0.7134 \\pm 0.07\n",
      "0.1744 \\pm 0.02\n"
     ]
    },
    {
     "data": {
      "text/plain": "'$0.7134 \\\\pm 0.07$ & $0.1744 \\\\pm 0.02$ &'"
     },
     "execution_count": 12,
     "metadata": {},
     "output_type": "execute_result"
    }
   ],
   "source": [
    "results = pipline_evaluation(X_mult.values, y_mult, model, params)\n",
    "results"
   ],
   "metadata": {
    "collapsed": false,
    "ExecuteTime": {
     "end_time": "2023-11-18T19:59:52.237930230Z",
     "start_time": "2023-11-18T19:59:52.037668593Z"
    }
   }
  },
  {
   "cell_type": "markdown",
   "source": [
    "## Wrapper\n"
   ],
   "metadata": {
    "collapsed": false
   }
  },
  {
   "cell_type": "code",
   "execution_count": 13,
   "outputs": [],
   "source": [
    "from utils import wrapper_ds"
   ],
   "metadata": {
    "collapsed": false
   }
  },
  {
   "cell_type": "code",
   "execution_count": 14,
   "outputs": [
    {
     "name": "stdout",
     "output_type": "stream",
     "text": [
      "Index(['N_Days', 'Cholesterol', 'Alk_Phos', 'SGOT', 'Tryglicerides',\n",
      "       'Spiders_Y', 'Hepatomegaly_N', 'Hepatomegaly_Y', 'Ascites_N',\n",
      "       'Ascites_Y', 'Edema_N', 'Edema_S', 'Edema_Y', 'Sex_F', 'Sex_M'],\n",
      "      dtype='object')\n"
     ]
    }
   ],
   "source": [
    "x_wrapper = wrapper_ds(X, y, model, 15)"
   ],
   "metadata": {
    "collapsed": false,
    "ExecuteTime": {
     "end_time": "2023-11-18T19:59:54.723375240Z",
     "start_time": "2023-11-18T19:59:52.281081554Z"
    }
   }
  },
  {
   "cell_type": "code",
   "execution_count": 15,
   "outputs": [
    {
     "name": "stdout",
     "output_type": "stream",
     "text": [
      "----------------------------------------\n",
      "GridSearchCV f1 0.6944588744588744 {'metric': 'minkowski', 'n_neighbors': 50, 'p': 2}\n",
      "Train classes: [134 100]\n",
      "Test classes: [34 25]\n",
      "----------------------------------------\n",
      "Métricas de evaluación:\n",
      "Precision: 0.9048\n",
      "Recall: 0.7600\n",
      "F1-score: 0.8261\n",
      "Brier Score: 0.1436\n",
      "----------------------------------------\n",
      "GridSearchCV f1 0.7409254575212023 {'metric': 'minkowski', 'n_neighbors': 50, 'p': 2}\n",
      "Train classes: [134 100]\n",
      "Test classes: [34 25]\n",
      "----------------------------------------\n",
      "Métricas de evaluación:\n",
      "Precision: 0.7647\n",
      "Recall: 0.5200\n",
      "F1-score: 0.6190\n",
      "Brier Score: 0.2020\n",
      "----------------------------------------\n",
      "GridSearchCV f1 0.7243574876002719 {'metric': 'minkowski', 'n_neighbors': 50, 'p': 2}\n",
      "Train classes: [134 100]\n",
      "Test classes: [34 25]\n",
      "----------------------------------------\n",
      "Métricas de evaluación:\n",
      "Precision: 0.8095\n",
      "Recall: 0.6800\n",
      "F1-score: 0.7391\n",
      "Brier Score: 0.1701\n",
      "----------------------------------------\n",
      "GridSearchCV f1 0.7203392297357816 {'metric': 'minkowski', 'n_neighbors': 50, 'p': 2}\n",
      "Train classes: [135 100]\n",
      "Test classes: [33 25]\n",
      "----------------------------------------\n",
      "Métricas de evaluación:\n",
      "Precision: 0.8889\n",
      "Recall: 0.6400\n",
      "F1-score: 0.7442\n",
      "Brier Score: 0.1727\n",
      "----------------------------------------\n",
      "GridSearchCV f1 0.700108360423439 {'metric': 'minkowski', 'n_neighbors': 50, 'p': 2}\n",
      "Train classes: [135 100]\n",
      "Test classes: [33 25]\n",
      "----------------------------------------\n",
      "Métricas de evaluación:\n",
      "Precision: 0.7500\n",
      "Recall: 0.6000\n",
      "F1-score: 0.6667\n",
      "Brier Score: 0.1877\n",
      "0.7190 \\pm 0.07\n",
      "0.1752 \\pm 0.02\n"
     ]
    }
   ],
   "source": [
    "results = pipline_evaluation(x_wrapper, y, model, params)"
   ],
   "metadata": {
    "collapsed": false,
    "ExecuteTime": {
     "end_time": "2023-11-18T19:59:54.897333152Z",
     "start_time": "2023-11-18T19:59:54.724643630Z"
    }
   }
  },
  {
   "cell_type": "code",
   "execution_count": 16,
   "outputs": [
    {
     "data": {
      "text/plain": "'$0.7190 \\\\pm 0.07$ & $0.1752 \\\\pm 0.02$ &'"
     },
     "execution_count": 16,
     "metadata": {},
     "output_type": "execute_result"
    }
   ],
   "source": [
    "results"
   ],
   "metadata": {
    "collapsed": false,
    "ExecuteTime": {
     "end_time": "2023-11-18T19:59:54.907115855Z",
     "start_time": "2023-11-18T19:59:54.897890614Z"
    }
   }
  },
  {
   "cell_type": "code",
   "execution_count": 16,
   "outputs": [],
   "source": [],
   "metadata": {
    "collapsed": false,
    "ExecuteTime": {
     "end_time": "2023-11-18T19:59:54.907932047Z",
     "start_time": "2023-11-18T19:59:54.907649594Z"
    }
   }
  }
 ],
 "metadata": {
  "kernelspec": {
   "display_name": "Python 3",
   "language": "python",
   "name": "python3"
  },
  "language_info": {
   "codemirror_mode": {
    "name": "ipython",
    "version": 2
   },
   "file_extension": ".py",
   "mimetype": "text/x-python",
   "name": "python",
   "nbconvert_exporter": "python",
   "pygments_lexer": "ipython2",
   "version": "2.7.6"
  }
 },
 "nbformat": 4,
 "nbformat_minor": 0
}
