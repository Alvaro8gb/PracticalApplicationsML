{
 "cells": [
  {
   "cell_type": "code",
   "execution_count": 1,
   "metadata": {
    "collapsed": true,
    "ExecuteTime": {
     "end_time": "2023-12-01T19:00:12.477010516Z",
     "start_time": "2023-12-01T19:00:12.453845477Z"
    }
   },
   "outputs": [],
   "source": [
    "import sys\n",
    "sys.path.append(\"./../my-staff\")\n",
    "from database import load_ds\n",
    "from sklearn.preprocessing import StandardScaler\n",
    "import pandas as pd\n"
   ]
  },
  {
   "cell_type": "code",
   "execution_count": 2,
   "outputs": [],
   "source": [
    "X, y, features_names, class_names = load_ds(\"clustering\")\n"
   ],
   "metadata": {
    "collapsed": false,
    "ExecuteTime": {
     "end_time": "2023-12-01T19:00:12.739833515Z",
     "start_time": "2023-12-01T19:00:12.696577558Z"
    }
   }
  },
  {
   "cell_type": "code",
   "execution_count": 3,
   "outputs": [],
   "source": [
    "# Create a StandardScaler instance\n",
    "scaler = StandardScaler()\n",
    "\n",
    "# Fit the scaler to the data\n",
    "scaler.fit(X)\n",
    "\n",
    "# Transform the data\n",
    "scaled_data = scaler.transform(X)\n",
    "\n",
    "# If you want to convert the scaled data back to a DataFrame\n",
    "scaled_df = pd.DataFrame(scaled_data, index=X.index, columns=X.columns)"
   ],
   "metadata": {
    "collapsed": false,
    "ExecuteTime": {
     "end_time": "2023-12-01T19:00:13.905820152Z",
     "start_time": "2023-12-01T19:00:13.900357904Z"
    }
   }
  },
  {
   "cell_type": "code",
   "execution_count": 4,
   "outputs": [
    {
     "data": {
      "text/plain": "   N_Days  Drug        Age           Sex  Ascites  Hepatomegaly  Spiders  \\\n0   400.0   0.0  58.805479 -1.387779e-17      1.0           1.0      1.0   \n1  4500.0   0.0  56.484932 -1.387779e-17      0.0           1.0      1.0   \n2  1012.0   0.0  70.120548  1.000000e+00      0.0           0.0      0.0   \n3  1925.0   0.0  54.778082 -1.387779e-17      0.0           1.0      1.0   \n4  1504.0   1.0  38.131507 -1.387779e-17      0.0           1.0      1.0   \n\n   Bilirubin  Cholesterol  Albumin  Copper  Alk_Phos    SGOT  Tryglicerides  \\\n0       14.5        261.0     2.60   156.0    1718.0  137.95          172.0   \n1        1.1        302.0     4.14    54.0    7394.8  113.52           88.0   \n2        1.4        176.0     3.48   210.0     516.0   96.10           55.0   \n3        1.8        244.0     2.54    64.0    6121.8   60.63           92.0   \n4        3.4        279.0     3.53   143.0     671.0  113.15           72.0   \n\n   Platelets  Prothrombin  Stage  Edema_N  Edema_S  Edema_Y  \n0      190.0         12.2    4.0      0.0      0.0      1.0  \n1      221.0         10.6    3.0      1.0      0.0      0.0  \n2      151.0         12.0    4.0      0.0      1.0      0.0  \n3      183.0         10.3    4.0      0.0      1.0      0.0  \n4      136.0         10.9    3.0      1.0      0.0      0.0  ",
      "text/html": "<div>\n<style scoped>\n    .dataframe tbody tr th:only-of-type {\n        vertical-align: middle;\n    }\n\n    .dataframe tbody tr th {\n        vertical-align: top;\n    }\n\n    .dataframe thead th {\n        text-align: right;\n    }\n</style>\n<table border=\"1\" class=\"dataframe\">\n  <thead>\n    <tr style=\"text-align: right;\">\n      <th></th>\n      <th>N_Days</th>\n      <th>Drug</th>\n      <th>Age</th>\n      <th>Sex</th>\n      <th>Ascites</th>\n      <th>Hepatomegaly</th>\n      <th>Spiders</th>\n      <th>Bilirubin</th>\n      <th>Cholesterol</th>\n      <th>Albumin</th>\n      <th>Copper</th>\n      <th>Alk_Phos</th>\n      <th>SGOT</th>\n      <th>Tryglicerides</th>\n      <th>Platelets</th>\n      <th>Prothrombin</th>\n      <th>Stage</th>\n      <th>Edema_N</th>\n      <th>Edema_S</th>\n      <th>Edema_Y</th>\n    </tr>\n  </thead>\n  <tbody>\n    <tr>\n      <th>0</th>\n      <td>400.0</td>\n      <td>0.0</td>\n      <td>58.805479</td>\n      <td>-1.387779e-17</td>\n      <td>1.0</td>\n      <td>1.0</td>\n      <td>1.0</td>\n      <td>14.5</td>\n      <td>261.0</td>\n      <td>2.60</td>\n      <td>156.0</td>\n      <td>1718.0</td>\n      <td>137.95</td>\n      <td>172.0</td>\n      <td>190.0</td>\n      <td>12.2</td>\n      <td>4.0</td>\n      <td>0.0</td>\n      <td>0.0</td>\n      <td>1.0</td>\n    </tr>\n    <tr>\n      <th>1</th>\n      <td>4500.0</td>\n      <td>0.0</td>\n      <td>56.484932</td>\n      <td>-1.387779e-17</td>\n      <td>0.0</td>\n      <td>1.0</td>\n      <td>1.0</td>\n      <td>1.1</td>\n      <td>302.0</td>\n      <td>4.14</td>\n      <td>54.0</td>\n      <td>7394.8</td>\n      <td>113.52</td>\n      <td>88.0</td>\n      <td>221.0</td>\n      <td>10.6</td>\n      <td>3.0</td>\n      <td>1.0</td>\n      <td>0.0</td>\n      <td>0.0</td>\n    </tr>\n    <tr>\n      <th>2</th>\n      <td>1012.0</td>\n      <td>0.0</td>\n      <td>70.120548</td>\n      <td>1.000000e+00</td>\n      <td>0.0</td>\n      <td>0.0</td>\n      <td>0.0</td>\n      <td>1.4</td>\n      <td>176.0</td>\n      <td>3.48</td>\n      <td>210.0</td>\n      <td>516.0</td>\n      <td>96.10</td>\n      <td>55.0</td>\n      <td>151.0</td>\n      <td>12.0</td>\n      <td>4.0</td>\n      <td>0.0</td>\n      <td>1.0</td>\n      <td>0.0</td>\n    </tr>\n    <tr>\n      <th>3</th>\n      <td>1925.0</td>\n      <td>0.0</td>\n      <td>54.778082</td>\n      <td>-1.387779e-17</td>\n      <td>0.0</td>\n      <td>1.0</td>\n      <td>1.0</td>\n      <td>1.8</td>\n      <td>244.0</td>\n      <td>2.54</td>\n      <td>64.0</td>\n      <td>6121.8</td>\n      <td>60.63</td>\n      <td>92.0</td>\n      <td>183.0</td>\n      <td>10.3</td>\n      <td>4.0</td>\n      <td>0.0</td>\n      <td>1.0</td>\n      <td>0.0</td>\n    </tr>\n    <tr>\n      <th>4</th>\n      <td>1504.0</td>\n      <td>1.0</td>\n      <td>38.131507</td>\n      <td>-1.387779e-17</td>\n      <td>0.0</td>\n      <td>1.0</td>\n      <td>1.0</td>\n      <td>3.4</td>\n      <td>279.0</td>\n      <td>3.53</td>\n      <td>143.0</td>\n      <td>671.0</td>\n      <td>113.15</td>\n      <td>72.0</td>\n      <td>136.0</td>\n      <td>10.9</td>\n      <td>3.0</td>\n      <td>1.0</td>\n      <td>0.0</td>\n      <td>0.0</td>\n    </tr>\n  </tbody>\n</table>\n</div>"
     },
     "execution_count": 4,
     "metadata": {},
     "output_type": "execute_result"
    }
   ],
   "source": [
    "\n",
    "reverse  = pd.DataFrame(scaler.inverse_transform(scaled_data), index=X.index, columns=X.columns)\n",
    "reverse.head()"
   ],
   "metadata": {
    "collapsed": false,
    "ExecuteTime": {
     "end_time": "2023-12-01T19:00:15.385978882Z",
     "start_time": "2023-12-01T19:00:15.378469307Z"
    }
   }
  },
  {
   "cell_type": "code",
   "execution_count": 5,
   "outputs": [
    {
     "data": {
      "text/plain": "               count          mean       std       min       25%       50%  \\\nN_Days         312.0  2.277381e-17  1.001606 -1.752473 -0.727042 -0.148788   \nDrug           312.0 -6.689805e-17  1.001606 -0.987261 -0.987261 -0.987261   \nAge            312.0  9.109522e-17  1.001606 -2.247299 -0.736456 -0.021236   \nSex            312.0  0.000000e+00  1.001606 -0.361158 -0.361158 -0.361158   \nAscites        312.0 -4.554761e-17  1.001606 -0.288675 -0.288675 -0.288675   \nHepatomegaly   312.0  9.109522e-17  1.001606 -1.025978 -1.025978  0.974679   \nSpiders        312.0  2.277381e-17  1.001606 -0.636715 -0.636715 -0.636715   \nBilirubin      312.0 -3.985416e-17  1.001606 -0.653561 -0.543016 -0.421417   \nCholesterol    312.0  9.963540e-17  1.001606 -1.129507 -0.514982 -0.215075   \nAlbumin        312.0 -1.138690e-17  1.001606 -3.721209 -0.500932  0.071562   \nCopper         312.0 -7.970832e-17  1.001606 -1.099142 -0.656074 -0.289296   \nAlk_Phos       312.0  2.277381e-17  1.001606 -0.792555 -0.519971 -0.338639   \nSGOT           312.0 -1.821904e-16  1.001606 -1.699501 -0.741166 -0.138784   \nTryglicerides  312.0 -3.700743e-17  1.001606 -1.483195 -0.609796 -0.173097   \nPlatelets      312.0 -5.337611e-16  1.001606 -2.108140 -0.653051 -0.036220   \nProthrombin    312.0  7.287618e-16  1.001606 -1.720973 -0.723678 -0.125301   \nStage          312.0  7.116814e-17  1.001606 -2.318444 -1.177506 -0.036569   \nEdema_N        312.0  2.277381e-17  1.001606 -2.316754  0.431638  0.431638   \nEdema_S        312.0  1.138690e-17  1.001606 -0.320115 -0.320115 -0.320115   \nEdema_Y        312.0  2.277381e-17  1.001606 -0.261712 -0.261712 -0.261712   \n\n                    75%       max  \nN_Days         0.616050  2.273460  \nDrug           1.012904  1.012904  \nAge            0.633793  2.690235  \nSex           -0.361158  2.768875  \nAscites       -0.288675  3.464102  \nHepatomegaly   0.974679  0.974679  \nSpiders        1.570563  1.570563  \nBilirubin      0.037344  5.470626  \nCholesterol    0.102939  6.362496  \nAlbumin        0.667909  2.671637  \nCopper         0.297550  5.755211  \nAlk_Phos      -0.001243  5.559190  \nSGOT           0.518360  5.912418  \nTryglicerides  0.332342  7.655144  \nPlatelets      0.633332  3.174466  \nProthrombin    0.373346  6.357116  \nStage          1.104369  1.104369  \nEdema_N        0.431638  0.431638  \nEdema_S       -0.320115  3.123879  \nEdema_Y       -0.261712  3.820995  ",
      "text/html": "<div>\n<style scoped>\n    .dataframe tbody tr th:only-of-type {\n        vertical-align: middle;\n    }\n\n    .dataframe tbody tr th {\n        vertical-align: top;\n    }\n\n    .dataframe thead th {\n        text-align: right;\n    }\n</style>\n<table border=\"1\" class=\"dataframe\">\n  <thead>\n    <tr style=\"text-align: right;\">\n      <th></th>\n      <th>count</th>\n      <th>mean</th>\n      <th>std</th>\n      <th>min</th>\n      <th>25%</th>\n      <th>50%</th>\n      <th>75%</th>\n      <th>max</th>\n    </tr>\n  </thead>\n  <tbody>\n    <tr>\n      <th>N_Days</th>\n      <td>312.0</td>\n      <td>2.277381e-17</td>\n      <td>1.001606</td>\n      <td>-1.752473</td>\n      <td>-0.727042</td>\n      <td>-0.148788</td>\n      <td>0.616050</td>\n      <td>2.273460</td>\n    </tr>\n    <tr>\n      <th>Drug</th>\n      <td>312.0</td>\n      <td>-6.689805e-17</td>\n      <td>1.001606</td>\n      <td>-0.987261</td>\n      <td>-0.987261</td>\n      <td>-0.987261</td>\n      <td>1.012904</td>\n      <td>1.012904</td>\n    </tr>\n    <tr>\n      <th>Age</th>\n      <td>312.0</td>\n      <td>9.109522e-17</td>\n      <td>1.001606</td>\n      <td>-2.247299</td>\n      <td>-0.736456</td>\n      <td>-0.021236</td>\n      <td>0.633793</td>\n      <td>2.690235</td>\n    </tr>\n    <tr>\n      <th>Sex</th>\n      <td>312.0</td>\n      <td>0.000000e+00</td>\n      <td>1.001606</td>\n      <td>-0.361158</td>\n      <td>-0.361158</td>\n      <td>-0.361158</td>\n      <td>-0.361158</td>\n      <td>2.768875</td>\n    </tr>\n    <tr>\n      <th>Ascites</th>\n      <td>312.0</td>\n      <td>-4.554761e-17</td>\n      <td>1.001606</td>\n      <td>-0.288675</td>\n      <td>-0.288675</td>\n      <td>-0.288675</td>\n      <td>-0.288675</td>\n      <td>3.464102</td>\n    </tr>\n    <tr>\n      <th>Hepatomegaly</th>\n      <td>312.0</td>\n      <td>9.109522e-17</td>\n      <td>1.001606</td>\n      <td>-1.025978</td>\n      <td>-1.025978</td>\n      <td>0.974679</td>\n      <td>0.974679</td>\n      <td>0.974679</td>\n    </tr>\n    <tr>\n      <th>Spiders</th>\n      <td>312.0</td>\n      <td>2.277381e-17</td>\n      <td>1.001606</td>\n      <td>-0.636715</td>\n      <td>-0.636715</td>\n      <td>-0.636715</td>\n      <td>1.570563</td>\n      <td>1.570563</td>\n    </tr>\n    <tr>\n      <th>Bilirubin</th>\n      <td>312.0</td>\n      <td>-3.985416e-17</td>\n      <td>1.001606</td>\n      <td>-0.653561</td>\n      <td>-0.543016</td>\n      <td>-0.421417</td>\n      <td>0.037344</td>\n      <td>5.470626</td>\n    </tr>\n    <tr>\n      <th>Cholesterol</th>\n      <td>312.0</td>\n      <td>9.963540e-17</td>\n      <td>1.001606</td>\n      <td>-1.129507</td>\n      <td>-0.514982</td>\n      <td>-0.215075</td>\n      <td>0.102939</td>\n      <td>6.362496</td>\n    </tr>\n    <tr>\n      <th>Albumin</th>\n      <td>312.0</td>\n      <td>-1.138690e-17</td>\n      <td>1.001606</td>\n      <td>-3.721209</td>\n      <td>-0.500932</td>\n      <td>0.071562</td>\n      <td>0.667909</td>\n      <td>2.671637</td>\n    </tr>\n    <tr>\n      <th>Copper</th>\n      <td>312.0</td>\n      <td>-7.970832e-17</td>\n      <td>1.001606</td>\n      <td>-1.099142</td>\n      <td>-0.656074</td>\n      <td>-0.289296</td>\n      <td>0.297550</td>\n      <td>5.755211</td>\n    </tr>\n    <tr>\n      <th>Alk_Phos</th>\n      <td>312.0</td>\n      <td>2.277381e-17</td>\n      <td>1.001606</td>\n      <td>-0.792555</td>\n      <td>-0.519971</td>\n      <td>-0.338639</td>\n      <td>-0.001243</td>\n      <td>5.559190</td>\n    </tr>\n    <tr>\n      <th>SGOT</th>\n      <td>312.0</td>\n      <td>-1.821904e-16</td>\n      <td>1.001606</td>\n      <td>-1.699501</td>\n      <td>-0.741166</td>\n      <td>-0.138784</td>\n      <td>0.518360</td>\n      <td>5.912418</td>\n    </tr>\n    <tr>\n      <th>Tryglicerides</th>\n      <td>312.0</td>\n      <td>-3.700743e-17</td>\n      <td>1.001606</td>\n      <td>-1.483195</td>\n      <td>-0.609796</td>\n      <td>-0.173097</td>\n      <td>0.332342</td>\n      <td>7.655144</td>\n    </tr>\n    <tr>\n      <th>Platelets</th>\n      <td>312.0</td>\n      <td>-5.337611e-16</td>\n      <td>1.001606</td>\n      <td>-2.108140</td>\n      <td>-0.653051</td>\n      <td>-0.036220</td>\n      <td>0.633332</td>\n      <td>3.174466</td>\n    </tr>\n    <tr>\n      <th>Prothrombin</th>\n      <td>312.0</td>\n      <td>7.287618e-16</td>\n      <td>1.001606</td>\n      <td>-1.720973</td>\n      <td>-0.723678</td>\n      <td>-0.125301</td>\n      <td>0.373346</td>\n      <td>6.357116</td>\n    </tr>\n    <tr>\n      <th>Stage</th>\n      <td>312.0</td>\n      <td>7.116814e-17</td>\n      <td>1.001606</td>\n      <td>-2.318444</td>\n      <td>-1.177506</td>\n      <td>-0.036569</td>\n      <td>1.104369</td>\n      <td>1.104369</td>\n    </tr>\n    <tr>\n      <th>Edema_N</th>\n      <td>312.0</td>\n      <td>2.277381e-17</td>\n      <td>1.001606</td>\n      <td>-2.316754</td>\n      <td>0.431638</td>\n      <td>0.431638</td>\n      <td>0.431638</td>\n      <td>0.431638</td>\n    </tr>\n    <tr>\n      <th>Edema_S</th>\n      <td>312.0</td>\n      <td>1.138690e-17</td>\n      <td>1.001606</td>\n      <td>-0.320115</td>\n      <td>-0.320115</td>\n      <td>-0.320115</td>\n      <td>-0.320115</td>\n      <td>3.123879</td>\n    </tr>\n    <tr>\n      <th>Edema_Y</th>\n      <td>312.0</td>\n      <td>2.277381e-17</td>\n      <td>1.001606</td>\n      <td>-0.261712</td>\n      <td>-0.261712</td>\n      <td>-0.261712</td>\n      <td>-0.261712</td>\n      <td>3.820995</td>\n    </tr>\n  </tbody>\n</table>\n</div>"
     },
     "execution_count": 5,
     "metadata": {},
     "output_type": "execute_result"
    }
   ],
   "source": [
    "scaled_df.describe().transpose()"
   ],
   "metadata": {
    "collapsed": false,
    "ExecuteTime": {
     "end_time": "2023-12-01T19:00:17.338466331Z",
     "start_time": "2023-12-01T19:00:17.315552671Z"
    }
   }
  }
 ],
 "metadata": {
  "kernelspec": {
   "display_name": "Python 3",
   "language": "python",
   "name": "python3"
  },
  "language_info": {
   "codemirror_mode": {
    "name": "ipython",
    "version": 2
   },
   "file_extension": ".py",
   "mimetype": "text/x-python",
   "name": "python",
   "nbconvert_exporter": "python",
   "pygments_lexer": "ipython2",
   "version": "2.7.6"
  }
 },
 "nbformat": 4,
 "nbformat_minor": 0
}
